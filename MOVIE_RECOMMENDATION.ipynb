{
  "nbformat": 4,
  "nbformat_minor": 0,
  "metadata": {
    "colab": {
      "provenance": [],
      "authorship_tag": "ABX9TyOLyr/PR0C4vgpBfcOFZjBQ",
      "include_colab_link": true
    },
    "kernelspec": {
      "name": "python3",
      "display_name": "Python 3"
    },
    "language_info": {
      "name": "python"
    }
  },
  "cells": [
    {
      "cell_type": "markdown",
      "metadata": {
        "id": "view-in-github",
        "colab_type": "text"
      },
      "source": [
        "<a href=\"https://colab.research.google.com/github/rubeus08/Analytics-/blob/main/MOVIE_RECOMMENDATION.ipynb\" target=\"_parent\"><img src=\"https://colab.research.google.com/assets/colab-badge.svg\" alt=\"Open In Colab\"/></a>"
      ]
    },
    {
      "cell_type": "markdown",
      "source": [
        "**MOVIE RECCOMENDATITON SYSTEM**"
      ],
      "metadata": {
        "id": "TyenYegYJqyk"
      }
    },
    {
      "cell_type": "markdown",
      "source": [
        "OBJECTIVE:The objective of a movie recommendation system is to provide users with personalized movie suggestions based on their preferences, behaviors, and interactions. Here are the detailed goals and purposes of such a system:\n",
        "1. Personalization\n",
        "2. Discoverability\n",
        "3. User Engagement:\n",
        "4. Retention\n",
        "5. Efficiency\n",
        "6. Market Analysis\n",
        "7. Revenue Optimization\n",
        "\n",
        "By achieving these objectives, a movie recommendation system can significantly enhance the user experience, drive user engagement, and ultimately contribute to the success of the streaming or movie rental platform."
      ],
      "metadata": {
        "id": "BH-sJ0LzJu2f"
      }
    },
    {
      "cell_type": "markdown",
      "source": [
        "**Import Library**"
      ],
      "metadata": {
        "id": "FOyjt7LyKtBN"
      }
    },
    {
      "cell_type": "code",
      "source": [
        "import pandas as pd\n",
        "import numpy as py\n",
        "import matplotlib.pyplot as plt\n",
        "from sklearn.model_selection import train_test_split\n",
        "from sklearn.metrics import accuracy_score ,confusion_matrix"
      ],
      "metadata": {
        "id": "KTQ51raDh2rq"
      },
      "execution_count": null,
      "outputs": []
    },
    {
      "cell_type": "markdown",
      "source": [
        "Data Source\n"
      ],
      "metadata": {
        "id": "kwuyDGXFK8hf"
      }
    },
    {
      "cell_type": "code",
      "source": [
        "df=pd.read_csv('/content/Movies Recommendation.csv')"
      ],
      "metadata": {
        "id": "FRNTIB-Yh2t7"
      },
      "execution_count": null,
      "outputs": []
    },
    {
      "cell_type": "code",
      "source": [
        "df.info()"
      ],
      "metadata": {
        "colab": {
          "base_uri": "https://localhost:8080/"
        },
        "id": "TZHg558Ah2yl",
        "outputId": "8464331a-fcc4-4986-c857-a3ad38505bce"
      },
      "execution_count": null,
      "outputs": [
        {
          "output_type": "stream",
          "name": "stdout",
          "text": [
            "<class 'pandas.core.frame.DataFrame'>\n",
            "RangeIndex: 4760 entries, 0 to 4759\n",
            "Data columns (total 21 columns):\n",
            " #   Column                    Non-Null Count  Dtype  \n",
            "---  ------                    --------------  -----  \n",
            " 0   Movie_ID                  4760 non-null   int64  \n",
            " 1   Movie_Title               4760 non-null   object \n",
            " 2   Movie_Genre               4760 non-null   object \n",
            " 3   Movie_Language            4760 non-null   object \n",
            " 4   Movie_Budget              4760 non-null   int64  \n",
            " 5   Movie_Popularity          4760 non-null   float64\n",
            " 6   Movie_Release_Date        4760 non-null   object \n",
            " 7   Movie_Revenue             4760 non-null   int64  \n",
            " 8   Movie_Runtime             4758 non-null   float64\n",
            " 9   Movie_Vote                4760 non-null   float64\n",
            " 10  Movie_Vote_Count          4760 non-null   int64  \n",
            " 11  Movie_Homepage            1699 non-null   object \n",
            " 12  Movie_Keywords            4373 non-null   object \n",
            " 13  Movie_Overview            4757 non-null   object \n",
            " 14  Movie_Production_House    4760 non-null   object \n",
            " 15  Movie_Production_Country  4760 non-null   object \n",
            " 16  Movie_Spoken_Language     4760 non-null   object \n",
            " 17  Movie_Tagline             3942 non-null   object \n",
            " 18  Movie_Cast                4733 non-null   object \n",
            " 19  Movie_Crew                4760 non-null   object \n",
            " 20  Movie_Director            4738 non-null   object \n",
            "dtypes: float64(3), int64(4), object(14)\n",
            "memory usage: 781.1+ KB\n"
          ]
        }
      ]
    },
    {
      "cell_type": "markdown",
      "source": [
        "Data Describe"
      ],
      "metadata": {
        "id": "Rp8eOhoDLAGG"
      }
    },
    {
      "cell_type": "code",
      "source": [
        "df.describe()"
      ],
      "metadata": {
        "colab": {
          "base_uri": "https://localhost:8080/",
          "height": 300
        },
        "id": "aHKu_DwWh21A",
        "outputId": "6ed4cdd4-7252-4caf-a1b0-d9c71956b914"
      },
      "execution_count": null,
      "outputs": [
        {
          "output_type": "execute_result",
          "data": {
            "text/plain": [
              "          Movie_ID  Movie_Budget  Movie_Popularity  Movie_Revenue  \\\n",
              "count  4760.000000  4.760000e+03       4760.000000   4.760000e+03   \n",
              "mean   2382.566387  2.920129e+07         21.599510   8.263743e+07   \n",
              "std    1377.270159  4.075620e+07         31.887919   1.630554e+08   \n",
              "min       1.000000  0.000000e+00          0.000372   0.000000e+00   \n",
              "25%    1190.750000  9.257500e+05          4.807074   0.000000e+00   \n",
              "50%    2380.500000  1.500000e+07         13.119058   1.944716e+07   \n",
              "75%    3572.250000  4.000000e+07         28.411929   9.341276e+07   \n",
              "max    4788.000000  3.800000e+08        875.581305   2.787965e+09   \n",
              "\n",
              "       Movie_Runtime   Movie_Vote  Movie_Vote_Count  \n",
              "count    4758.000000  4760.000000       4760.000000  \n",
              "mean      107.184111     6.113866        692.508403  \n",
              "std        21.960332     1.141294       1235.007337  \n",
              "min         0.000000     0.000000          0.000000  \n",
              "25%        94.000000     5.600000         55.000000  \n",
              "50%       104.000000     6.200000        238.000000  \n",
              "75%       118.000000     6.800000        740.250000  \n",
              "max       338.000000    10.000000      13752.000000  "
            ],
            "text/html": [
              "\n",
              "  <div id=\"df-cb132daf-07f2-442f-9bfe-402ffb85c3c3\" class=\"colab-df-container\">\n",
              "    <div>\n",
              "<style scoped>\n",
              "    .dataframe tbody tr th:only-of-type {\n",
              "        vertical-align: middle;\n",
              "    }\n",
              "\n",
              "    .dataframe tbody tr th {\n",
              "        vertical-align: top;\n",
              "    }\n",
              "\n",
              "    .dataframe thead th {\n",
              "        text-align: right;\n",
              "    }\n",
              "</style>\n",
              "<table border=\"1\" class=\"dataframe\">\n",
              "  <thead>\n",
              "    <tr style=\"text-align: right;\">\n",
              "      <th></th>\n",
              "      <th>Movie_ID</th>\n",
              "      <th>Movie_Budget</th>\n",
              "      <th>Movie_Popularity</th>\n",
              "      <th>Movie_Revenue</th>\n",
              "      <th>Movie_Runtime</th>\n",
              "      <th>Movie_Vote</th>\n",
              "      <th>Movie_Vote_Count</th>\n",
              "    </tr>\n",
              "  </thead>\n",
              "  <tbody>\n",
              "    <tr>\n",
              "      <th>count</th>\n",
              "      <td>4760.000000</td>\n",
              "      <td>4.760000e+03</td>\n",
              "      <td>4760.000000</td>\n",
              "      <td>4.760000e+03</td>\n",
              "      <td>4758.000000</td>\n",
              "      <td>4760.000000</td>\n",
              "      <td>4760.000000</td>\n",
              "    </tr>\n",
              "    <tr>\n",
              "      <th>mean</th>\n",
              "      <td>2382.566387</td>\n",
              "      <td>2.920129e+07</td>\n",
              "      <td>21.599510</td>\n",
              "      <td>8.263743e+07</td>\n",
              "      <td>107.184111</td>\n",
              "      <td>6.113866</td>\n",
              "      <td>692.508403</td>\n",
              "    </tr>\n",
              "    <tr>\n",
              "      <th>std</th>\n",
              "      <td>1377.270159</td>\n",
              "      <td>4.075620e+07</td>\n",
              "      <td>31.887919</td>\n",
              "      <td>1.630554e+08</td>\n",
              "      <td>21.960332</td>\n",
              "      <td>1.141294</td>\n",
              "      <td>1235.007337</td>\n",
              "    </tr>\n",
              "    <tr>\n",
              "      <th>min</th>\n",
              "      <td>1.000000</td>\n",
              "      <td>0.000000e+00</td>\n",
              "      <td>0.000372</td>\n",
              "      <td>0.000000e+00</td>\n",
              "      <td>0.000000</td>\n",
              "      <td>0.000000</td>\n",
              "      <td>0.000000</td>\n",
              "    </tr>\n",
              "    <tr>\n",
              "      <th>25%</th>\n",
              "      <td>1190.750000</td>\n",
              "      <td>9.257500e+05</td>\n",
              "      <td>4.807074</td>\n",
              "      <td>0.000000e+00</td>\n",
              "      <td>94.000000</td>\n",
              "      <td>5.600000</td>\n",
              "      <td>55.000000</td>\n",
              "    </tr>\n",
              "    <tr>\n",
              "      <th>50%</th>\n",
              "      <td>2380.500000</td>\n",
              "      <td>1.500000e+07</td>\n",
              "      <td>13.119058</td>\n",
              "      <td>1.944716e+07</td>\n",
              "      <td>104.000000</td>\n",
              "      <td>6.200000</td>\n",
              "      <td>238.000000</td>\n",
              "    </tr>\n",
              "    <tr>\n",
              "      <th>75%</th>\n",
              "      <td>3572.250000</td>\n",
              "      <td>4.000000e+07</td>\n",
              "      <td>28.411929</td>\n",
              "      <td>9.341276e+07</td>\n",
              "      <td>118.000000</td>\n",
              "      <td>6.800000</td>\n",
              "      <td>740.250000</td>\n",
              "    </tr>\n",
              "    <tr>\n",
              "      <th>max</th>\n",
              "      <td>4788.000000</td>\n",
              "      <td>3.800000e+08</td>\n",
              "      <td>875.581305</td>\n",
              "      <td>2.787965e+09</td>\n",
              "      <td>338.000000</td>\n",
              "      <td>10.000000</td>\n",
              "      <td>13752.000000</td>\n",
              "    </tr>\n",
              "  </tbody>\n",
              "</table>\n",
              "</div>\n",
              "    <div class=\"colab-df-buttons\">\n",
              "\n",
              "  <div class=\"colab-df-container\">\n",
              "    <button class=\"colab-df-convert\" onclick=\"convertToInteractive('df-cb132daf-07f2-442f-9bfe-402ffb85c3c3')\"\n",
              "            title=\"Convert this dataframe to an interactive table.\"\n",
              "            style=\"display:none;\">\n",
              "\n",
              "  <svg xmlns=\"http://www.w3.org/2000/svg\" height=\"24px\" viewBox=\"0 -960 960 960\">\n",
              "    <path d=\"M120-120v-720h720v720H120Zm60-500h600v-160H180v160Zm220 220h160v-160H400v160Zm0 220h160v-160H400v160ZM180-400h160v-160H180v160Zm440 0h160v-160H620v160ZM180-180h160v-160H180v160Zm440 0h160v-160H620v160Z\"/>\n",
              "  </svg>\n",
              "    </button>\n",
              "\n",
              "  <style>\n",
              "    .colab-df-container {\n",
              "      display:flex;\n",
              "      gap: 12px;\n",
              "    }\n",
              "\n",
              "    .colab-df-convert {\n",
              "      background-color: #E8F0FE;\n",
              "      border: none;\n",
              "      border-radius: 50%;\n",
              "      cursor: pointer;\n",
              "      display: none;\n",
              "      fill: #1967D2;\n",
              "      height: 32px;\n",
              "      padding: 0 0 0 0;\n",
              "      width: 32px;\n",
              "    }\n",
              "\n",
              "    .colab-df-convert:hover {\n",
              "      background-color: #E2EBFA;\n",
              "      box-shadow: 0px 1px 2px rgba(60, 64, 67, 0.3), 0px 1px 3px 1px rgba(60, 64, 67, 0.15);\n",
              "      fill: #174EA6;\n",
              "    }\n",
              "\n",
              "    .colab-df-buttons div {\n",
              "      margin-bottom: 4px;\n",
              "    }\n",
              "\n",
              "    [theme=dark] .colab-df-convert {\n",
              "      background-color: #3B4455;\n",
              "      fill: #D2E3FC;\n",
              "    }\n",
              "\n",
              "    [theme=dark] .colab-df-convert:hover {\n",
              "      background-color: #434B5C;\n",
              "      box-shadow: 0px 1px 3px 1px rgba(0, 0, 0, 0.15);\n",
              "      filter: drop-shadow(0px 1px 2px rgba(0, 0, 0, 0.3));\n",
              "      fill: #FFFFFF;\n",
              "    }\n",
              "  </style>\n",
              "\n",
              "    <script>\n",
              "      const buttonEl =\n",
              "        document.querySelector('#df-cb132daf-07f2-442f-9bfe-402ffb85c3c3 button.colab-df-convert');\n",
              "      buttonEl.style.display =\n",
              "        google.colab.kernel.accessAllowed ? 'block' : 'none';\n",
              "\n",
              "      async function convertToInteractive(key) {\n",
              "        const element = document.querySelector('#df-cb132daf-07f2-442f-9bfe-402ffb85c3c3');\n",
              "        const dataTable =\n",
              "          await google.colab.kernel.invokeFunction('convertToInteractive',\n",
              "                                                    [key], {});\n",
              "        if (!dataTable) return;\n",
              "\n",
              "        const docLinkHtml = 'Like what you see? Visit the ' +\n",
              "          '<a target=\"_blank\" href=https://colab.research.google.com/notebooks/data_table.ipynb>data table notebook</a>'\n",
              "          + ' to learn more about interactive tables.';\n",
              "        element.innerHTML = '';\n",
              "        dataTable['output_type'] = 'display_data';\n",
              "        await google.colab.output.renderOutput(dataTable, element);\n",
              "        const docLink = document.createElement('div');\n",
              "        docLink.innerHTML = docLinkHtml;\n",
              "        element.appendChild(docLink);\n",
              "      }\n",
              "    </script>\n",
              "  </div>\n",
              "\n",
              "\n",
              "<div id=\"df-c2ab2f65-0fb9-4d75-8206-406dd1750555\">\n",
              "  <button class=\"colab-df-quickchart\" onclick=\"quickchart('df-c2ab2f65-0fb9-4d75-8206-406dd1750555')\"\n",
              "            title=\"Suggest charts\"\n",
              "            style=\"display:none;\">\n",
              "\n",
              "<svg xmlns=\"http://www.w3.org/2000/svg\" height=\"24px\"viewBox=\"0 0 24 24\"\n",
              "     width=\"24px\">\n",
              "    <g>\n",
              "        <path d=\"M19 3H5c-1.1 0-2 .9-2 2v14c0 1.1.9 2 2 2h14c1.1 0 2-.9 2-2V5c0-1.1-.9-2-2-2zM9 17H7v-7h2v7zm4 0h-2V7h2v10zm4 0h-2v-4h2v4z\"/>\n",
              "    </g>\n",
              "</svg>\n",
              "  </button>\n",
              "\n",
              "<style>\n",
              "  .colab-df-quickchart {\n",
              "      --bg-color: #E8F0FE;\n",
              "      --fill-color: #1967D2;\n",
              "      --hover-bg-color: #E2EBFA;\n",
              "      --hover-fill-color: #174EA6;\n",
              "      --disabled-fill-color: #AAA;\n",
              "      --disabled-bg-color: #DDD;\n",
              "  }\n",
              "\n",
              "  [theme=dark] .colab-df-quickchart {\n",
              "      --bg-color: #3B4455;\n",
              "      --fill-color: #D2E3FC;\n",
              "      --hover-bg-color: #434B5C;\n",
              "      --hover-fill-color: #FFFFFF;\n",
              "      --disabled-bg-color: #3B4455;\n",
              "      --disabled-fill-color: #666;\n",
              "  }\n",
              "\n",
              "  .colab-df-quickchart {\n",
              "    background-color: var(--bg-color);\n",
              "    border: none;\n",
              "    border-radius: 50%;\n",
              "    cursor: pointer;\n",
              "    display: none;\n",
              "    fill: var(--fill-color);\n",
              "    height: 32px;\n",
              "    padding: 0;\n",
              "    width: 32px;\n",
              "  }\n",
              "\n",
              "  .colab-df-quickchart:hover {\n",
              "    background-color: var(--hover-bg-color);\n",
              "    box-shadow: 0 1px 2px rgba(60, 64, 67, 0.3), 0 1px 3px 1px rgba(60, 64, 67, 0.15);\n",
              "    fill: var(--button-hover-fill-color);\n",
              "  }\n",
              "\n",
              "  .colab-df-quickchart-complete:disabled,\n",
              "  .colab-df-quickchart-complete:disabled:hover {\n",
              "    background-color: var(--disabled-bg-color);\n",
              "    fill: var(--disabled-fill-color);\n",
              "    box-shadow: none;\n",
              "  }\n",
              "\n",
              "  .colab-df-spinner {\n",
              "    border: 2px solid var(--fill-color);\n",
              "    border-color: transparent;\n",
              "    border-bottom-color: var(--fill-color);\n",
              "    animation:\n",
              "      spin 1s steps(1) infinite;\n",
              "  }\n",
              "\n",
              "  @keyframes spin {\n",
              "    0% {\n",
              "      border-color: transparent;\n",
              "      border-bottom-color: var(--fill-color);\n",
              "      border-left-color: var(--fill-color);\n",
              "    }\n",
              "    20% {\n",
              "      border-color: transparent;\n",
              "      border-left-color: var(--fill-color);\n",
              "      border-top-color: var(--fill-color);\n",
              "    }\n",
              "    30% {\n",
              "      border-color: transparent;\n",
              "      border-left-color: var(--fill-color);\n",
              "      border-top-color: var(--fill-color);\n",
              "      border-right-color: var(--fill-color);\n",
              "    }\n",
              "    40% {\n",
              "      border-color: transparent;\n",
              "      border-right-color: var(--fill-color);\n",
              "      border-top-color: var(--fill-color);\n",
              "    }\n",
              "    60% {\n",
              "      border-color: transparent;\n",
              "      border-right-color: var(--fill-color);\n",
              "    }\n",
              "    80% {\n",
              "      border-color: transparent;\n",
              "      border-right-color: var(--fill-color);\n",
              "      border-bottom-color: var(--fill-color);\n",
              "    }\n",
              "    90% {\n",
              "      border-color: transparent;\n",
              "      border-bottom-color: var(--fill-color);\n",
              "    }\n",
              "  }\n",
              "</style>\n",
              "\n",
              "  <script>\n",
              "    async function quickchart(key) {\n",
              "      const quickchartButtonEl =\n",
              "        document.querySelector('#' + key + ' button');\n",
              "      quickchartButtonEl.disabled = true;  // To prevent multiple clicks.\n",
              "      quickchartButtonEl.classList.add('colab-df-spinner');\n",
              "      try {\n",
              "        const charts = await google.colab.kernel.invokeFunction(\n",
              "            'suggestCharts', [key], {});\n",
              "      } catch (error) {\n",
              "        console.error('Error during call to suggestCharts:', error);\n",
              "      }\n",
              "      quickchartButtonEl.classList.remove('colab-df-spinner');\n",
              "      quickchartButtonEl.classList.add('colab-df-quickchart-complete');\n",
              "    }\n",
              "    (() => {\n",
              "      let quickchartButtonEl =\n",
              "        document.querySelector('#df-c2ab2f65-0fb9-4d75-8206-406dd1750555 button');\n",
              "      quickchartButtonEl.style.display =\n",
              "        google.colab.kernel.accessAllowed ? 'block' : 'none';\n",
              "    })();\n",
              "  </script>\n",
              "</div>\n",
              "\n",
              "    </div>\n",
              "  </div>\n"
            ],
            "application/vnd.google.colaboratory.intrinsic+json": {
              "type": "dataframe",
              "summary": "{\n  \"name\": \"df\",\n  \"rows\": 8,\n  \"fields\": [\n    {\n      \"column\": \"Movie_ID\",\n      \"properties\": {\n        \"dtype\": \"number\",\n        \"std\": 1720.2332807214548,\n        \"min\": 1.0,\n        \"max\": 4788.0,\n        \"num_unique_values\": 8,\n        \"samples\": [\n          2382.5663865546217,\n          2380.5,\n          4760.0\n        ],\n        \"semantic_type\": \"\",\n        \"description\": \"\"\n      }\n    },\n    {\n      \"column\": \"Movie_Budget\",\n      \"properties\": {\n        \"dtype\": \"number\",\n        \"std\": 129145160.11869688,\n        \"min\": 0.0,\n        \"max\": 380000000.0,\n        \"num_unique_values\": 8,\n        \"samples\": [\n          29201287.084033612,\n          15000000.0,\n          4760.0\n        ],\n        \"semantic_type\": \"\",\n        \"description\": \"\"\n      }\n    },\n    {\n      \"column\": \"Movie_Popularity\",\n      \"properties\": {\n        \"dtype\": \"number\",\n        \"std\": 1661.1040447605237,\n        \"min\": 0.000372,\n        \"max\": 4760.0,\n        \"num_unique_values\": 8,\n        \"samples\": [\n          21.599509934663867,\n          13.119057999999999,\n          4760.0\n        ],\n        \"semantic_type\": \"\",\n        \"description\": \"\"\n      }\n    },\n    {\n      \"column\": \"Movie_Revenue\",\n      \"properties\": {\n        \"dtype\": \"number\",\n        \"std\": 969366059.9423022,\n        \"min\": 0.0,\n        \"max\": 2787965087.0,\n        \"num_unique_values\": 7,\n        \"samples\": [\n          4760.0,\n          82637425.44285715,\n          93412759.75\n        ],\n        \"semantic_type\": \"\",\n        \"description\": \"\"\n      }\n    },\n    {\n      \"column\": \"Movie_Runtime\",\n      \"properties\": {\n        \"dtype\": \"number\",\n        \"std\": 1645.7876738678387,\n        \"min\": 0.0,\n        \"max\": 4758.0,\n        \"num_unique_values\": 8,\n        \"samples\": [\n          107.18411097099622,\n          104.0,\n          4758.0\n        ],\n        \"semantic_type\": \"\",\n        \"description\": \"\"\n      }\n    },\n    {\n      \"column\": \"Movie_Vote\",\n      \"properties\": {\n        \"dtype\": \"number\",\n        \"std\": 1681.106199712945,\n        \"min\": 0.0,\n        \"max\": 4760.0,\n        \"num_unique_values\": 8,\n        \"samples\": [\n          6.113865546218487,\n          6.2,\n          4760.0\n        ],\n        \"semantic_type\": \"\",\n        \"description\": \"\"\n      }\n    },\n    {\n      \"column\": \"Movie_Vote_Count\",\n      \"properties\": {\n        \"dtype\": \"number\",\n        \"std\": 4732.148341860835,\n        \"min\": 0.0,\n        \"max\": 13752.0,\n        \"num_unique_values\": 8,\n        \"samples\": [\n          692.5084033613446,\n          238.0,\n          4760.0\n        ],\n        \"semantic_type\": \"\",\n        \"description\": \"\"\n      }\n    }\n  ]\n}"
            }
          },
          "metadata": {},
          "execution_count": 4
        }
      ]
    },
    {
      "cell_type": "code",
      "source": [
        "df.columns"
      ],
      "metadata": {
        "colab": {
          "base_uri": "https://localhost:8080/"
        },
        "id": "Vr0NHxNOh23T",
        "outputId": "0f64d08f-d59c-4c40-c49a-8922fb1bb9fd"
      },
      "execution_count": null,
      "outputs": [
        {
          "output_type": "execute_result",
          "data": {
            "text/plain": [
              "Index(['Movie_ID', 'Movie_Title', 'Movie_Genre', 'Movie_Language',\n",
              "       'Movie_Budget', 'Movie_Popularity', 'Movie_Release_Date',\n",
              "       'Movie_Revenue', 'Movie_Runtime', 'Movie_Vote', 'Movie_Vote_Count',\n",
              "       'Movie_Homepage', 'Movie_Keywords', 'Movie_Overview',\n",
              "       'Movie_Production_House', 'Movie_Production_Country',\n",
              "       'Movie_Spoken_Language', 'Movie_Tagline', 'Movie_Cast', 'Movie_Crew',\n",
              "       'Movie_Director'],\n",
              "      dtype='object')"
            ]
          },
          "metadata": {},
          "execution_count": 5
        }
      ]
    },
    {
      "cell_type": "code",
      "source": [
        "df.shape"
      ],
      "metadata": {
        "colab": {
          "base_uri": "https://localhost:8080/"
        },
        "id": "Q0L82hteh25k",
        "outputId": "6f3db354-dcba-4e10-e74a-e61edf540233"
      },
      "execution_count": null,
      "outputs": [
        {
          "output_type": "execute_result",
          "data": {
            "text/plain": [
              "(4760, 21)"
            ]
          },
          "metadata": {},
          "execution_count": 6
        }
      ]
    },
    {
      "cell_type": "markdown",
      "source": [
        "**Feature Selection**"
      ],
      "metadata": {
        "id": "Wx2OErd2gGWc"
      }
    },
    {
      "cell_type": "code",
      "source": [
        "df_features=df[['Movie_Genre','Movie_Runtime','Movie_Keywords', 'Movie_Spoken_Language','Movie_Cast', 'Movie_Director']]"
      ],
      "metadata": {
        "id": "82JFI2WEh2-c"
      },
      "execution_count": null,
      "outputs": []
    },
    {
      "cell_type": "code",
      "source": [
        "df_features.shape\n"
      ],
      "metadata": {
        "colab": {
          "base_uri": "https://localhost:8080/"
        },
        "id": "HB3o3i6D_5-H",
        "outputId": "8092c5a2-73c6-4dc2-e7e8-5fac8d9319c8"
      },
      "execution_count": null,
      "outputs": [
        {
          "output_type": "execute_result",
          "data": {
            "text/plain": [
              "(4760, 6)"
            ]
          },
          "metadata": {},
          "execution_count": 8
        }
      ]
    },
    {
      "cell_type": "code",
      "source": [
        "df_features.columns"
      ],
      "metadata": {
        "colab": {
          "base_uri": "https://localhost:8080/"
        },
        "id": "fs38T1Y6_56g",
        "outputId": "1a550f16-f148-447c-fedc-1a989153ad19"
      },
      "execution_count": null,
      "outputs": [
        {
          "output_type": "execute_result",
          "data": {
            "text/plain": [
              "Index(['Movie_Genre', 'Movie_Runtime', 'Movie_Keywords',\n",
              "       'Movie_Spoken_Language', 'Movie_Cast', 'Movie_Director'],\n",
              "      dtype='object')"
            ]
          },
          "metadata": {},
          "execution_count": 9
        }
      ]
    },
    {
      "cell_type": "code",
      "source": [
        "df_features"
      ],
      "metadata": {
        "colab": {
          "base_uri": "https://localhost:8080/",
          "height": 597
        },
        "id": "hlB2_h0L_55D",
        "outputId": "1917986a-3593-4bf7-c9dc-93dc2496e321"
      },
      "execution_count": null,
      "outputs": [
        {
          "output_type": "execute_result",
          "data": {
            "text/plain": [
              "                           Movie_Genre  Movie_Runtime  \\\n",
              "0                         Crime Comedy           98.0   \n",
              "1     Adventure Action Science Fiction          121.0   \n",
              "2                     Animation Family          100.0   \n",
              "3                 Comedy Drama Romance          142.0   \n",
              "4                                Drama          122.0   \n",
              "...                                ...            ...   \n",
              "4755                            Horror           94.0   \n",
              "4756               Comedy Family Drama          102.0   \n",
              "4757                    Thriller Drama           90.0   \n",
              "4758                            Family           88.0   \n",
              "4759                       Documentary            NaN   \n",
              "\n",
              "                                         Movie_Keywords  \\\n",
              "0             hotel new year's eve witch bet hotel room   \n",
              "1           android galaxy hermit death star lightsaber   \n",
              "2     father son relationship harbor underwater fish...   \n",
              "3     vietnam veteran hippie mentally disabled runni...   \n",
              "4     male nudity female nudity adultery midlife cri...   \n",
              "...                                                 ...   \n",
              "4755                                                NaN   \n",
              "4756                                                NaN   \n",
              "4757                     christian film sex trafficking   \n",
              "4758                                                NaN   \n",
              "4759  music actors legendary perfomer classic hollyw...   \n",
              "\n",
              "                         Movie_Spoken_Language  \\\n",
              "0     [{\"iso_639_1\": \"en\", \"name\": \"English\"}]   \n",
              "1     [{\"iso_639_1\": \"en\", \"name\": \"English\"}]   \n",
              "2     [{\"iso_639_1\": \"en\", \"name\": \"English\"}]   \n",
              "3     [{\"iso_639_1\": \"en\", \"name\": \"English\"}]   \n",
              "4     [{\"iso_639_1\": \"en\", \"name\": \"English\"}]   \n",
              "...                                        ...   \n",
              "4755  [{\"iso_639_1\": \"en\", \"name\": \"English\"}]   \n",
              "4756  [{\"iso_639_1\": \"en\", \"name\": \"English\"}]   \n",
              "4757  [{\"iso_639_1\": \"en\", \"name\": \"English\"}]   \n",
              "4758                                        []   \n",
              "4759                                        []   \n",
              "\n",
              "                                             Movie_Cast     Movie_Director  \n",
              "0     Tim Roth Antonio Banderas Jennifer Beals Madon...     Allison Anders  \n",
              "1     Mark Hamill Harrison Ford Carrie Fisher Peter ...       George Lucas  \n",
              "2     Albert Brooks Ellen DeGeneres Alexander Gould ...     Andrew Stanton  \n",
              "3     Tom Hanks Robin Wright Gary Sinise Mykelti Wil...    Robert Zemeckis  \n",
              "4     Kevin Spacey Annette Bening Thora Birch Wes Be...         Sam Mendes  \n",
              "...                                                 ...                ...  \n",
              "4755  Lisa Hart Carroll Michael Des Barres Paul Drak...         Pece Dingo  \n",
              "4756  Roni Akurati Brighton Sharbino Jason Lee Anjul...       Frank Lotito  \n",
              "4757  Nicole Smolen Kim Baldwin Ariana Stephens Brys...       Jaco Booyens  \n",
              "4758                                                NaN                NaN  \n",
              "4759                                    Tony Oppedisano  Simon Napier-Bell  \n",
              "\n",
              "[4760 rows x 6 columns]"
            ],
            "text/html": [
              "\n",
              "  <div id=\"df-6a59062d-e7ec-485a-afc6-0c49aaf32413\" class=\"colab-df-container\">\n",
              "    <div>\n",
              "<style scoped>\n",
              "    .dataframe tbody tr th:only-of-type {\n",
              "        vertical-align: middle;\n",
              "    }\n",
              "\n",
              "    .dataframe tbody tr th {\n",
              "        vertical-align: top;\n",
              "    }\n",
              "\n",
              "    .dataframe thead th {\n",
              "        text-align: right;\n",
              "    }\n",
              "</style>\n",
              "<table border=\"1\" class=\"dataframe\">\n",
              "  <thead>\n",
              "    <tr style=\"text-align: right;\">\n",
              "      <th></th>\n",
              "      <th>Movie_Genre</th>\n",
              "      <th>Movie_Runtime</th>\n",
              "      <th>Movie_Keywords</th>\n",
              "      <th>Movie_Spoken_Language</th>\n",
              "      <th>Movie_Cast</th>\n",
              "      <th>Movie_Director</th>\n",
              "    </tr>\n",
              "  </thead>\n",
              "  <tbody>\n",
              "    <tr>\n",
              "      <th>0</th>\n",
              "      <td>Crime Comedy</td>\n",
              "      <td>98.0</td>\n",
              "      <td>hotel new year's eve witch bet hotel room</td>\n",
              "      <td>[{\"iso_639_1\": \"en\", \"name\": \"English\"}]</td>\n",
              "      <td>Tim Roth Antonio Banderas Jennifer Beals Madon...</td>\n",
              "      <td>Allison Anders</td>\n",
              "    </tr>\n",
              "    <tr>\n",
              "      <th>1</th>\n",
              "      <td>Adventure Action Science Fiction</td>\n",
              "      <td>121.0</td>\n",
              "      <td>android galaxy hermit death star lightsaber</td>\n",
              "      <td>[{\"iso_639_1\": \"en\", \"name\": \"English\"}]</td>\n",
              "      <td>Mark Hamill Harrison Ford Carrie Fisher Peter ...</td>\n",
              "      <td>George Lucas</td>\n",
              "    </tr>\n",
              "    <tr>\n",
              "      <th>2</th>\n",
              "      <td>Animation Family</td>\n",
              "      <td>100.0</td>\n",
              "      <td>father son relationship harbor underwater fish...</td>\n",
              "      <td>[{\"iso_639_1\": \"en\", \"name\": \"English\"}]</td>\n",
              "      <td>Albert Brooks Ellen DeGeneres Alexander Gould ...</td>\n",
              "      <td>Andrew Stanton</td>\n",
              "    </tr>\n",
              "    <tr>\n",
              "      <th>3</th>\n",
              "      <td>Comedy Drama Romance</td>\n",
              "      <td>142.0</td>\n",
              "      <td>vietnam veteran hippie mentally disabled runni...</td>\n",
              "      <td>[{\"iso_639_1\": \"en\", \"name\": \"English\"}]</td>\n",
              "      <td>Tom Hanks Robin Wright Gary Sinise Mykelti Wil...</td>\n",
              "      <td>Robert Zemeckis</td>\n",
              "    </tr>\n",
              "    <tr>\n",
              "      <th>4</th>\n",
              "      <td>Drama</td>\n",
              "      <td>122.0</td>\n",
              "      <td>male nudity female nudity adultery midlife cri...</td>\n",
              "      <td>[{\"iso_639_1\": \"en\", \"name\": \"English\"}]</td>\n",
              "      <td>Kevin Spacey Annette Bening Thora Birch Wes Be...</td>\n",
              "      <td>Sam Mendes</td>\n",
              "    </tr>\n",
              "    <tr>\n",
              "      <th>...</th>\n",
              "      <td>...</td>\n",
              "      <td>...</td>\n",
              "      <td>...</td>\n",
              "      <td>...</td>\n",
              "      <td>...</td>\n",
              "      <td>...</td>\n",
              "    </tr>\n",
              "    <tr>\n",
              "      <th>4755</th>\n",
              "      <td>Horror</td>\n",
              "      <td>94.0</td>\n",
              "      <td>NaN</td>\n",
              "      <td>[{\"iso_639_1\": \"en\", \"name\": \"English\"}]</td>\n",
              "      <td>Lisa Hart Carroll Michael Des Barres Paul Drak...</td>\n",
              "      <td>Pece Dingo</td>\n",
              "    </tr>\n",
              "    <tr>\n",
              "      <th>4756</th>\n",
              "      <td>Comedy Family Drama</td>\n",
              "      <td>102.0</td>\n",
              "      <td>NaN</td>\n",
              "      <td>[{\"iso_639_1\": \"en\", \"name\": \"English\"}]</td>\n",
              "      <td>Roni Akurati Brighton Sharbino Jason Lee Anjul...</td>\n",
              "      <td>Frank Lotito</td>\n",
              "    </tr>\n",
              "    <tr>\n",
              "      <th>4757</th>\n",
              "      <td>Thriller Drama</td>\n",
              "      <td>90.0</td>\n",
              "      <td>christian film sex trafficking</td>\n",
              "      <td>[{\"iso_639_1\": \"en\", \"name\": \"English\"}]</td>\n",
              "      <td>Nicole Smolen Kim Baldwin Ariana Stephens Brys...</td>\n",
              "      <td>Jaco Booyens</td>\n",
              "    </tr>\n",
              "    <tr>\n",
              "      <th>4758</th>\n",
              "      <td>Family</td>\n",
              "      <td>88.0</td>\n",
              "      <td>NaN</td>\n",
              "      <td>[]</td>\n",
              "      <td>NaN</td>\n",
              "      <td>NaN</td>\n",
              "    </tr>\n",
              "    <tr>\n",
              "      <th>4759</th>\n",
              "      <td>Documentary</td>\n",
              "      <td>NaN</td>\n",
              "      <td>music actors legendary perfomer classic hollyw...</td>\n",
              "      <td>[]</td>\n",
              "      <td>Tony Oppedisano</td>\n",
              "      <td>Simon Napier-Bell</td>\n",
              "    </tr>\n",
              "  </tbody>\n",
              "</table>\n",
              "<p>4760 rows × 6 columns</p>\n",
              "</div>\n",
              "    <div class=\"colab-df-buttons\">\n",
              "\n",
              "  <div class=\"colab-df-container\">\n",
              "    <button class=\"colab-df-convert\" onclick=\"convertToInteractive('df-6a59062d-e7ec-485a-afc6-0c49aaf32413')\"\n",
              "            title=\"Convert this dataframe to an interactive table.\"\n",
              "            style=\"display:none;\">\n",
              "\n",
              "  <svg xmlns=\"http://www.w3.org/2000/svg\" height=\"24px\" viewBox=\"0 -960 960 960\">\n",
              "    <path d=\"M120-120v-720h720v720H120Zm60-500h600v-160H180v160Zm220 220h160v-160H400v160Zm0 220h160v-160H400v160ZM180-400h160v-160H180v160Zm440 0h160v-160H620v160ZM180-180h160v-160H180v160Zm440 0h160v-160H620v160Z\"/>\n",
              "  </svg>\n",
              "    </button>\n",
              "\n",
              "  <style>\n",
              "    .colab-df-container {\n",
              "      display:flex;\n",
              "      gap: 12px;\n",
              "    }\n",
              "\n",
              "    .colab-df-convert {\n",
              "      background-color: #E8F0FE;\n",
              "      border: none;\n",
              "      border-radius: 50%;\n",
              "      cursor: pointer;\n",
              "      display: none;\n",
              "      fill: #1967D2;\n",
              "      height: 32px;\n",
              "      padding: 0 0 0 0;\n",
              "      width: 32px;\n",
              "    }\n",
              "\n",
              "    .colab-df-convert:hover {\n",
              "      background-color: #E2EBFA;\n",
              "      box-shadow: 0px 1px 2px rgba(60, 64, 67, 0.3), 0px 1px 3px 1px rgba(60, 64, 67, 0.15);\n",
              "      fill: #174EA6;\n",
              "    }\n",
              "\n",
              "    .colab-df-buttons div {\n",
              "      margin-bottom: 4px;\n",
              "    }\n",
              "\n",
              "    [theme=dark] .colab-df-convert {\n",
              "      background-color: #3B4455;\n",
              "      fill: #D2E3FC;\n",
              "    }\n",
              "\n",
              "    [theme=dark] .colab-df-convert:hover {\n",
              "      background-color: #434B5C;\n",
              "      box-shadow: 0px 1px 3px 1px rgba(0, 0, 0, 0.15);\n",
              "      filter: drop-shadow(0px 1px 2px rgba(0, 0, 0, 0.3));\n",
              "      fill: #FFFFFF;\n",
              "    }\n",
              "  </style>\n",
              "\n",
              "    <script>\n",
              "      const buttonEl =\n",
              "        document.querySelector('#df-6a59062d-e7ec-485a-afc6-0c49aaf32413 button.colab-df-convert');\n",
              "      buttonEl.style.display =\n",
              "        google.colab.kernel.accessAllowed ? 'block' : 'none';\n",
              "\n",
              "      async function convertToInteractive(key) {\n",
              "        const element = document.querySelector('#df-6a59062d-e7ec-485a-afc6-0c49aaf32413');\n",
              "        const dataTable =\n",
              "          await google.colab.kernel.invokeFunction('convertToInteractive',\n",
              "                                                    [key], {});\n",
              "        if (!dataTable) return;\n",
              "\n",
              "        const docLinkHtml = 'Like what you see? Visit the ' +\n",
              "          '<a target=\"_blank\" href=https://colab.research.google.com/notebooks/data_table.ipynb>data table notebook</a>'\n",
              "          + ' to learn more about interactive tables.';\n",
              "        element.innerHTML = '';\n",
              "        dataTable['output_type'] = 'display_data';\n",
              "        await google.colab.output.renderOutput(dataTable, element);\n",
              "        const docLink = document.createElement('div');\n",
              "        docLink.innerHTML = docLinkHtml;\n",
              "        element.appendChild(docLink);\n",
              "      }\n",
              "    </script>\n",
              "  </div>\n",
              "\n",
              "\n",
              "<div id=\"df-5d3653f0-1b20-4cbf-8e9c-40d70a5b4f45\">\n",
              "  <button class=\"colab-df-quickchart\" onclick=\"quickchart('df-5d3653f0-1b20-4cbf-8e9c-40d70a5b4f45')\"\n",
              "            title=\"Suggest charts\"\n",
              "            style=\"display:none;\">\n",
              "\n",
              "<svg xmlns=\"http://www.w3.org/2000/svg\" height=\"24px\"viewBox=\"0 0 24 24\"\n",
              "     width=\"24px\">\n",
              "    <g>\n",
              "        <path d=\"M19 3H5c-1.1 0-2 .9-2 2v14c0 1.1.9 2 2 2h14c1.1 0 2-.9 2-2V5c0-1.1-.9-2-2-2zM9 17H7v-7h2v7zm4 0h-2V7h2v10zm4 0h-2v-4h2v4z\"/>\n",
              "    </g>\n",
              "</svg>\n",
              "  </button>\n",
              "\n",
              "<style>\n",
              "  .colab-df-quickchart {\n",
              "      --bg-color: #E8F0FE;\n",
              "      --fill-color: #1967D2;\n",
              "      --hover-bg-color: #E2EBFA;\n",
              "      --hover-fill-color: #174EA6;\n",
              "      --disabled-fill-color: #AAA;\n",
              "      --disabled-bg-color: #DDD;\n",
              "  }\n",
              "\n",
              "  [theme=dark] .colab-df-quickchart {\n",
              "      --bg-color: #3B4455;\n",
              "      --fill-color: #D2E3FC;\n",
              "      --hover-bg-color: #434B5C;\n",
              "      --hover-fill-color: #FFFFFF;\n",
              "      --disabled-bg-color: #3B4455;\n",
              "      --disabled-fill-color: #666;\n",
              "  }\n",
              "\n",
              "  .colab-df-quickchart {\n",
              "    background-color: var(--bg-color);\n",
              "    border: none;\n",
              "    border-radius: 50%;\n",
              "    cursor: pointer;\n",
              "    display: none;\n",
              "    fill: var(--fill-color);\n",
              "    height: 32px;\n",
              "    padding: 0;\n",
              "    width: 32px;\n",
              "  }\n",
              "\n",
              "  .colab-df-quickchart:hover {\n",
              "    background-color: var(--hover-bg-color);\n",
              "    box-shadow: 0 1px 2px rgba(60, 64, 67, 0.3), 0 1px 3px 1px rgba(60, 64, 67, 0.15);\n",
              "    fill: var(--button-hover-fill-color);\n",
              "  }\n",
              "\n",
              "  .colab-df-quickchart-complete:disabled,\n",
              "  .colab-df-quickchart-complete:disabled:hover {\n",
              "    background-color: var(--disabled-bg-color);\n",
              "    fill: var(--disabled-fill-color);\n",
              "    box-shadow: none;\n",
              "  }\n",
              "\n",
              "  .colab-df-spinner {\n",
              "    border: 2px solid var(--fill-color);\n",
              "    border-color: transparent;\n",
              "    border-bottom-color: var(--fill-color);\n",
              "    animation:\n",
              "      spin 1s steps(1) infinite;\n",
              "  }\n",
              "\n",
              "  @keyframes spin {\n",
              "    0% {\n",
              "      border-color: transparent;\n",
              "      border-bottom-color: var(--fill-color);\n",
              "      border-left-color: var(--fill-color);\n",
              "    }\n",
              "    20% {\n",
              "      border-color: transparent;\n",
              "      border-left-color: var(--fill-color);\n",
              "      border-top-color: var(--fill-color);\n",
              "    }\n",
              "    30% {\n",
              "      border-color: transparent;\n",
              "      border-left-color: var(--fill-color);\n",
              "      border-top-color: var(--fill-color);\n",
              "      border-right-color: var(--fill-color);\n",
              "    }\n",
              "    40% {\n",
              "      border-color: transparent;\n",
              "      border-right-color: var(--fill-color);\n",
              "      border-top-color: var(--fill-color);\n",
              "    }\n",
              "    60% {\n",
              "      border-color: transparent;\n",
              "      border-right-color: var(--fill-color);\n",
              "    }\n",
              "    80% {\n",
              "      border-color: transparent;\n",
              "      border-right-color: var(--fill-color);\n",
              "      border-bottom-color: var(--fill-color);\n",
              "    }\n",
              "    90% {\n",
              "      border-color: transparent;\n",
              "      border-bottom-color: var(--fill-color);\n",
              "    }\n",
              "  }\n",
              "</style>\n",
              "\n",
              "  <script>\n",
              "    async function quickchart(key) {\n",
              "      const quickchartButtonEl =\n",
              "        document.querySelector('#' + key + ' button');\n",
              "      quickchartButtonEl.disabled = true;  // To prevent multiple clicks.\n",
              "      quickchartButtonEl.classList.add('colab-df-spinner');\n",
              "      try {\n",
              "        const charts = await google.colab.kernel.invokeFunction(\n",
              "            'suggestCharts', [key], {});\n",
              "      } catch (error) {\n",
              "        console.error('Error during call to suggestCharts:', error);\n",
              "      }\n",
              "      quickchartButtonEl.classList.remove('colab-df-spinner');\n",
              "      quickchartButtonEl.classList.add('colab-df-quickchart-complete');\n",
              "    }\n",
              "    (() => {\n",
              "      let quickchartButtonEl =\n",
              "        document.querySelector('#df-5d3653f0-1b20-4cbf-8e9c-40d70a5b4f45 button');\n",
              "      quickchartButtonEl.style.display =\n",
              "        google.colab.kernel.accessAllowed ? 'block' : 'none';\n",
              "    })();\n",
              "  </script>\n",
              "</div>\n",
              "\n",
              "  <div id=\"id_d5cd7d59-32ea-4601-9e90-f1f5433e3d27\">\n",
              "    <style>\n",
              "      .colab-df-generate {\n",
              "        background-color: #E8F0FE;\n",
              "        border: none;\n",
              "        border-radius: 50%;\n",
              "        cursor: pointer;\n",
              "        display: none;\n",
              "        fill: #1967D2;\n",
              "        height: 32px;\n",
              "        padding: 0 0 0 0;\n",
              "        width: 32px;\n",
              "      }\n",
              "\n",
              "      .colab-df-generate:hover {\n",
              "        background-color: #E2EBFA;\n",
              "        box-shadow: 0px 1px 2px rgba(60, 64, 67, 0.3), 0px 1px 3px 1px rgba(60, 64, 67, 0.15);\n",
              "        fill: #174EA6;\n",
              "      }\n",
              "\n",
              "      [theme=dark] .colab-df-generate {\n",
              "        background-color: #3B4455;\n",
              "        fill: #D2E3FC;\n",
              "      }\n",
              "\n",
              "      [theme=dark] .colab-df-generate:hover {\n",
              "        background-color: #434B5C;\n",
              "        box-shadow: 0px 1px 3px 1px rgba(0, 0, 0, 0.15);\n",
              "        filter: drop-shadow(0px 1px 2px rgba(0, 0, 0, 0.3));\n",
              "        fill: #FFFFFF;\n",
              "      }\n",
              "    </style>\n",
              "    <button class=\"colab-df-generate\" onclick=\"generateWithVariable('df_features')\"\n",
              "            title=\"Generate code using this dataframe.\"\n",
              "            style=\"display:none;\">\n",
              "\n",
              "  <svg xmlns=\"http://www.w3.org/2000/svg\" height=\"24px\"viewBox=\"0 0 24 24\"\n",
              "       width=\"24px\">\n",
              "    <path d=\"M7,19H8.4L18.45,9,17,7.55,7,17.6ZM5,21V16.75L18.45,3.32a2,2,0,0,1,2.83,0l1.4,1.43a1.91,1.91,0,0,1,.58,1.4,1.91,1.91,0,0,1-.58,1.4L9.25,21ZM18.45,9,17,7.55Zm-12,3A5.31,5.31,0,0,0,4.9,8.1,5.31,5.31,0,0,0,1,6.5,5.31,5.31,0,0,0,4.9,4.9,5.31,5.31,0,0,0,6.5,1,5.31,5.31,0,0,0,8.1,4.9,5.31,5.31,0,0,0,12,6.5,5.46,5.46,0,0,0,6.5,12Z\"/>\n",
              "  </svg>\n",
              "    </button>\n",
              "    <script>\n",
              "      (() => {\n",
              "      const buttonEl =\n",
              "        document.querySelector('#id_d5cd7d59-32ea-4601-9e90-f1f5433e3d27 button.colab-df-generate');\n",
              "      buttonEl.style.display =\n",
              "        google.colab.kernel.accessAllowed ? 'block' : 'none';\n",
              "\n",
              "      buttonEl.onclick = () => {\n",
              "        google.colab.notebook.generateWithVariable('df_features');\n",
              "      }\n",
              "      })();\n",
              "    </script>\n",
              "  </div>\n",
              "\n",
              "    </div>\n",
              "  </div>\n"
            ],
            "application/vnd.google.colaboratory.intrinsic+json": {
              "type": "dataframe",
              "variable_name": "df_features",
              "summary": "{\n  \"name\": \"df_features\",\n  \"rows\": 4760,\n  \"fields\": [\n    {\n      \"column\": \"Movie_Genre\",\n      \"properties\": {\n        \"dtype\": \"category\",\n        \"num_unique_values\": 1164,\n        \"samples\": [\n          \"Family Animation Adventure\",\n          \"Adventure Science Fiction Action\",\n          \"Action Crime Drama Romance Thriller\"\n        ],\n        \"semantic_type\": \"\",\n        \"description\": \"\"\n      }\n    },\n    {\n      \"column\": \"Movie_Runtime\",\n      \"properties\": {\n        \"dtype\": \"number\",\n        \"std\": 21.960332302277365,\n        \"min\": 0.0,\n        \"max\": 338.0,\n        \"num_unique_values\": 156,\n        \"samples\": [\n          146.0,\n          188.0,\n          84.0\n        ],\n        \"semantic_type\": \"\",\n        \"description\": \"\"\n      }\n    },\n    {\n      \"column\": \"Movie_Keywords\",\n      \"properties\": {\n        \"dtype\": \"string\",\n        \"num_unique_values\": 4202,\n        \"samples\": [\n          \"comedy cheating on partner amusement park summer job carny\",\n          \"dystopia\",\n          \"famous score hero mine vietnam war village\"\n        ],\n        \"semantic_type\": \"\",\n        \"description\": \"\"\n      }\n    },\n    {\n      \"column\": \"Movie_Spoken_Language\",\n      \"properties\": {\n        \"dtype\": \"category\",\n        \"num_unique_values\": 541,\n        \"samples\": [\n          \"[{\\\"iso_639_1\\\": \\\"en\\\", \\\"name\\\": \\\"English\\\"}, {\\\"iso_639_1\\\": \\\"fr\\\", \\\"name\\\": \\\"Fran\\\\u00e7ais\\\"}, {\\\"iso_639_1\\\": \\\"zh\\\", \\\"name\\\": \\\"\\\\u666e\\\\u901a\\\\u8bdd\\\"}, {\\\"iso_639_1\\\": \\\"ru\\\", \\\"name\\\": \\\"P\\\\u0443\\\\u0441\\\\u0441\\\\u043a\\\\u0438\\\\u0439\\\"}, {\\\"iso_639_1\\\": \\\"es\\\", \\\"name\\\": \\\"Espa\\\\u00f1ol\\\"}]\",\n          \"[{\\\"iso_639_1\\\": \\\"sq\\\", \\\"name\\\": \\\"shqip\\\"}, {\\\"iso_639_1\\\": \\\"en\\\", \\\"name\\\": \\\"English\\\"}]\",\n          \"[{\\\"iso_639_1\\\": \\\"fr\\\", \\\"name\\\": \\\"Fran\\\\u00e7ais\\\"}, {\\\"iso_639_1\\\": \\\"hi\\\", \\\"name\\\": \\\"\\\\u0939\\\\u093f\\\\u0928\\\\u094d\\\\u0926\\\\u0940\\\"}, {\\\"iso_639_1\\\": \\\"en\\\", \\\"name\\\": \\\"English\\\"}]\"\n        ],\n        \"semantic_type\": \"\",\n        \"description\": \"\"\n      }\n    },\n    {\n      \"column\": \"Movie_Cast\",\n      \"properties\": {\n        \"dtype\": \"string\",\n        \"num_unique_values\": 4714,\n        \"samples\": [\n          \"Robin Tunney Fairuza Balk Neve Campbell Rachel True Skeet Ulrich\",\n          \"Peter Sellers Christopher Plummer Herbert Lom Catherine Schell Peter Arne\",\n          \"Alan King Angela Bassett Timothy Hutton Mary Steenburgen Clifton James\"\n        ],\n        \"semantic_type\": \"\",\n        \"description\": \"\"\n      }\n    },\n    {\n      \"column\": \"Movie_Director\",\n      \"properties\": {\n        \"dtype\": \"category\",\n        \"num_unique_values\": 2331,\n        \"samples\": [\n          \"Dennis Gansel\",\n          \"\\\\u00c0lex Pastor\",\n          \"Michael D. Sellers\"\n        ],\n        \"semantic_type\": \"\",\n        \"description\": \"\"\n      }\n    }\n  ]\n}"
            }
          },
          "metadata": {},
          "execution_count": 10
        }
      ]
    },
    {
      "cell_type": "markdown",
      "source": [
        "Defining X AND Data Preprocessing"
      ],
      "metadata": {
        "id": "xzZBd1j5LGUs"
      }
    },
    {
      "cell_type": "code",
      "source": [
        "X= df_features['Movie_Genre']+' '+['Movie_Runtime']+' '+['Movie_Keywords']+' '+['Movie_Spoken_Language']+' '+ ['Movie_Cast'] +' '+ ['Movie_Director']"
      ],
      "metadata": {
        "id": "YLBXpdhn_528"
      },
      "execution_count": null,
      "outputs": []
    },
    {
      "cell_type": "code",
      "source": [
        "print(X)"
      ],
      "metadata": {
        "colab": {
          "base_uri": "https://localhost:8080/"
        },
        "id": "Iv-vZiNnh3A4",
        "outputId": "1e0021a1-5b9b-4b54-8eb0-cb2653594e4f"
      },
      "execution_count": null,
      "outputs": [
        {
          "output_type": "stream",
          "name": "stdout",
          "text": [
            "0       Crime Comedy Movie_Runtime Movie_Keywords Movi...\n",
            "1       Adventure Action Science Fiction Movie_Runtime...\n",
            "2       Animation Family Movie_Runtime Movie_Keywords ...\n",
            "3       Comedy Drama Romance Movie_Runtime Movie_Keywo...\n",
            "4       Drama Movie_Runtime Movie_Keywords Movie_Spoke...\n",
            "                              ...                        \n",
            "4755    Horror Movie_Runtime Movie_Keywords Movie_Spok...\n",
            "4756    Comedy Family Drama Movie_Runtime Movie_Keywor...\n",
            "4757    Thriller Drama Movie_Runtime Movie_Keywords Mo...\n",
            "4758    Family Movie_Runtime Movie_Keywords Movie_Spok...\n",
            "4759    Documentary Movie_Runtime Movie_Keywords Movie...\n",
            "Name: Movie_Genre, Length: 4760, dtype: object\n"
          ]
        }
      ]
    },
    {
      "cell_type": "code",
      "source": [
        "X.shape"
      ],
      "metadata": {
        "colab": {
          "base_uri": "https://localhost:8080/"
        },
        "id": "ZEIBcEH-h3Df",
        "outputId": "90def20c-a72e-4343-d2e4-4060a264d8e7"
      },
      "execution_count": null,
      "outputs": [
        {
          "output_type": "execute_result",
          "data": {
            "text/plain": [
              "(4760,)"
            ]
          },
          "metadata": {},
          "execution_count": 13
        }
      ]
    },
    {
      "cell_type": "code",
      "source": [
        "from sklearn.feature_extraction.text import TfidfVectorizer"
      ],
      "metadata": {
        "id": "iiulRfQfh3Fq"
      },
      "execution_count": null,
      "outputs": []
    },
    {
      "cell_type": "code",
      "source": [
        "tfidf=TfidfVectorizer()"
      ],
      "metadata": {
        "id": "SakwxdH3h3Kd"
      },
      "execution_count": null,
      "outputs": []
    },
    {
      "cell_type": "code",
      "source": [
        "X = tfidf.fit_transform(X)"
      ],
      "metadata": {
        "id": "y9ixB6aPh3IF"
      },
      "execution_count": null,
      "outputs": []
    },
    {
      "cell_type": "code",
      "source": [
        "X.shape"
      ],
      "metadata": {
        "colab": {
          "base_uri": "https://localhost:8080/"
        },
        "id": "FsdFQjG9h3NF",
        "outputId": "d35b1b2a-278a-4124-abfa-b31eaec8cef9"
      },
      "execution_count": null,
      "outputs": [
        {
          "output_type": "execute_result",
          "data": {
            "text/plain": [
              "(4760, 27)"
            ]
          },
          "metadata": {},
          "execution_count": 17
        }
      ]
    },
    {
      "cell_type": "code",
      "source": [
        "print(X)"
      ],
      "metadata": {
        "colab": {
          "base_uri": "https://localhost:8080/"
        },
        "id": "3TyAtY5Zh3Pg",
        "outputId": "9d34d345-42f1-4fe3-c798-78e06b032d49"
      },
      "execution_count": null,
      "outputs": [
        {
          "output_type": "stream",
          "name": "stdout",
          "text": [
            "  (0, 15)\t0.23820058902897914\n",
            "  (0, 14)\t0.23820058902897914\n",
            "  (0, 18)\t0.23820058902897914\n",
            "  (0, 16)\t0.23820058902897914\n",
            "  (0, 17)\t0.23820058902897914\n",
            "  (0, 3)\t0.4807205740010677\n",
            "  (0, 4)\t0.69657025967473\n",
            "  (1, 9)\t0.5111389045716013\n",
            "  (1, 22)\t0.5111389045716013\n",
            "  (1, 0)\t0.38690568725006186\n",
            "  (1, 1)\t0.44736759119733627\n",
            "  (1, 15)\t0.15977500930154084\n",
            "  (1, 14)\t0.15977500930154084\n",
            "  (1, 18)\t0.15977500930154084\n",
            "  (1, 16)\t0.15977500930154084\n",
            "  (1, 17)\t0.15977500930154084\n",
            "  (2, 7)\t0.5753917303075771\n",
            "  (2, 2)\t0.7144482299990348\n",
            "  (2, 15)\t0.17803824496152437\n",
            "  (2, 14)\t0.17803824496152437\n",
            "  (2, 18)\t0.17803824496152437\n",
            "  (2, 16)\t0.17803824496152437\n",
            "  (2, 17)\t0.17803824496152437\n",
            "  (3, 21)\t0.6104838399688826\n",
            "  (3, 6)\t0.3947927055311747\n",
            "  :\t:\n",
            "  (4756, 15)\t0.21073810575971147\n",
            "  (4756, 14)\t0.21073810575971147\n",
            "  (4756, 18)\t0.21073810575971147\n",
            "  (4756, 16)\t0.21073810575971147\n",
            "  (4756, 17)\t0.21073810575971147\n",
            "  (4756, 3)\t0.425297618186752\n",
            "  (4757, 23)\t0.6362444163159326\n",
            "  (4757, 6)\t0.47241300894511573\n",
            "  (4757, 15)\t0.2727705965408369\n",
            "  (4757, 14)\t0.2727705965408369\n",
            "  (4757, 18)\t0.2727705965408369\n",
            "  (4757, 16)\t0.2727705965408369\n",
            "  (4757, 17)\t0.2727705965408369\n",
            "  (4758, 7)\t0.8223543608320248\n",
            "  (4758, 15)\t0.25445365205496734\n",
            "  (4758, 14)\t0.25445365205496734\n",
            "  (4758, 18)\t0.25445365205496734\n",
            "  (4758, 16)\t0.25445365205496734\n",
            "  (4758, 17)\t0.25445365205496734\n",
            "  (4759, 5)\t0.9050612540565764\n",
            "  (4759, 15)\t0.1901915489213636\n",
            "  (4759, 14)\t0.1901915489213636\n",
            "  (4759, 18)\t0.1901915489213636\n",
            "  (4759, 16)\t0.1901915489213636\n",
            "  (4759, 17)\t0.1901915489213636\n"
          ]
        }
      ]
    },
    {
      "cell_type": "code",
      "source": [
        "from sklearn.metrics.pairwise import cosine_similarity"
      ],
      "metadata": {
        "id": "En-fgPe1h3SD"
      },
      "execution_count": null,
      "outputs": []
    },
    {
      "cell_type": "code",
      "source": [
        "Similarity_Score= cosine_similarity(X)"
      ],
      "metadata": {
        "id": "80ROtB43h3UI"
      },
      "execution_count": null,
      "outputs": []
    },
    {
      "cell_type": "code",
      "source": [
        "Similarity_Score"
      ],
      "metadata": {
        "colab": {
          "base_uri": "https://localhost:8080/"
        },
        "id": "ug5gfzhwh3Xg",
        "outputId": "8dad82d7-8913-4059-f707-404b9957f488"
      },
      "execution_count": null,
      "outputs": [
        {
          "output_type": "execute_result",
          "data": {
            "text/plain": [
              "array([[1.        , 0.19029251, 0.21204407, ..., 0.32487058, 0.30305505,\n",
              "        0.22651869],\n",
              "       [0.19029251, 1.        , 0.14223031, ..., 0.21790962, 0.20327667,\n",
              "        0.15193928],\n",
              "       [0.21204407, 0.14223031, 1.        , ..., 0.24281799, 0.69968831,\n",
              "        0.16930685],\n",
              "       ...,\n",
              "       [0.32487058, 0.21790962, 0.24281799, ..., 1.        , 0.34703737,\n",
              "        0.25939331],\n",
              "       [0.30305505, 0.20327667, 0.69968831, ..., 0.34703737, 1.        ,\n",
              "        0.24197467],\n",
              "       [0.22651869, 0.15193928, 0.16930685, ..., 0.25939331, 0.24197467,\n",
              "        1.        ]])"
            ]
          },
          "metadata": {},
          "execution_count": 21
        }
      ]
    },
    {
      "cell_type": "code",
      "source": [
        "Similarity_Score.shape"
      ],
      "metadata": {
        "colab": {
          "base_uri": "https://localhost:8080/"
        },
        "id": "7w6l7cMdPZYL",
        "outputId": "3f1d4a1d-6b3b-4443-f18e-0bef99d1100f"
      },
      "execution_count": null,
      "outputs": [
        {
          "output_type": "execute_result",
          "data": {
            "text/plain": [
              "(4760, 4760)"
            ]
          },
          "metadata": {},
          "execution_count": 22
        }
      ]
    },
    {
      "cell_type": "code",
      "source": [
        "import difflib"
      ],
      "metadata": {
        "id": "bjW6XggWPab8"
      },
      "execution_count": null,
      "outputs": []
    },
    {
      "cell_type": "code",
      "source": [
        "Fav_movie_name=input('Enter your favourite movie name:')"
      ],
      "metadata": {
        "colab": {
          "base_uri": "https://localhost:8080/"
        },
        "id": "OLA4BzlAPaho",
        "outputId": "5f596d31-b5b1-4d06-a8c5-84aa68500efb"
      },
      "execution_count": null,
      "outputs": [
        {
          "name": "stdout",
          "output_type": "stream",
          "text": [
            "Enter your favourite movie name:scream\n"
          ]
        }
      ]
    },
    {
      "cell_type": "code",
      "source": [
        "Movies_Title_List=df['Movie_Title'].tolist()"
      ],
      "metadata": {
        "id": "iH8Q47AkPaeB"
      },
      "execution_count": null,
      "outputs": []
    },
    {
      "cell_type": "code",
      "source": [
        "Movie_Recommendation=difflib.get_close_matches(Fav_movie_name,Movies_Title_List)\n",
        "print(Movie_Recommendation)"
      ],
      "metadata": {
        "colab": {
          "base_uri": "https://localhost:8080/"
        },
        "id": "iwtK7sCcPaaA",
        "outputId": "63ff89e0-3fa7-4809-f57b-ceda6e650f7c"
      },
      "execution_count": null,
      "outputs": [
        {
          "output_type": "stream",
          "name": "stdout",
          "text": [
            "['Scream', 'Scream 4', 'Scream 3']\n"
          ]
        }
      ]
    },
    {
      "cell_type": "code",
      "source": [
        "Close_match=Movie_Recommendation[0]\n",
        "print(Close_match)"
      ],
      "metadata": {
        "colab": {
          "base_uri": "https://localhost:8080/"
        },
        "id": "yH8o4hRoPaX7",
        "outputId": "565894d8-dd81-4fcf-c5d8-b847a9da3a50"
      },
      "execution_count": null,
      "outputs": [
        {
          "output_type": "stream",
          "name": "stdout",
          "text": [
            "Scream\n"
          ]
        }
      ]
    },
    {
      "cell_type": "code",
      "source": [
        "Index_of_close_match_movies = df[df.Movie_Title== Close_match]['Movie_ID'].values[0]\n",
        "print(Index_of_close_match_movies)"
      ],
      "metadata": {
        "id": "iiE99OAnPaV1",
        "colab": {
          "base_uri": "https://localhost:8080/"
        },
        "outputId": "d71cfecd-a59c-46b1-b415-8c0e9b453e0b"
      },
      "execution_count": null,
      "outputs": [
        {
          "output_type": "stream",
          "name": "stdout",
          "text": [
            "834\n"
          ]
        }
      ]
    },
    {
      "cell_type": "code",
      "source": [
        "Recommendation_Score=list(enumerate(Similarity_Score[Index_of_close_match_movies]))\n",
        "print(Recommendation_Score)"
      ],
      "metadata": {
        "id": "QwUEOFCmR3v8",
        "colab": {
          "base_uri": "https://localhost:8080/"
        },
        "outputId": "2e4dcdcf-62b0-49b4-c545-42a448ad64ea"
      },
      "execution_count": null,
      "outputs": [
        {
          "output_type": "stream",
          "name": "stdout",
          "text": [
            "[(0, 0.22327788127752374), (1, 0.14976548002408427), (2, 0.16688456684102382), (3, 0.21367203989690436), (4, 0.33141449702590914), (5, 0.1590458722025207), (6, 0.12481742110436714), (7, 0.17568023955554196), (8, 0.24064912420627915), (9, 0.16976246406511655), (10, 0.2127298244224796), (11, 0.1758138084272764), (12, 0.1758138084272764), (13, 0.16905545392949584), (14, 0.15705434830692433), (15, 0.15701132929716982), (16, 0.2556821589682755), (17, 0.16976246406511655), (18, 0.19988184891204105), (19, 0.498014159176072), (20, 0.33141449702590914), (21, 0.19988184891204105), (22, 0.17245912237162841), (23, 0.16230082255130962), (24, 0.33141449702590914), (25, 0.17041131765435466), (26, 0.33141449702590914), (27, 0.15058129145324556), (28, 0.14581270498229398), (29, 0.24064912420627915), (30, 0.6992751432172762), (31, 0.1609704709142165), (32, 0.14959806202159917), (33, 0.24064912420627915), (34, 0.2556821589682755), (35, 0.2167388878303964), (36, 0.2167388878303964), (37, 0.2167388878303964), (38, 0.19340884651239243), (39, 0.14033657019701068), (40, 0.19340884651239243), (41, 0.20120513053238143), (42, 0.22327788127752374), (43, 0.2304041449415074), (44, 0.21334254781553041), (45, 0.1355406451902449), (46, 0.14033657019701068), (47, 0.21508745566455068), (48, 0.17760120000590948), (49, 0.2325630880596372), (50, 0.22327788127752374), (51, 0.1735718176835706), (52, 0.149051763614307), (53, 0.14982545591371832), (54, 0.16976246406511655), (55, 0.16976246406511655), (56, 0.16976246406511655), (57, 0.14687990951975002), (58, 0.13103522513258462), (59, 0.19640698058975117), (60, 0.16827662942372484), (61, 0.5916451729501518), (62, 0.24064912420627915), (63, 0.1744362051356121), (64, 0.14537925122428724), (65, 0.498014159176072), (66, 0.33141449702590914), (67, 0.14033657019701068), (68, 0.17760120000590948), (69, 0.14033657019701068), (70, 0.21508745566455068), (71, 0.18054255827284174), (72, 0.21508745566455068), (73, 0.1355406451902449), (74, 0.17568023955554196), (75, 0.16241443084404508), (76, 0.1545739341962048), (77, 0.448169563816048), (78, 0.14033657019701068), (79, 0.15556111940819456), (80, 0.14033657019701068), (81, 0.8768741340522397), (82, 0.26977814891512303), (83, 0.21508745566455068), (84, 0.4804027739900155), (85, 0.44838859901957334), (86, 0.1882373900552627), (87, 0.572722444877042), (88, 0.18801199496671236), (89, 0.21508745566455068), (90, 0.14033657019701068), (91, 0.1355406451902449), (92, 0.1301804692343017), (93, 0.14033657019701068), (94, 0.14033657019701068), (95, 0.14033657019701068), (96, 0.2304041449415074), (97, 0.13823229399477138), (98, 0.33141449702590914), (99, 0.5314252109744696), (100, 0.7346607321136218), (101, 0.2167388878303964), (102, 0.1545739341962048), (103, 0.21367203989690436), (104, 0.7386273541862152), (105, 0.2304041449415074), (106, 0.2304041449415074), (107, 0.2556821589682755), (108, 0.2304041449415074), (109, 0.2304041449415074), (110, 0.2325630880596372), (111, 0.2304041449415074), (112, 0.19988184891204105), (113, 0.15321590925339446), (114, 0.21367203989690436), (115, 0.26977814891512303), (116, 0.5029839350129117), (117, 0.1796351612139294), (118, 0.1907625515580349), (119, 0.20120513053238143), (120, 0.1804074176607162), (121, 0.24064912420627915), (122, 0.1969661167063339), (123, 0.19798548187326334), (124, 0.19988184891204105), (125, 0.17686427715310316), (126, 0.2304041449415074), (127, 0.14173075103980085), (128, 0.1545739341962048), (129, 0.21367203989690436), (130, 0.16976246406511655), (131, 0.16905545392949584), (132, 0.24064912420627915), (133, 0.17827649483640134), (134, 0.13269256597170645), (135, 0.1545739341962048), (136, 0.5916451729501518), (137, 0.21508745566455068), (138, 0.21508745566455068), (139, 0.19340884651239243), (140, 0.33141449702590914), (141, 0.20524948037726476), (142, 0.2304041449415074), (143, 0.2127298244224796), (144, 0.1656283156631621), (145, 0.5988923324061556), (146, 0.2325630880596372), (147, 0.572722444877042), (148, 0.48516307923326873), (149, 0.19988184891204105), (150, 0.16241443084404508), (151, 0.14976548002408427), (152, 0.14033657019701068), (153, 0.1626270547630554), (154, 0.33141449702590914), (155, 0.16905545392949584), (156, 0.21367203989690436), (157, 0.26977814891512303), (158, 0.7386273541862152), (159, 0.25174842481438536), (160, 0.4193630813120567), (161, 0.21367203989690436), (162, 0.1969661167063339), (163, 0.7346607321136218), (164, 0.33141449702590914), (165, 0.12132979287120559), (166, 0.19988184891204105), (167, 0.33141449702590914), (168, 0.16905545392949584), (169, 0.21367203989690436), (170, 0.18801199496671236), (171, 0.14976548002408427), (172, 0.2304041449415074), (173, 0.2304041449415074), (174, 0.21367203989690436), (175, 0.26977814891512303), (176, 0.33141449702590914), (177, 0.1423966296526767), (178, 0.157106659342765), (179, 0.158286933308987), (180, 0.16781523795155362), (181, 0.16781523795155362), (182, 0.21005954815727962), (183, 0.1758138084272764), (184, 0.13823229399477138), (185, 0.1421849275806854), (186, 0.16905545392949584), (187, 0.5114101217100464), (188, 0.16754116899167631), (189, 0.14033657019701068), (190, 0.19988184891204105), (191, 0.3750864179614471), (192, 0.24064912420627915), (193, 0.24064912420627915), (194, 0.24064912420627915), (195, 0.21367203989690436), (196, 0.33141449702590914), (197, 0.15321590925339446), (198, 0.24064912420627915), (199, 0.19988184891204105), (200, 0.6585698866662879), (201, 0.16392864092012), (202, 0.21367203989690436), (203, 0.33141449702590914), (204, 0.19191282431805867), (205, 0.3111936344859419), (206, 0.17609365346219558), (207, 0.21508745566455068), (208, 0.1799141799143406), (209, 0.2304041449415074), (210, 0.17760120000590948), (211, 0.21367203989690436), (212, 0.21367203989690436), (213, 0.33141449702590914), (214, 0.7205244938608882), (215, 0.17220362392936364), (216, 0.2304041449415074), (217, 0.14520499412183907), (218, 0.15890669165341342), (219, 0.1421849275806854), (220, 0.1545739341962048), (221, 0.16230082255130962), (222, 0.5901706373024829), (223, 0.2843861100312273), (224, 0.24064912420627915), (225, 0.2325630880596372), (226, 0.33141449702590914), (227, 0.24064912420627915), (228, 0.18541840616202804), (229, 0.33141449702590914), (230, 0.1969661167063339), (231, 0.16976246406511655), (232, 0.16976246406511655), (233, 0.23213843044751217), (234, 0.14033657019701068), (235, 0.33141449702590914), (236, 0.572722444877042), (237, 0.15090544378417653), (238, 0.17317836995467015), (239, 0.5379874408935945), (240, 0.6312956788188351), (241, 0.21923392526007138), (242, 0.1453609032346764), (243, 0.2556821589682755), (244, 0.18801199496671236), (245, 0.15705434830692433), (246, 0.26977814891512303), (247, 0.17834748406464046), (248, 1.0), (249, 0.33141449702590914), (250, 0.6992751432172762), (251, 0.6230611731959181), (252, 0.48265945980551817), (253, 0.26977814891512303), (254, 0.2304041449415074), (255, 0.20646087669626856), (256, 0.2304041449415074), (257, 0.12577994376836965), (258, 0.14976548002408427), (259, 0.16745731587711146), (260, 0.14033657019701068), (261, 0.14033657019701068), (262, 0.33141449702590914), (263, 0.14253865076312133), (264, 0.14253865076312133), (265, 0.7346607321136218), (266, 0.15438988739314974), (267, 0.13823229399477138), (268, 0.33141449702590914), (269, 0.1301804692343017), (270, 0.6230611731959181), (271, 0.1402632600277145), (272, 0.2686683291702636), (273, 0.9162314460616753), (274, 0.2304041449415074), (275, 0.6065496764365246), (276, 0.19988184891204105), (277, 0.158286933308987), (278, 0.21367203989690436), (279, 0.21367203989690436), (280, 0.2304041449415074), (281, 0.2304041449415074), (282, 0.1211621645882735), (283, 0.15556111940819456), (284, 0.1907625515580349), (285, 0.2304041449415074), (286, 0.15565383072173278), (287, 0.2304041449415074), (288, 0.1907625515580349), (289, 0.1907625515580349), (290, 0.1907625515580349), (291, 0.5314252109744696), (292, 0.20120513053238143), (293, 0.33141449702590914), (294, 0.1907625515580349), (295, 0.1907625515580349), (296, 0.5960023908619306), (297, 0.158286933308987), (298, 0.158286933308987), (299, 0.158286933308987), (300, 0.158286933308987), (301, 0.4888317003591163), (302, 0.13235706212362583), (303, 0.4193630813120567), (304, 0.21508745566455068), (305, 0.1907625515580349), (306, 0.1907625515580349), (307, 0.5262139818454361), (308, 0.33141449702590914), (309, 0.24064912420627915), (310, 0.1907625515580349), (311, 0.5442590346320204), (312, 0.2325630880596372), (313, 0.6312956788188351), (314, 0.14033657019701068), (315, 0.1907625515580349), (316, 0.1907625515580349), (317, 0.33141449702590914), (318, 0.21367203989690436), (319, 0.17954333027699856), (320, 0.1907625515580349), (321, 0.1907625515580349), (322, 0.1907625515580349), (323, 0.1907625515580349), (324, 0.33141449702590914), (325, 0.21367203989690436), (326, 0.24064912420627915), (327, 0.1907625515580349), (328, 0.15114312619742118), (329, 0.6585698866662879), (330, 0.18541840616202804), (331, 0.6531385472492336), (332, 0.17686427715310316), (333, 0.13923053576992997), (334, 0.48516307923326873), (335, 0.13291891625630692), (336, 0.17498023127105605), (337, 0.7346607321136218), (338, 0.5153106459492188), (339, 0.5153106459492188), (340, 0.158286933308987), (341, 0.9162314460616753), (342, 0.2304041449415074), (343, 0.157106659342765), (344, 0.21217237425775026), (345, 0.15642294254545064), (346, 0.26977814891512303), (347, 0.4742224720033433), (348, 0.18541840616202804), (349, 0.18318653706158564), (350, 0.1938689788988469), (351, 0.19753585811974075), (352, 0.7346607321136218), (353, 0.1600758704407557), (354, 0.6312956788188351), (355, 0.18054255827284174), (356, 0.20646087669626856), (357, 0.16442800057259013), (358, 0.24064912420627915), (359, 0.9511231564965057), (360, 0.5988923324061556), (361, 0.12611252002595896), (362, 0.12611252002595896), (363, 0.12611252002595896), (364, 0.15556111940819456), (365, 0.12611252002595896), (366, 0.3111936344859419), (367, 0.1518727085783134), (368, 0.13830580779936136), (369, 0.1518727085783134), (370, 0.19988184891204105), (371, 0.16836133139618215), (372, 0.18541840616202804), (373, 0.16230082255130962), (374, 0.13823229399477138), (375, 0.1345169326251133), (376, 0.7626312174982569), (377, 0.26977814891512303), (378, 0.17568023955554196), (379, 0.14976548002408427), (380, 0.5114101217100464), (381, 0.2288019465377701), (382, 0.16976246406511655), (383, 0.21217237425775026), (384, 0.18589533517052562), (385, 0.1549811727109237), (386, 0.1341179055740142), (387, 0.13823229399477138), (388, 0.24064912420627915), (389, 0.16860008271632593), (390, 0.14976548002408427), (391, 0.15705434830692433), (392, 0.15705434830692433), (393, 0.3111936344859419), (394, 0.16745731587711146), (395, 0.33141449702590914), (396, 0.2304041449415074), (397, 0.14033657019701068), (398, 0.15975080290829002), (399, 0.33141449702590914), (400, 0.18541840616202804), (401, 0.14982545591371832), (402, 0.33141449702590914), (403, 0.1638469338912229), (404, 0.16754116899167631), (405, 0.13649667672797616), (406, 0.20646087669626856), (407, 0.157106659342765), (408, 0.19244869012521884), (409, 0.1421849275806854), (410, 0.1638469338912229), (411, 0.5011330178995572), (412, 0.33141449702590914), (413, 0.14823367665331894), (414, 0.5153106459492188), (415, 0.5153106459492188), (416, 0.16442800057259013), (417, 0.15458314284969976), (418, 0.15458314284969976), (419, 0.12776849781917932), (420, 0.6312956788188351), (421, 0.1421849275806854), (422, 0.3111936344859419), (423, 0.16688456684102382), (424, 0.1907625515580349), (425, 0.1907625515580349), (426, 0.1907625515580349), (427, 0.17245912237162841), (428, 0.1622009727153434), (429, 0.572722444877042), (430, 0.40469455739811616), (431, 0.21367203989690436), (432, 0.33141449702590914), (433, 0.6585698866662879), (434, 0.21074399733771343), (435, 0.18801199496671236), (436, 0.6585698866662879), (437, 0.21825875077082707), (438, 0.5114101217100464), (439, 0.7626312174982569), (440, 0.16745731587711146), (441, 0.13823229399477138), (442, 0.21334254781553041), (443, 0.6585698866662879), (444, 0.33141449702590914), (445, 0.33141449702590914), (446, 0.33141449702590914), (447, 0.19988184891204105), (448, 0.24064912420627915), (449, 0.33141449702590914), (450, 0.19988184891204105), (451, 0.4643215480976156), (452, 0.14441525453569742), (453, 0.46204435425814905), (454, 0.3111936344859419), (455, 0.24064912420627915), (456, 0.16827662942372484), (457, 0.18283329503758616), (458, 0.17760120000590948), (459, 0.21217237425775026), (460, 0.16860008271632593), (461, 0.1421849275806854), (462, 0.17827649483640134), (463, 0.19988184891204105), (464, 0.24064912420627915), (465, 0.24064912420627915), (466, 0.33141449702590914), (467, 0.14040462673414886), (468, 0.14040462673414886), (469, 0.14040462673414886), (470, 0.21334254781553041), (471, 0.21367203989690436), (472, 0.14215300460373698), (473, 0.26977814891512303), (474, 0.1882373900552627), (475, 0.24064912420627915), (476, 0.33141449702590914), (477, 0.2167388878303964), (478, 0.33141449702590914), (479, 0.20640370828286508), (480, 0.14782346970256502), (481, 0.19988184891204105), (482, 0.6585698866662879), (483, 0.17609365346219558), (484, 0.2843861100312273), (485, 0.2304041449415074), (486, 0.17827649483640134), (487, 0.16932698488111664), (488, 0.1638469338912229), (489, 0.24064912420627915), (490, 0.24064912420627915), (491, 0.13131193375646272), (492, 0.14275193914051745), (493, 0.16468587191472095), (494, 0.19340884651239243), (495, 0.18509024450008768), (496, 0.12132979287120559), (497, 0.12792490292816946), (498, 0.13972414060845212), (499, 0.33141449702590914), (500, 0.18801199496671236), (501, 0.16392864092012), (502, 0.19988184891204105), (503, 0.22327788127752374), (504, 0.21367203989690436), (505, 0.26977814891512303), (506, 0.6531385472492336), (507, 0.26977814891512303), (508, 0.26977814891512303), (509, 0.4327190553981575), (510, 0.21367203989690436), (511, 0.448169563816048), (512, 0.23213843044751217), (513, 0.23213843044751217), (514, 0.23213843044751217), (515, 0.14024533038001183), (516, 0.44588847111482177), (517, 0.44588847111482177), (518, 0.33141449702590914), (519, 0.1799141799143406), (520, 0.2325630880596372), (521, 0.17954333027699856), (522, 0.17048983099444134), (523, 0.6992751432172762), (524, 0.24064912420627915), (525, 0.3111936344859419), (526, 0.33141449702590914), (527, 0.33141449702590914), (528, 0.13972414060845212), (529, 0.2325630880596372), (530, 0.21508745566455068), (531, 0.2325630880596372), (532, 0.17427525906522467), (533, 0.17760120000590948), (534, 0.17760120000590948), (535, 0.3111936344859419), (536, 0.3111936344859419), (537, 0.14033657019701068), (538, 0.17705187085568813), (539, 0.1795462471334448), (540, 0.1907625515580349), (541, 0.33141449702590914), (542, 0.5301345527782817), (543, 0.19988184891204105), (544, 0.2304041449415074), (545, 0.15331147666645295), (546, 0.12140695376296115), (547, 0.19244869012521884), (548, 0.2167388878303964), (549, 0.15187913099767555), (550, 0.1907625515580349), (551, 0.18318653706158564), (552, 0.7346607321136218), (553, 0.498014159176072), (554, 0.16745731587711146), (555, 0.16745731587711146), (556, 0.7346607321136218), (557, 0.7346607321136218), (558, 0.5550081417257058), (559, 0.6312956788188351), (560, 0.18801199496671236), (561, 0.16745731587711146), (562, 0.2556821589682755), (563, 0.2556821589682755), (564, 0.1638469338912229), (565, 0.14976548002408427), (566, 0.1590458722025207), (567, 0.14976548002408427), (568, 0.16976246406511655), (569, 0.16976246406511655), (570, 0.16976246406511655), (571, 0.2556821589682755), (572, 0.14976548002408427), (573, 0.17827649483640134), (574, 0.13941968972967886), (575, 0.17827649483640134), (576, 0.1416333315380597), (577, 0.3111936344859419), (578, 0.18318653706158564), (579, 0.21367203989690436), (580, 0.8781965587793157), (581, 0.2556821589682755), (582, 0.2325630880596372), (583, 0.2325630880596372), (584, 0.19988184891204105), (585, 0.3111936344859419), (586, 0.17498023127105605), (587, 0.24064912420627915), (588, 0.6380800654042634), (589, 0.21367203989690436), (590, 0.16836133139618215), (591, 0.14976548002408427), (592, 0.16976246406511655), (593, 0.18541840616202804), (594, 0.21005954815727962), (595, 0.23213843044751217), (596, 0.18541840616202804), (597, 0.33141449702590914), (598, 0.18541840616202804), (599, 0.14976548002408427), (600, 0.14976548002408427), (601, 0.14976548002408427), (602, 0.14976548002408427), (603, 0.14976548002408427), (604, 0.19988184891204105), (605, 0.21367203989690436), (606, 0.4609080769960572), (607, 0.1638469338912229), (608, 0.1757290144487594), (609, 0.21367203989690436), (610, 0.16976246406511655), (611, 0.33141449702590914), (612, 0.24064912420627915), (613, 0.13131193375646272), (614, 0.15997503607854072), (615, 0.16976246406511655), (616, 0.18318653706158564), (617, 0.8781965587793157), (618, 0.1719139240205309), (619, 0.4193630813120567), (620, 0.33141449702590914), (621, 0.18801199496671236), (622, 0.572722444877042), (623, 0.24064912420627915), (624, 0.33141449702590914), (625, 0.16860008271632593), (626, 0.18541840616202804), (627, 0.6306761678777433), (628, 0.2556821589682755), (629, 0.46019783582984564), (630, 0.6531385472492336), (631, 0.12132979287120559), (632, 0.13359232650530078), (633, 0.9162314460616753), (634, 0.6312956788188351), (635, 0.15638137845368744), (636, 0.6585698866662879), (637, 0.2556821589682755), (638, 0.24064912420627915), (639, 0.15638137845368744), (640, 0.15638137845368744), (641, 0.18283329503758616), (642, 0.2556821589682755), (643, 0.19988184891204105), (644, 0.15154087605129363), (645, 0.33141449702590914), (646, 0.19092778217430117), (647, 0.33141449702590914), (648, 0.3111936344859419), (649, 0.2325630880596372), (650, 0.15090544378417653), (651, 0.1301804692343017), (652, 0.572722444877042), (653, 0.17760120000590948), (654, 0.5506852520731499), (655, 0.6380800654042634), (656, 0.16745731587711146), (657, 0.15488082688264518), (658, 0.16905545392949584), (659, 0.26977814891512303), (660, 0.5843217634144501), (661, 0.5559217722767616), (662, 0.13614212586853494), (663, 0.1857374674196088), (664, 0.22327788127752374), (665, 0.2325630880596372), (666, 0.14033657019701068), (667, 0.19517555718333535), (668, 0.18801199496671236), (669, 0.17760120000590948), (670, 0.21334254781553041), (671, 0.2325630880596372), (672, 0.22132778726751404), (673, 0.17760120000590948), (674, 0.11446496813843818), (675, 0.19988184891204105), (676, 0.572722444877042), (677, 0.26159040045370346), (678, 0.19517555718333535), (679, 0.3111936344859419), (680, 0.33141449702590914), (681, 0.14976548002408427), (682, 0.18801199496671236), (683, 0.19798548187326334), (684, 0.14479736120107645), (685, 0.29009387728278246), (686, 0.1417088121711957), (687, 0.2076477437384297), (688, 0.21334254781553041), (689, 0.2556821589682755), (690, 0.2076477437384297), (691, 0.26977814891512303), (692, 0.16392864092012), (693, 0.1638469338912229), (694, 0.2556821589682755), (695, 0.5988923324061556), (696, 0.1307151864709177), (697, 0.21367203989690436), (698, 0.24064912420627915), (699, 0.1888980365346182), (700, 0.14422396722778524), (701, 0.572722444877042), (702, 0.17245912237162841), (703, 0.14555244423711977), (704, 0.17827649483640134), (705, 0.24064912420627915), (706, 0.33141449702590914), (707, 0.17220362392936364), (708, 0.3111936344859419), (709, 0.2325630880596372), (710, 0.3111936344859419), (711, 0.3111936344859419), (712, 0.13202915779914404), (713, 0.158286933308987), (714, 0.15887967697481462), (715, 0.16198115622103215), (716, 0.1799141799143406), (717, 0.33141449702590914), (718, 0.17827649483640134), (719, 0.5960023908619306), (720, 0.14982545591371832), (721, 0.18541840616202804), (722, 0.18541840616202804), (723, 0.23213843044751217), (724, 0.158286933308987), (725, 0.14651075783632592), (726, 0.1377364501148517), (727, 0.5960023908619306), (728, 0.21334254781553041), (729, 0.5960023908619306), (730, 0.3111936344859419), (731, 0.33141449702590914), (732, 0.2556821589682755), (733, 0.14624514226258556), (734, 0.1758138084272764), (735, 0.21367203989690436), (736, 0.17705187085568813), (737, 0.21367203989690436), (738, 0.23213843044751217), (739, 0.9511231564965057), (740, 0.26977814891512303), (741, 0.2325630880596372), (742, 0.6585698866662879), (743, 0.2556821589682755), (744, 0.8781965587793157), (745, 0.1248385523918572), (746, 0.7346607321136218), (747, 0.54629467399578), (748, 1.0), (749, 0.16722337976599042), (750, 0.4948241073886285), (751, 0.14581270498229398), (752, 0.16754116899167631), (753, 0.18801199496671236), (754, 0.2325630880596372), (755, 0.26977814891512303), (756, 0.14033657019701068), (757, 0.20640370828286508), (758, 0.2325630880596372), (759, 0.26977814891512303), (760, 0.515360176695684), (761, 0.2556821589682755), (762, 0.1545739341962048), (763, 0.16745731587711146), (764, 0.2325630880596372), (765, 0.6992751432172762), (766, 0.33141449702590914), (767, 0.33141449702590914), (768, 0.2325630880596372), (769, 0.1609704709142165), (770, 0.5153106459492188), (771, 0.3111936344859419), (772, 0.3111936344859419), (773, 0.1399291570371175), (774, 0.24064912420627915), (775, 0.21923392526007138), (776, 0.4557869545562183), (777, 0.33141449702590914), (778, 0.17245912237162841), (779, 0.17686427715310316), (780, 0.7205244938608882), (781, 0.16754116899167631), (782, 0.33141449702590914), (783, 0.157106659342765), (784, 0.15975080290829002), (785, 0.2325630880596372), (786, 0.15975080290829002), (787, 0.26977814891512303), (788, 0.26977814891512303), (789, 0.16905545392949584), (790, 0.5988923324061556), (791, 0.33141449702590914), (792, 0.16049998700314494), (793, 0.17645912197637742), (794, 0.15947545827506804), (795, 0.16928245462502353), (796, 0.157106659342765), (797, 0.18681342915535734), (798, 0.18541840616202804), (799, 0.19988184891204105), (800, 0.14871189718466), (801, 0.5988923324061556), (802, 0.13670846256116165), (803, 0.23213843044751217), (804, 0.14871189718466), (805, 0.33141449702590914), (806, 0.6230611731959181), (807, 0.16754116899167631), (808, 0.6585698866662879), (809, 0.23213843044751217), (810, 0.9162314460616753), (811, 0.9162314460616753), (812, 0.1857374674196088), (813, 0.24064912420627915), (814, 0.3111936344859419), (815, 0.13823229399477138), (816, 0.6230611731959181), (817, 0.33141449702590914), (818, 0.18318653706158564), (819, 0.12282367707254108), (820, 0.2325630880596372), (821, 0.12408623640301451), (822, 0.20524948037726476), (823, 0.33141449702590914), (824, 0.19753585811974075), (825, 0.18801199496671236), (826, 0.14959806202159917), (827, 0.18801199496671236), (828, 0.2304041449415074), (829, 0.19988184891204105), (830, 0.24064912420627915), (831, 0.2556821589682755), (832, 0.6585698866662879), (833, 0.8768741340522397), (834, 1.0), (835, 1.0), (836, 0.16754116899167631), (837, 0.3111936344859419), (838, 0.24064912420627915), (839, 0.3111936344859419), (840, 0.3111936344859419), (841, 0.3111936344859419), (842, 0.15458314284969976), (843, 0.24064912420627915), (844, 0.24064912420627915), (845, 0.21334254781553041), (846, 0.2325630880596372), (847, 0.21367203989690436), (848, 0.25174842481438536), (849, 0.14820641885581723), (850, 0.18541840616202804), (851, 0.1515182652776275), (852, 0.1422237394861482), (853, 0.19988184891204105), (854, 0.14894273300551994), (855, 0.6312956788188351), (856, 0.14959806202159917), (857, 0.1638469338912229), (858, 0.18541840616202804), (859, 0.15111978239258064), (860, 0.19988184891204105), (861, 0.2556821589682755), (862, 0.22327788127752374), (863, 0.2556821589682755), (864, 0.6230611731959181), (865, 0.24064912420627915), (866, 0.17760120000590948), (867, 0.21367203989690436), (868, 0.21334254781553041), (869, 0.19340884651239243), (870, 0.572722444877042), (871, 0.1460426513959932), (872, 0.13783855348089744), (873, 0.2325630880596372), (874, 0.2304041449415074), (875, 0.16392864092012), (876, 0.19988184891204105), (877, 0.16860008271632593), (878, 0.17760120000590948), (879, 0.16258959889448027), (880, 0.5029839350129117), (881, 0.16905545392949584), (882, 0.14687990951975002), (883, 0.21367203989690436), (884, 0.26977814891512303), (885, 0.21367203989690436), (886, 0.26977814891512303), (887, 0.21074399733771343), (888, 0.19988184891204105), (889, 0.33141449702590914), (890, 0.21367203989690436), (891, 0.1545739341962048), (892, 0.3111936344859419), (893, 0.6312956788188351), (894, 0.2304041449415074), (895, 0.33141449702590914), (896, 0.572722444877042), (897, 0.24064912420627915), (898, 0.5772948968620548), (899, 0.33141449702590914), (900, 0.2556821589682755), (901, 0.33141449702590914), (902, 0.4465805452086581), (903, 0.1475076324763089), (904, 0.17427525906522467), (905, 0.17427525906522467), (906, 0.16905545392949584), (907, 0.21367203989690436), (908, 0.5608851746080034), (909, 0.13103522513258462), (910, 0.6585698866662879), (911, 0.1799141799143406), (912, 0.1137766998417192), (913, 0.13029074618667968), (914, 0.26159040045370346), (915, 0.5013337157440876), (916, 0.19517555718333535), (917, 0.33141449702590914), (918, 0.12855552968379236), (919, 0.1907625515580349), (920, 0.1421849275806854), (921, 0.19540171025097797), (922, 0.33141449702590914), (923, 0.22398665457154515), (924, 0.16230082255130962), (925, 0.6078995394138633), (926, 0.1452569940517691), (927, 0.6992751432172762), (928, 0.18801199496671236), (929, 0.2043730059077291), (930, 0.20646087669626856), (931, 0.19517555718333535), (932, 0.448169563816048), (933, 0.26977814891512303), (934, 0.13823229399477138), (935, 0.2355230047469267), (936, 0.12176234382361749), (937, 0.572722444877042), (938, 0.2325630880596372), (939, 0.20640370828286508), (940, 0.16827662942372484), (941, 0.26977814891512303), (942, 0.19988184891204105), (943, 0.3111936344859419), (944, 0.24064912420627915), (945, 0.13456843526814244), (946, 0.17128181620178512), (947, 0.17760120000590948), (948, 0.16928245462502353), (949, 0.33141449702590914), (950, 0.6065496764365246), (951, 0.1327218300116233), (952, 0.4327190553981575), (953, 0.48265018708145024), (954, 0.16976246406511655), (955, 0.3111936344859419), (956, 0.19640698058975117), (957, 0.19191282431805867), (958, 0.3111936344859419), (959, 0.24064912420627915), (960, 0.7346607321136218), (961, 0.11574185029895268), (962, 0.18318653706158564), (963, 0.4066233822053325), (964, 0.6531385472492336), (965, 0.19640698058975117), (966, 0.1744362051356121), (967, 0.2556821589682755), (968, 0.5901706373024829), (969, 0.17220362392936364), (970, 0.5772948968620548), (971, 0.2325630880596372), (972, 0.17954333027699856), (973, 0.21367203989690436), (974, 0.23213843044751217), (975, 0.24064912420627915), (976, 0.5988923324061556), (977, 0.12577994376836965), (978, 0.3111936344859419), (979, 0.9162314460616753), (980, 0.6585698866662879), (981, 0.1486310389473645), (982, 0.2325630880596372), (983, 0.2325630880596372), (984, 0.26977814891512303), (985, 0.21367203989690436), (986, 0.13909599023332966), (987, 0.33141449702590914), (988, 0.467568654909842), (989, 0.19988184891204105), (990, 0.15944594051168343), (991, 0.48265018708145024), (992, 0.1545739341962048), (993, 0.33141449702590914), (994, 0.19798548187326334), (995, 0.3111936344859419), (996, 0.2076477437384297), (997, 0.1545739341962048), (998, 0.21367203989690436), (999, 0.21367203989690436), (1000, 0.17760120000590948), (1001, 0.1799141799143406), (1002, 0.21367203989690436), (1003, 0.448169563816048), (1004, 0.33141449702590914), (1005, 0.19798548187326334), (1006, 0.26977814891512303), (1007, 0.5441292391166443), (1008, 0.15705434830692433), (1009, 0.16107320053289942), (1010, 0.24253446424949238), (1011, 0.11562500576500294), (1012, 0.1907625515580349), (1013, 0.1355406451902449), (1014, 0.14502127168430604), (1015, 0.17760120000590948), (1016, 0.14935533933460898), (1017, 0.5301345527782817), (1018, 0.21508745566455068), (1019, 0.33141449702590914), (1020, 0.13238466217703332), (1021, 0.26977814891512303), (1022, 0.15331147666645295), (1023, 0.2043730059077291), (1024, 0.17427525906522467), (1025, 0.15705434830692433), (1026, 0.24064912420627915), (1027, 0.24064912420627915), (1028, 0.3111936344859419), (1029, 0.3111936344859419), (1030, 0.2556821589682755), (1031, 0.44588847111482177), (1032, 0.33141449702590914), (1033, 0.33141449702590914), (1034, 0.24064912420627915), (1035, 0.17760120000590948), (1036, 0.33141449702590914), (1037, 0.33141449702590914), (1038, 0.2325630880596372), (1039, 0.13846339198426702), (1040, 0.21367203989690436), (1041, 0.5901706373024829), (1042, 0.33141449702590914), (1043, 0.21074399733771343), (1044, 0.14871189718466), (1045, 0.16976246406511655), (1046, 0.14275193914051745), (1047, 0.19517555718333535), (1048, 0.33141449702590914), (1049, 0.21367203989690436), (1050, 0.4266394402457937), (1051, 0.5523807850154966), (1052, 0.24064912420627915), (1053, 0.19244869012521884), (1054, 0.18801199496671236), (1055, 0.1857374674196088), (1056, 0.44588847111482177), (1057, 0.44588847111482177), (1058, 0.21508745566455068), (1059, 0.33141449702590914), (1060, 0.1638469338912229), (1061, 0.17046326120544675), (1062, 0.3111936344859419), (1063, 0.16392864092012), (1064, 0.572722444877042), (1065, 0.18216834915607483), (1066, 0.16745731587711146), (1067, 0.158286933308987), (1068, 0.5988923324061556), (1069, 0.13958922225085313), (1070, 0.3111936344859419), (1071, 0.6585698866662879), (1072, 0.33141449702590914), (1073, 0.2325630880596372), (1074, 0.1333672751948549), (1075, 0.24064912420627915), (1076, 0.2127298244224796), (1077, 0.24064912420627915), (1078, 0.20640370828286508), (1079, 0.1701268348361824), (1080, 0.16230082255130962), (1081, 1.0), (1082, 0.4193630813120567), (1083, 0.4948241073886285), (1084, 0.21367203989690436), (1085, 0.1421849275806854), (1086, 0.17827649483640134), (1087, 0.2355230047469267), (1088, 0.19753585811974075), (1089, 0.3111936344859419), (1090, 0.26159040045370346), (1091, 0.14976548002408427), (1092, 0.18801199496671236), (1093, 0.3111936344859419), (1094, 0.2325630880596372), (1095, 0.48099785785998034), (1096, 0.25174842481438536), (1097, 0.7626312174982569), (1098, 0.33141449702590914), (1099, 0.17645912197637742), (1100, 0.26977814891512303), (1101, 0.1857374674196088), (1102, 0.25174842481438536), (1103, 0.3111936344859419), (1104, 0.5314252109744696), (1105, 0.3111936344859419), (1106, 0.3111936344859419), (1107, 0.19988184891204105), (1108, 0.112853339725682), (1109, 0.21367203989690436), (1110, 0.33141449702590914), (1111, 0.13131193375646272), (1112, 0.26977814891512303), (1113, 0.13456843526814244), (1114, 0.15947545827506804), (1115, 0.15458314284969976), (1116, 0.5887945623900753), (1117, 0.26977814891512303), (1118, 0.26159040045370346), (1119, 0.5061880993385077), (1120, 0.16860008271632593), (1121, 0.33141449702590914), (1122, 0.2043730059077291), (1123, 0.16836133139618215), (1124, 0.26977814891512303), (1125, 0.3111936344859419), (1126, 0.1909979969371496), (1127, 0.23213843044751217), (1128, 0.6571923430247506), (1129, 0.1345169326251133), (1130, 0.3111936344859419), (1131, 0.13823229399477138), (1132, 0.19988184891204105), (1133, 0.3111936344859419), (1134, 0.14033657019701068), (1135, 0.5340548790683314), (1136, 0.14173075103980085), (1137, 0.13923053576992997), (1138, 0.5960023908619306), (1139, 0.3111936344859419), (1140, 0.4948241073886285), (1141, 0.17760120000590948), (1142, 0.16754116899167631), (1143, 0.2288019465377701), (1144, 0.33141449702590914), (1145, 0.24064912420627915), (1146, 0.448169563816048), (1147, 0.17827649483640134), (1148, 0.19988184891204105), (1149, 0.3111936344859419), (1150, 0.12481742110436714), (1151, 0.14976548002408427), (1152, 0.3111936344859419), (1153, 0.5193106060303464), (1154, 0.1545739341962048), (1155, 0.16754116899167631), (1156, 0.17954333027699856), (1157, 0.2325630880596372), (1158, 0.6312956788188351), (1159, 0.15222821093710617), (1160, 0.12693211589899858), (1161, 0.14047046779922573), (1162, 0.18801199496671236), (1163, 0.6719627955217732), (1164, 0.1545739341962048), (1165, 0.1421849275806854), (1166, 0.15705434830692433), (1167, 0.6312956788188351), (1168, 0.33141449702590914), (1169, 0.26977814891512303), (1170, 0.21367203989690436), (1171, 0.1283254193025752), (1172, 0.1969661167063339), (1173, 0.15458314284969976), (1174, 0.21334254781553041), (1175, 0.15890669165341342), (1176, 0.21074399733771343), (1177, 0.8781965587793157), (1178, 0.3111936344859419), (1179, 0.1799141799143406), (1180, 0.3111936344859419), (1181, 0.29009387728278246), (1182, 0.21825875077082707), (1183, 0.17760120000590948), (1184, 0.5218639151970539), (1185, 0.16392864092012), (1186, 0.1758138084272764), (1187, 0.21367203989690436), (1188, 0.2556821589682755), (1189, 0.7346607321136218), (1190, 0.17705187085568813), (1191, 0.2556821589682755), (1192, 0.5901706373024829), (1193, 0.16643723405076966), (1194, 0.18575344471023097), (1195, 0.11074495790022719), (1196, 0.16754116899167631), (1197, 0.9162314460616753), (1198, 0.1126775424691598), (1199, 0.15451462286389786), (1200, 0.2325630880596372), (1201, 0.2325630880596372), (1202, 0.5901706373024829), (1203, 0.26977814891512303), (1204, 0.26977814891512303), (1205, 0.4557869545562183), (1206, 0.18283329503758616), (1207, 0.4901409733536499), (1208, 0.21367203989690436), (1209, 0.18541840616202804), (1210, 0.1907625515580349), (1211, 0.5772948968620548), (1212, 0.1364525428791036), (1213, 0.22327788127752374), (1214, 0.19340884651239243), (1215, 0.16107320053289942), (1216, 0.21367203989690436), (1217, 0.21367203989690436), (1218, 0.5526246616797228), (1219, 0.1422237394861482), (1220, 0.5173369078447783), (1221, 0.26159040045370346), (1222, 0.21217237425775026), (1223, 0.48265018708145024), (1224, 0.13747475555415095), (1225, 0.1799141799143406), (1226, 0.18801199496671236), (1227, 0.3111936344859419), (1228, 0.26159040045370346), (1229, 0.5960023908619306), (1230, 0.13923053576992997), (1231, 0.18575344471023097), (1232, 0.18360206281765407), (1233, 0.7626312174982569), (1234, 0.20640370828286508), (1235, 0.21217237425775026), (1236, 0.1832510650139689), (1237, 0.1735718176835706), (1238, 0.22792680719730393), (1239, 1.0), (1240, 0.16976246406511655), (1241, 0.1301804692343017), (1242, 0.22792680719730393), (1243, 0.26977814891512303), (1244, 0.19640698058975117), (1245, 0.13611410171835914), (1246, 0.13614212586853494), (1247, 0.24064912420627915), (1248, 0.1735718176835706), (1249, 0.14581270498229398), (1250, 0.4172481804048489), (1251, 0.19753585811974075), (1252, 0.5301345527782817), (1253, 0.1969661167063339), (1254, 0.20120513053238143), (1255, 0.6585698866662879), (1256, 0.13459941050724059), (1257, 0.21334254781553041), (1258, 0.16976246406511655), (1259, 0.18801199496671236), (1260, 0.22327788127752374), (1261, 0.16827662942372484), (1262, 0.14033657019701068), (1263, 0.2167388878303964), (1264, 0.2304041449415074), (1265, 0.44588847111482177), (1266, 0.1907625515580349), (1267, 0.3111936344859419), (1268, 0.21217237425775026), (1269, 0.14976548002408427), (1270, 0.6312956788188351), (1271, 1.0), (1272, 0.5379874408935945), (1273, 0.1375597154666679), (1274, 0.6249676066878461), (1275, 0.19988184891204105), (1276, 0.18801199496671236), (1277, 0.159084963446124), (1278, 0.20524948037726476), (1279, 0.6312956788188351), (1280, 0.14033657019701068), (1281, 0.1545739341962048), (1282, 0.22327788127752374), (1283, 0.16976246406511655), (1284, 0.26977814891512303), (1285, 0.13609712271860144), (1286, 0.21367203989690436), (1287, 0.5977576827311633), (1288, 0.22792680719730393), (1289, 0.3111936344859419), (1290, 0.19798548187326334), (1291, 0.15705434830692433), (1292, 0.17427525906522467), (1293, 0.19640698058975117), (1294, 0.33141449702590914), (1295, 0.7626312174982569), (1296, 0.13029074618667968), (1297, 0.3111936344859419), (1298, 0.26977814891512303), (1299, 0.3111936344859419), (1300, 0.19517555718333535), (1301, 0.20120513053238143), (1302, 0.1785843769739387), (1303, 0.572722444877042), (1304, 0.26977814891512303), (1305, 0.24064912420627915), (1306, 0.18541840616202804), (1307, 0.16688456684102382), (1308, 0.14439489094266084), (1309, 0.17645912197637742), (1310, 0.13972414060845212), (1311, 0.3111936344859419), (1312, 0.26977814891512303), (1313, 0.21367203989690436), (1314, 0.5506852520731499), (1315, 0.4090799356470197), (1316, 0.11773568378346409), (1317, 0.17779115090104997), (1318, 0.26977814891512303), (1319, 0.33141449702590914), (1320, 0.15782931259241584), (1321, 0.19640698058975117), (1322, 0.3111936344859419), (1323, 0.1423508747261064), (1324, 0.1744362051356121), (1325, 0.572722444877042), (1326, 0.19640698058975117), (1327, 0.1421849275806854), (1328, 0.1736173899039154), (1329, 0.2325630880596372), (1330, 0.22327788127752374), (1331, 0.3111936344859419), (1332, 0.17686427715310316), (1333, 0.1421849275806854), (1334, 0.6230611731959181), (1335, 0.17760120000590948), (1336, 0.15705434830692433), (1337, 0.16588733972633007), (1338, 0.19798548187326334), (1339, 0.2304041449415074), (1340, 0.17041131765435466), (1341, 0.12635914193361314), (1342, 0.7346607321136218), (1343, 0.5314252109744696), (1344, 0.22327788127752374), (1345, 0.2325630880596372), (1346, 0.15274380487462272), (1347, 0.6312956788188351), (1348, 0.523320721100951), (1349, 0.18541840616202804), (1350, 0.1744362051356121), (1351, 0.5901706373024829), (1352, 0.14959806202159917), (1353, 0.3111936344859419), (1354, 0.14976548002408427), (1355, 0.33141449702590914), (1356, 0.6585698866662879), (1357, 0.1600758704407557), (1358, 0.13307174674084804), (1359, 0.26977814891512303), (1360, 0.572722444877042), (1361, 0.14823367665331894), (1362, 0.2325630880596372), (1363, 0.2325630880596372), (1364, 0.21367203989690436), (1365, 0.24064912420627915), (1366, 0.12683288910050003), (1367, 0.26977814891512303), (1368, 0.13972414060845212), (1369, 0.17760120000590948), (1370, 0.16004813903954504), (1371, 0.22327788127752374), (1372, 0.21367203989690436), (1373, 0.14982545591371832), (1374, 0.16976246406511655), (1375, 0.6585698866662879), (1376, 0.3111936344859419), (1377, 0.17760120000590948), (1378, 0.7513005699090235), (1379, 0.19640698058975117), (1380, 0.1907625515580349), (1381, 0.4465805452086581), (1382, 0.21367203989690436), (1383, 0.2556821589682755), (1384, 0.23213843044751217), (1385, 0.1568900812783303), (1386, 0.16976246406511655), (1387, 0.5152558447422135), (1388, 0.6192944751736502), (1389, 0.3111936344859419), (1390, 0.3111936344859419), (1391, 0.9162314460616753), (1392, 0.19191282431805867), (1393, 0.2127298244224796), (1394, 0.172028974421919), (1395, 0.6312956788188351), (1396, 0.14033657019701068), (1397, 0.1561916039581426), (1398, 0.1375597154666679), (1399, 0.18589533517052562), (1400, 0.5480373743697915), (1401, 0.22792680719730393), (1402, 0.33141449702590914), (1403, 0.21367203989690436), (1404, 0.33141449702590914), (1405, 0.17705187085568813), (1406, 0.18801199496671236), (1407, 0.6312956788188351), (1408, 0.18011165763719447), (1409, 0.26977814891512303), (1410, 0.21367203989690436), (1411, 0.26977814891512303), (1412, 0.16392864092012), (1413, 0.1486310389473645), (1414, 0.5480373743697915), (1415, 0.24064912420627915), (1416, 0.33141449702590914), (1417, 0.17760120000590948), (1418, 0.1313676819160325), (1419, 0.18801199496671236), (1420, 0.7562545682502935), (1421, 0.20646087669626856), (1422, 0.26977814891512303), (1423, 0.24064912420627915), (1424, 0.15975080290829002), (1425, 0.3111936344859419), (1426, 0.6312956788188351), (1427, 0.21367203989690436), (1428, 0.6312956788188351), (1429, 0.6585698866662879), (1430, 0.6312956788188351), (1431, 0.6312956788188351), (1432, 0.17427525906522467), (1433, 0.1609704709142165), (1434, 0.33141449702590914), (1435, 0.29009387728278246), (1436, 0.16392864092012), (1437, 0.19640698058975117), (1438, 0.14479736120107645), (1439, 0.33141449702590914), (1440, 0.17041381168324898), (1441, 0.2325630880596372), (1442, 0.21334254781553041), (1443, 0.23213843044751217), (1444, 0.3111936344859419), (1445, 0.2325630880596372), (1446, 0.26977814891512303), (1447, 0.17954333027699856), (1448, 0.2556821589682755), (1449, 0.6312956788188351), (1450, 0.33141449702590914), (1451, 0.6312956788188351), (1452, 0.6312956788188351), (1453, 0.2325630880596372), (1454, 0.21334254781553041), (1455, 0.18801199496671236), (1456, 0.33141449702590914), (1457, 0.2325630880596372), (1458, 0.1907625515580349), (1459, 0.2167388878303964), (1460, 0.13934261012835128), (1461, 0.22327788127752374), (1462, 0.2556821589682755), (1463, 0.1416333315380597), (1464, 0.33141449702590914), (1465, 0.26977814891512303), (1466, 0.14651075783632592), (1467, 0.14275193914051745), (1468, 0.12635914193361314), (1469, 0.4023388244882784), (1470, 0.2167388878303964), (1471, 0.13909599023332966), (1472, 0.20646087669626856), (1473, 0.18681342915535734), (1474, 0.12043994974272046), (1475, 0.1422237394861482), (1476, 0.21367203989690436), (1477, 0.1429683878358748), (1478, 0.17760120000590948), (1479, 0.21367203989690436), (1480, 0.6312956788188351), (1481, 0.19988184891204105), (1482, 0.1814382125902643), (1483, 0.17760120000590948), (1484, 0.21334254781553041), (1485, 0.2325630880596372), (1486, 0.15753144883899753), (1487, 0.21217237425775026), (1488, 0.22398665457154515), (1489, 0.18866151093005856), (1490, 0.22792680719730393), (1491, 0.17954333027699856), (1492, 0.3111936344859419), (1493, 0.6312956788188351), (1494, 0.26977814891512303), (1495, 0.12611252002595896), (1496, 0.15705434830692433), (1497, 0.33141449702590914), (1498, 0.8781965587793157), (1499, 0.33141449702590914), (1500, 0.33141449702590914), (1501, 0.2325630880596372), (1502, 0.1545739341962048), (1503, 0.2355230047469267), (1504, 0.2127298244224796), (1505, 0.12515880941413993), (1506, 0.16258959889448027), (1507, 0.22327788127752374), (1508, 0.3111936344859419), (1509, 0.572722444877042), (1510, 0.4472037895187984), (1511, 0.7856186858359218), (1512, 0.1969661167063339), (1513, 0.18212907547984997), (1514, 0.15565383072173278), (1515, 0.3676744679965325), (1516, 0.22132778726751404), (1517, 0.3111936344859419), (1518, 0.21367203989690436), (1519, 0.6585698866662879), (1520, 0.21217237425775026), (1521, 0.1421849275806854), (1522, 0.1736173899039154), (1523, 0.1814382125902643), (1524, 0.15705434830692433), (1525, 0.16754116899167631), (1526, 0.3111936344859419), (1527, 0.19798548187326334), (1528, 0.26977814891512303), (1529, 0.13103522513258462), (1530, 0.13025622478457916), (1531, 0.6312956788188351), (1532, 0.6531385472492336), (1533, 0.16827662942372484), (1534, 0.7346607321136218), (1535, 0.44588847111482177), (1536, 0.37995617236335183), (1537, 0.16117746684859438), (1538, 0.33141449702590914), (1539, 0.14555244423711977), (1540, 0.2127298244224796), (1541, 0.14674717447380242), (1542, 0.19517555718333535), (1543, 0.21367203989690436), (1544, 0.19340884651239243), (1545, 0.24253446424949238), (1546, 0.1545739341962048), (1547, 0.12132979287120559), (1548, 0.2843861100312273), (1549, 0.2325630880596372), (1550, 0.33141449702590914), (1551, 0.6312956788188351), (1552, 0.1626270547630554), (1553, 0.33141449702590914), (1554, 0.14033657019701068), (1555, 0.5901706373024829), (1556, 0.7346607321136218), (1557, 0.21217237425775026), (1558, 0.24064912420627915), (1559, 0.6312956788188351), (1560, 0.572443871758238), (1561, 0.3111936344859419), (1562, 0.6312956788188351), (1563, 0.3111936344859419), (1564, 0.24253446424949238), (1565, 0.4713175356418908), (1566, 0.14033657019701068), (1567, 0.16746902451745543), (1568, 0.6312956788188351), (1569, 0.17705187085568813), (1570, 0.12132979287120559), (1571, 0.26977814891512303), (1572, 0.15998524422187632), (1573, 0.6312956788188351), (1574, 0.33141449702590914), (1575, 0.5114101217100464), (1576, 0.23213843044751217), (1577, 0.19640698058975117), (1578, 0.13614212586853494), (1579, 0.14976548002408427), (1580, 0.18541840616202804), (1581, 0.158286933308987), (1582, 0.20640370828286508), (1583, 0.3111936344859419), (1584, 0.1857374674196088), (1585, 0.1882373900552627), (1586, 0.3111936344859419), (1587, 0.17645912197637742), (1588, 0.6312956788188351), (1589, 0.2325630880596372), (1590, 0.448169563816048), (1591, 0.18801199496671236), (1592, 0.15753144883899753), (1593, 0.33141449702590914), (1594, 0.21367203989690436), (1595, 0.791267843644199), (1596, 0.17954333027699856), (1597, 0.26977814891512303), (1598, 0.1701268348361824), (1599, 0.24253446424949238), (1600, 0.13103522513258462), (1601, 0.12611252002595896), (1602, 0.15705434830692433), (1603, 0.16976246406511655), (1604, 0.14651075783632592), (1605, 0.16230082255130962), (1606, 0.12426017431824007), (1607, 0.14935533933460898), (1608, 0.1609704709142165), (1609, 0.3111936344859419), (1610, 0.15111978239258064), (1611, 0.19640698058975117), (1612, 0.24064912420627915), (1613, 0.13027579164862457), (1614, 0.40467545356392454), (1615, 0.14982545591371832), (1616, 0.16827662942372484), (1617, 0.33141449702590914), (1618, 0.2325630880596372), (1619, 0.24064912420627915), (1620, 0.2304041449415074), (1621, 0.19988184891204105), (1622, 0.9162314460616753), (1623, 0.9162314460616753), (1624, 0.24064912420627915), (1625, 0.33141449702590914), (1626, 0.3111936344859419), (1627, 0.4472037895187984), (1628, 0.16230082255130962), (1629, 0.1735718176835706), (1630, 0.6312956788188351), (1631, 0.6312956788188351), (1632, 0.6312956788188351), (1633, 0.5043779291338135), (1634, 0.5291542895259773), (1635, 0.6312956788188351), (1636, 0.7346607321136218), (1637, 0.26977814891512303), (1638, 0.17258547288990617), (1639, 0.2325630880596372), (1640, 0.1421849275806854), (1641, 0.33141449702590914), (1642, 0.26977814891512303), (1643, 0.5901706373024829), (1644, 0.3111936344859419), (1645, 0.4563365928761693), (1646, 0.3111936344859419), (1647, 0.7346607321136218), (1648, 0.24064912420627915), (1649, 0.3676744679965325), (1650, 0.2355230047469267), (1651, 0.16745731587711146), (1652, 0.20524948037726476), (1653, 0.1486310389473645), (1654, 0.3111936344859419), (1655, 0.24064912420627915), (1656, 0.16442800057259013), (1657, 0.16745731587711146), (1658, 0.16442800057259013), (1659, 0.23213843044751217), (1660, 0.26977814891512303), (1661, 0.6312956788188351), (1662, 0.448169563816048), (1663, 0.26977814891512303), (1664, 0.11074495790022719), (1665, 0.5301345527782817), (1666, 0.24064912420627915), (1667, 0.5061880993385077), (1668, 0.3111936344859419), (1669, 0.2288019465377701), (1670, 0.33141449702590914), (1671, 0.572722444877042), (1672, 0.33141449702590914), (1673, 0.3111936344859419), (1674, 0.16805970809965937), (1675, 0.1799141799143406), (1676, 0.21217237425775026), (1677, 0.1487423205623714), (1678, 0.17760120000590948), (1679, 0.3111936344859419), (1680, 0.17760120000590948), (1681, 0.18801199496671236), (1682, 0.24064912420627915), (1683, 0.16004813903954504), (1684, 0.16754116899167631), (1685, 0.24064912420627915), (1686, 0.26159040045370346), (1687, 0.17760120000590948), (1688, 0.26977814891512303), (1689, 0.3111936344859419), (1690, 0.172028974421919), (1691, 0.33141449702590914), (1692, 0.2843861100312273), (1693, 0.21367203989690436), (1694, 0.19517555718333535), (1695, 0.21217237425775026), (1696, 0.1545739341962048), (1697, 0.14982545591371832), (1698, 0.3111936344859419), (1699, 0.6312956788188351), (1700, 0.1421849275806854), (1701, 0.16860008271632593), (1702, 0.3111936344859419), (1703, 0.18541840616202804), (1704, 0.16688456684102382), (1705, 0.5340630474358495), (1706, 0.14397392244717566), (1707, 0.1638469338912229), (1708, 0.25174842481438536), (1709, 0.24253446424949238), (1710, 0.18318653706158564), (1711, 0.15947545827506804), (1712, 0.33141449702590914), (1713, 0.1907625515580349), (1714, 0.14553168317408988), (1715, 0.3111936344859419), (1716, 0.14385030762439394), (1717, 0.18318653706158564), (1718, 0.2325630880596372), (1719, 0.21367203989690436), (1720, 0.16688456684102382), (1721, 0.19340884651239243), (1722, 0.21367203989690436), (1723, 0.6312956788188351), (1724, 0.6312956788188351), (1725, 0.26159040045370346), (1726, 0.16754116899167631), (1727, 0.18212907547984997), (1728, 0.1341179055740142), (1729, 0.3111936344859419), (1730, 0.1758138084272764), (1731, 0.15951636834247743), (1732, 0.16528634790942343), (1733, 0.26977814891512303), (1734, 0.24253446424949238), (1735, 0.19340884651239243), (1736, 0.19798548187326334), (1737, 0.3111936344859419), (1738, 0.18575344471023097), (1739, 0.19988184891204105), (1740, 0.17760120000590948), (1741, 0.3111936344859419), (1742, 0.33141449702590914), (1743, 0.24064912420627915), (1744, 0.172028974421919), (1745, 0.4090799356470197), (1746, 0.2325630880596372), (1747, 0.24064912420627915), (1748, 0.13823229399477138), (1749, 0.23213843044751217), (1750, 0.14581270498229398), (1751, 0.24253446424949238), (1752, 0.3111936344859419), (1753, 0.6312956788188351), (1754, 0.2304041449415074), (1755, 0.14935533933460898), (1756, 0.7626312174982569), (1757, 0.3111936344859419), (1758, 0.16688456684102382), (1759, 0.26977814891512303), (1760, 0.49505185387288053), (1761, 0.6992751432172762), (1762, 0.24064912420627915), (1763, 0.24064912420627915), (1764, 0.12201410142293297), (1765, 0.26977814891512303), (1766, 0.21217237425775026), (1767, 0.3111936344859419), (1768, 0.24064912420627915), (1769, 0.15705434830692433), (1770, 0.2843861100312273), (1771, 0.16754116899167631), (1772, 0.14033657019701068), (1773, 0.6312956788188351), (1774, 0.572722444877042), (1775, 0.11306912793041793), (1776, 0.2304041449415074), (1777, 0.3111936344859419), (1778, 0.2325630880596372), (1779, 0.6585698866662879), (1780, 0.18541840616202804), (1781, 0.17427525906522467), (1782, 0.24064912420627915), (1783, 0.14823367665331894), (1784, 0.480553872445421), (1785, 0.3111936344859419), (1786, 0.3111936344859419), (1787, 0.2325630880596372), (1788, 0.17645912197637742), (1789, 0.16392864092012), (1790, 0.3111936344859419), (1791, 0.14666516088902187), (1792, 0.26977814891512303), (1793, 0.33141449702590914), (1794, 0.46942871322834645), (1795, 0.7346607321136218), (1796, 0.5301345527782817), (1797, 0.15106683376621993), (1798, 0.1744362051356121), (1799, 0.1545739341962048), (1800, 0.16688456684102382), (1801, 0.33141449702590914), (1802, 0.13768984786180757), (1803, 0.2325630880596372), (1804, 0.15111978239258064), (1805, 0.33141449702590914), (1806, 0.1882373900552627), (1807, 0.33141449702590914), (1808, 0.18541840616202804), (1809, 0.1907625515580349), (1810, 0.12115641133859953), (1811, 0.6585698866662879), (1812, 0.5559217722767616), (1813, 0.6719627955217732), (1814, 0.33141449702590914), (1815, 0.18801199496671236), (1816, 0.1882373900552627), (1817, 0.9162314460616753), (1818, 0.24253446424949238), (1819, 0.5173369078447783), (1820, 0.16688456684102382), (1821, 0.17779115090104997), (1822, 0.1418288022652649), (1823, 0.2843861100312273), (1824, 0.6531385472492336), (1825, 0.7346607321136218), (1826, 0.33141449702590914), (1827, 0.21367203989690436), (1828, 0.12397768761894473), (1829, 0.6992751432172762), (1830, 0.07746047717626525), (1831, 0.33141449702590914), (1832, 0.21508745566455068), (1833, 0.5351972862825586), (1834, 0.3111936344859419), (1835, 1.0), (1836, 0.14581270498229398), (1837, 0.15705434830692433), (1838, 0.6312956788188351), (1839, 0.21217237425775026), (1840, 0.6312956788188351), (1841, 0.12411653887040322), (1842, 0.21217237425775026), (1843, 0.33141449702590914), (1844, 0.1421849275806854), (1845, 0.20646087669626856), (1846, 0.1907625515580349), (1847, 0.19340884651239243), (1848, 0.26977814891512303), (1849, 0.3111936344859419), (1850, 0.21217237425775026), (1851, 0.21367203989690436), (1852, 0.9162314460616753), (1853, 0.17760120000590948), (1854, 0.2304041449415074), (1855, 0.5247751923988574), (1856, 0.3111936344859419), (1857, 0.9162314460616753), (1858, 0.19244869012521884), (1859, 0.9162314460616753), (1860, 0.24064912420627915), (1861, 0.20640370828286508), (1862, 0.33141449702590914), (1863, 0.7346607321136218), (1864, 0.4327190553981575), (1865, 0.2556821589682755), (1866, 0.20646087669626856), (1867, 0.2325630880596372), (1868, 0.15885972074779992), (1869, 0.24064912420627915), (1870, 0.24253446424949238), (1871, 0.21367203989690436), (1872, 0.33141449702590914), (1873, 0.9162314460616753), (1874, 0.2304041449415074), (1875, 0.1416333315380597), (1876, 0.21334254781553041), (1877, 0.26977814891512303), (1878, 0.172028974421919), (1879, 0.3111936344859419), (1880, 0.2325630880596372), (1881, 0.1785843769739387), (1882, 0.6719627955217732), (1883, 0.1909979969371496), (1884, 0.18541840616202804), (1885, 0.24064912420627915), (1886, 0.12132979287120559), (1887, 0.33141449702590914), (1888, 0.15975080290829002), (1889, 0.17921070980453913), (1890, 0.33141449702590914), (1891, 0.6719627955217732), (1892, 0.6585698866662879), (1893, 0.21367203989690436), (1894, 0.14577081772464195), (1895, 0.19640698058975117), (1896, 0.13823229399477138), (1897, 0.5843217634144501), (1898, 0.1626270547630554), (1899, 0.6531385472492336), (1900, 0.645641681759418), (1901, 0.1907625515580349), (1902, 0.22398665457154515), (1903, 0.13459941050724059), (1904, 0.3883082791611822), (1905, 0.21367203989690436), (1906, 0.3111936344859419), (1907, 0.6078995394138633), (1908, 0.13958922225085313), (1909, 0.24064912420627915), (1910, 0.29009387728278246), (1911, 0.1355406451902449), (1912, 0.22792680719730393), (1913, 0.16754116899167631), (1914, 0.5772948968620548), (1915, 0.3111936344859419), (1916, 0.6719627955217732), (1917, 0.3111936344859419), (1918, 0.2556821589682755), (1919, 0.26977814891512303), (1920, 0.7386273541862152), (1921, 0.33141449702590914), (1922, 0.16049998700314494), (1923, 0.20640370828286508), (1924, 0.6585698866662879), (1925, 0.448169563816048), (1926, 0.4606922761122771), (1927, 0.6312956788188351), (1928, 0.3111936344859419), (1929, 0.26977814891512303), (1930, 0.6312956788188351), (1931, 0.1799141799143406), (1932, 0.158286933308987), (1933, 0.6312956788188351), (1934, 0.1799141799143406), (1935, 0.2325630880596372), (1936, 0.20120513053238143), (1937, 0.18801199496671236), (1938, 0.3111936344859419), (1939, 0.17645912197637742), (1940, 0.9162314460616753), (1941, 0.2076477437384297), (1942, 0.1735718176835706), (1943, 0.16004813903954504), (1944, 0.3111936344859419), (1945, 0.1795462471334448), (1946, 0.1638469338912229), (1947, 0.26977814891512303), (1948, 0.14976548002408427), (1949, 0.5506852520731499), (1950, 0.157106659342765), (1951, 0.21367203989690436), (1952, 0.6992751432172762), (1953, 0.6312956788188351), (1954, 0.26977814891512303), (1955, 0.1377364501148517), (1956, 0.2325630880596372), (1957, 0.3111936344859419), (1958, 0.5988923324061556), (1959, 0.33141449702590914), (1960, 0.2556821589682755), (1961, 0.17921070980453913), (1962, 0.6312956788188351), (1963, 0.2325630880596372), (1964, 0.6585698866662879), (1965, 0.17498023127105605), (1966, 0.48099785785998034), (1967, 0.19988184891204105), (1968, 0.4472037895187984), (1969, 0.18541840616202804), (1970, 0.8187488334562425), (1971, 0.13507289835593306), (1972, 0.17827649483640134), (1973, 0.19340884651239243), (1974, 0.2325630880596372), (1975, 0.9162314460616753), (1976, 0.1545739341962048), (1977, 0.2043730059077291), (1978, 0.3111936344859419), (1979, 0.16688456684102382), (1980, 0.26977814891512303), (1981, 0.22327788127752374), (1982, 0.12635914193361314), (1983, 0.572722444877042), (1984, 0.15469911664906746), (1985, 0.4657326255535709), (1986, 0.22327788127752374), (1987, 0.16746902451745543), (1988, 0.16905545392949584), (1989, 0.1716186211765856), (1990, 0.5043779291338135), (1991, 0.5114101217100464), (1992, 0.49799355755819524), (1993, 0.789250533564555), (1994, 0.3111936344859419), (1995, 0.1758138084272764), (1996, 0.9162314460616753), (1997, 0.19988184891204105), (1998, 0.789250533564555), (1999, 0.1421849275806854), (2000, 0.1638469338912229), (2001, 0.2325630880596372), (2002, 0.3111936344859419), (2003, 0.2325630880596372), (2004, 0.24064912420627915), (2005, 0.3111936344859419), (2006, 0.15951636834247743), (2007, 0.2325630880596372), (2008, 0.6585698866662879), (2009, 0.2325630880596372), (2010, 0.12132979287120559), (2011, 0.11097968995789506), (2012, 0.2076477437384297), (2013, 0.1907625515580349), (2014, 0.19640698058975117), (2015, 0.1907625515580349), (2016, 0.5152558447422135), (2017, 0.7346607321136218), (2018, 0.14581270498229398), (2019, 0.12611252002595896), (2020, 0.2843861100312273), (2021, 0.15753144883899753), (2022, 0.16905545392949584), (2023, 0.2304041449415074), (2024, 0.17760120000590948), (2025, 0.24253446424949238), (2026, 0.1882373900552627), (2027, 0.1758138084272764), (2028, 0.26159040045370346), (2029, 0.2304041449415074), (2030, 0.16688456684102382), (2031, 0.5901706373024829), (2032, 0.2325630880596372), (2033, 0.18133459574498262), (2034, 0.20120513053238143), (2035, 0.24064912420627915), (2036, 0.2325630880596372), (2037, 0.19988184891204105), (2038, 0.14537925122428724), (2039, 0.5456743846005776), (2040, 0.17760120000590948), (2041, 0.15705434830692433), (2042, 0.3111936344859419), (2043, 0.17258547288990617), (2044, 0.5609727344071124), (2045, 0.1799141799143406), (2046, 0.21217237425775026), (2047, 0.33141449702590914), (2048, 0.1422237394861482), (2049, 0.13547459361911923), (2050, 0.17921070980453913), (2051, 0.24064912420627915), (2052, 0.24253446424949238), (2053, 0.19988184891204105), (2054, 0.16905545392949584), (2055, 0.14692883681000893), (2056, 0.6531385472492336), (2057, 0.5314252109744696), (2058, 0.15753144883899753), (2059, 0.6531385472492336), (2060, 0.26977814891512303), (2061, 0.1486310389473645), (2062, 0.39527359046042937), (2063, 0.3111936344859419), (2064, 0.3111936344859419), (2065, 0.1252612015568821), (2066, 0.16392864092012), (2067, 0.11626121151338596), (2068, 0.21367203989690436), (2069, 0.2556821589682755), (2070, 0.19988184891204105), (2071, 0.3111936344859419), (2072, 0.33141449702590914), (2073, 0.524406098367979), (2074, 0.5043779291338135), (2075, 0.16001186197600625), (2076, 0.20640370828286508), (2077, 0.19340884651239243), (2078, 0.1545739341962048), (2079, 0.3111936344859419), (2080, 0.2304041449415074), (2081, 0.1529021086539633), (2082, 0.4946961347499519), (2083, 0.1301804692343017), (2084, 0.29009387728278246), (2085, 0.1549246217010863), (2086, 0.13459941050724059), (2087, 0.17041131765435466), (2088, 0.21334254781553041), (2089, 0.6585698866662879), (2090, 0.17245912237162841), (2091, 0.1486310389473645), (2092, 0.3111936344859419), (2093, 0.15458314284969976), (2094, 0.4643215480976156), (2095, 0.14935533933460898), (2096, 0.19988184891204105), (2097, 0.6230611731959181), (2098, 0.3111936344859419), (2099, 0.19753585811974075), (2100, 0.158286933308987), (2101, 0.5581897264717144), (2102, 0.18054255827284174), (2103, 0.14894273300551994), (2104, 0.16107320053289942), (2105, 0.24064912420627915), (2106, 0.2325630880596372), (2107, 0.15975080290829002), (2108, 0.21367203989690436), (2109, 0.33141449702590914), (2110, 0.5314252109744696), (2111, 0.21367203989690436), (2112, 0.572722444877042), (2113, 0.24253446424949238), (2114, 0.14275193914051745), (2115, 0.7346607321136218), (2116, 0.21367203989690436), (2117, 0.16531966069976922), (2118, 0.13941968972967886), (2119, 0.5988923324061556), (2120, 0.19736172457054024), (2121, 0.2556821589682755), (2122, 0.21367203989690436), (2123, 0.33141449702590914), (2124, 0.24253446424949238), (2125, 0.12792490292816946), (2126, 0.2304041449415074), (2127, 0.20120513053238143), (2128, 0.3111936344859419), (2129, 0.33141449702590914), (2130, 0.6056456339529722), (2131, 0.21367203989690436), (2132, 0.24064912420627915), (2133, 0.33141449702590914), (2134, 0.1758138084272764), (2135, 0.16688456684102382), (2136, 0.12481742110436714), (2137, 0.26977814891512303), (2138, 0.3111936344859419), (2139, 0.4901409733536499), (2140, 0.16643723405076966), (2141, 0.33141449702590914), (2142, 0.33141449702590914), (2143, 0.17041131765435466), (2144, 0.24064912420627915), (2145, 0.17954333027699856), (2146, 0.26977814891512303), (2147, 0.3111936344859419), (2148, 0.26977814891512303), (2149, 0.24064912420627915), (2150, 0.13346576864909326), (2151, 0.26977814891512303), (2152, 0.786392669455042), (2153, 0.13346576864909326), (2154, 0.19988184891204105), (2155, 0.24064912420627915), (2156, 0.2325630880596372), (2157, 0.17954333027699856), (2158, 0.22327788127752374), (2159, 0.16230082255130962), (2160, 0.2325630880596372), (2161, 0.2325630880596372), (2162, 0.14413282544485273), (2163, 0.33141449702590914), (2164, 0.19640698058975117), (2165, 0.19467661522251908), (2166, 0.22132778726751404), (2167, 0.2325630880596372), (2168, 0.2325630880596372), (2169, 0.1638469338912229), (2170, 0.17705187085568813), (2171, 0.16688456684102382), (2172, 0.26159040045370346), (2173, 0.33141449702590914), (2174, 0.19988184891204105), (2175, 0.17827649483640134), (2176, 0.21825875077082707), (2177, 0.16241443084404508), (2178, 0.3858189845252406), (2179, 0.16643723405076966), (2180, 0.44588847111482177), (2181, 0.6256663359328448), (2182, 0.2843861100312273), (2183, 0.1421849275806854), (2184, 0.2127298244224796), (2185, 0.19640698058975117), (2186, 0.2325630880596372), (2187, 0.21367203989690436), (2188, 0.21334254781553041), (2189, 0.33141449702590914), (2190, 0.33141449702590914), (2191, 0.6585698866662879), (2192, 0.26977814891512303), (2193, 0.21367203989690436), (2194, 0.6531385472492336), (2195, 0.24064912420627915), (2196, 0.19988184891204105), (2197, 0.23213843044751217), (2198, 0.158286933308987), (2199, 0.19753585811974075), (2200, 0.18681342915535734), (2201, 0.21367203989690436), (2202, 0.3111936344859419), (2203, 0.3111936344859419), (2204, 0.3111936344859419), (2205, 0.5089680203116264), (2206, 0.18801199496671236), (2207, 0.07883997591585687), (2208, 0.17645912197637742), (2209, 0.26977814891512303), (2210, 0.5301345527782817), (2211, 0.16827662942372484), (2212, 0.17232570200466565), (2213, 0.33141449702590914), (2214, 0.19988184891204105), (2215, 0.3111936344859419), (2216, 0.19988184891204105), (2217, 0.15753144883899753), (2218, 0.22792680719730393), (2219, 0.3111936344859419), (2220, 0.17827649483640134), (2221, 0.17568023955554196), (2222, 0.17954333027699856), (2223, 0.19753585811974075), (2224, 0.17760120000590948), (2225, 0.17954333027699856), (2226, 0.1758138084272764), (2227, 0.24253446424949238), (2228, 0.22327788127752374), (2229, 0.5061880993385077), (2230, 0.24064912420627915), (2231, 0.6992751432172762), (2232, 0.1545739341962048), (2233, 0.14976548002408427), (2234, 0.2325630880596372), (2235, 0.5988923324061556), (2236, 0.26977814891512303), (2237, 0.1744362051356121), (2238, 0.2843861100312273), (2239, 0.1549246217010863), (2240, 0.15321590925339446), (2241, 0.24253446424949238), (2242, 0.13361905452519046), (2243, 0.1549246217010863), (2244, 0.17827649483640134), (2245, 0.6312956788188351), (2246, 0.9162314460616753), (2247, 0.17827649483640134), (2248, 0.16932698488111664), (2249, 0.1909979969371496), (2250, 0.6230611731959181), (2251, 0.18541840616202804), (2252, 0.29009387728278246), (2253, 0.2686683291702636), (2254, 0.572722444877042), (2255, 0.5901706373024829), (2256, 0.13846339198426702), (2257, 0.21825875077082707), (2258, 0.2325630880596372), (2259, 0.158286933308987), (2260, 0.14692723831723592), (2261, 0.21217237425775026), (2262, 0.21217237425775026), (2263, 0.16688456684102382), (2264, 0.20640370828286508), (2265, 0.12665823349264752), (2266, 0.24064912420627915), (2267, 0.16688456684102382), (2268, 0.33141449702590914), (2269, 0.12321967198989604), (2270, 0.26977814891512303), (2271, 0.3111936344859419), (2272, 0.3111936344859419), (2273, 0.9162314460616753), (2274, 0.24253446424949238), (2275, 0.18801199496671236), (2276, 0.18801199496671236), (2277, 0.4563365928761693), (2278, 0.448169563816048), (2279, 0.1590458722025207), (2280, 0.14206585999883783), (2281, 0.21217237425775026), (2282, 0.3111936344859419), (2283, 0.12003756972694657), (2284, 0.49799355755819524), (2285, 0.2355230047469267), (2286, 0.14774405123163417), (2287, 0.19540171025097797), (2288, 0.33141449702590914), (2289, 0.1430089786164117), (2290, 0.21217237425775026), (2291, 0.16905545392949584), (2292, 0.26977814891512303), (2293, 0.33141449702590914), (2294, 0.1341179055740142), (2295, 0.5061880993385077), (2296, 0.19640698058975117), (2297, 0.20524948037726476), (2298, 0.19640698058975117), (2299, 0.33141449702590914), (2300, 0.13846339198426702), (2301, 0.18520043763274927), (2302, 0.21367203989690436), (2303, 0.26977814891512303), (2304, 0.22327788127752374), (2305, 0.3111936344859419), (2306, 0.33141449702590914), (2307, 0.3111936344859419), (2308, 0.15975080290829002), (2309, 0.26977814891512303), (2310, 0.33141449702590914), (2311, 0.3111936344859419), (2312, 0.3111936344859419), (2313, 0.16230082255130962), (2314, 0.9162314460616753), (2315, 0.24253446424949238), (2316, 0.47599960867632707), (2317, 0.33141449702590914), (2318, 0.12183253909223764), (2319, 0.24064912420627915), (2320, 0.21367203989690436), (2321, 0.2304041449415074), (2322, 0.16754116899167631), (2323, 0.33141449702590914), (2324, 0.2355230047469267), (2325, 0.3111936344859419), (2326, 0.16860008271632593), (2327, 0.21217237425775026), (2328, 0.2233502534270261), (2329, 0.1421849275806854), (2330, 0.12481742110436714), (2331, 0.1814382125902643), (2332, 0.14935533933460898), (2333, 0.2325630880596372), (2334, 0.19988184891204105), (2335, 0.15111978239258064), (2336, 0.19517555718333535), (2337, 0.1417088121711957), (2338, 0.24064912420627915), (2339, 0.3111936344859419), (2340, 0.26977814891512303), (2341, 0.17827649483640134), (2342, 0.17827649483640134), (2343, 0.17827649483640134), (2344, 0.47094750706630983), (2345, 0.17827649483640134), (2346, 0.2304041449415074), (2347, 0.18541840616202804), (2348, 0.22398665457154515), (2349, 0.24064912420627915), (2350, 0.14173075103980085), (2351, 0.21217237425775026), (2352, 0.14935533933460898), (2353, 0.17128181620178512), (2354, 0.33141449702590914), (2355, 0.1609704709142165), (2356, 0.20120513053238143), (2357, 0.37776328963901484), (2358, 0.15187913099767555), (2359, 0.7386273541862152), (2360, 0.3111936344859419), (2361, 0.16722337976599042), (2362, 0.24064912420627915), (2363, 0.19340884651239243), (2364, 0.17921070980453913), (2365, 0.14935533933460898), (2366, 0.3111936344859419), (2367, 0.172028974421919), (2368, 0.2325630880596372), (2369, 1.0), (2370, 0.33141449702590914), (2371, 0.16754116899167631), (2372, 0.16688456684102382), (2373, 0.6531385472492336), (2374, 0.6585698866662879), (2375, 0.21367203989690436), (2376, 0.2288019465377701), (2377, 0.3111936344859419), (2378, 0.16722337976599042), (2379, 0.19753585811974075), (2380, 0.3111936344859419), (2381, 0.1626270547630554), (2382, 0.1758138084272764), (2383, 0.18801199496671236), (2384, 0.3111936344859419), (2385, 0.21367203989690436), (2386, 0.12856837305762941), (2387, 0.26977814891512303), (2388, 0.13238466217703332), (2389, 0.13972414060845212), (2390, 0.18520043763274927), (2391, 0.21367203989690436), (2392, 0.33141449702590914), (2393, 0.21825875077082707), (2394, 0.13667698139698714), (2395, 0.17954333027699856), (2396, 0.26977814891512303), (2397, 0.21367203989690436), (2398, 0.13487432640019942), (2399, 0.18706443648402102), (2400, 0.6719627955217732), (2401, 0.33141449702590914), (2402, 0.21367203989690436), (2403, 0.26977814891512303), (2404, 0.26977814891512303), (2405, 0.24064912420627915), (2406, 0.19988184891204105), (2407, 0.24064912420627915), (2408, 0.16688456684102382), (2409, 0.2325630880596372), (2410, 0.21367203989690436), (2411, 0.19191282431805867), (2412, 0.15837813528580952), (2413, 0.14033657019701068), (2414, 0.14935533933460898), (2415, 0.11686287426690382), (2416, 0.33141449702590914), (2417, 0.33141449702590914), (2418, 0.33141449702590914), (2419, 0.33141449702590914), (2420, 0.2325630880596372), (2421, 0.13364304726359785), (2422, 0.21367203989690436), (2423, 0.19753585811974075), (2424, 0.19340884651239243), (2425, 0.33141449702590914), (2426, 0.13456843526814244), (2427, 0.1799141799143406), (2428, 0.1799141799143406), (2429, 0.18801199496671236), (2430, 0.1416333315380597), (2431, 0.2325630880596372), (2432, 0.4193630813120567), (2433, 0.13346576864909326), (2434, 0.21367203989690436), (2435, 0.21217237425775026), (2436, 0.26977814891512303), (2437, 0.21074399733771343), (2438, 0.18318653706158564), (2439, 0.42558417885485444), (2440, 0.26977814891512303), (2441, 0.21367203989690436), (2442, 0.14033657019701068), (2443, 0.384551619407843), (2444, 0.16746902451745543), (2445, 0.3111936344859419), (2446, 0.26977814891512303), (2447, 0.19988184891204105), (2448, 0.21825875077082707), (2449, 0.21217237425775026), (2450, 0.1172335523365724), (2451, 0.12115641133859953), (2452, 0.3111936344859419), (2453, 0.24064912420627915), (2454, 0.33141449702590914), (2455, 0.3111936344859419), (2456, 0.16754116899167631), (2457, 0.24064912420627915), (2458, 0.3111936344859419), (2459, 0.21334254781553041), (2460, 0.3111936344859419), (2461, 0.172028974421919), (2462, 0.16688456684102382), (2463, 0.33141449702590914), (2464, 0.20640370828286508), (2465, 0.3111936344859419), (2466, 0.12826456705126796), (2467, 0.21367203989690436), (2468, 0.2076477437384297), (2469, 0.18318653706158564), (2470, 0.2843861100312273), (2471, 0.17827649483640134), (2472, 0.1909979969371496), (2473, 0.18283329503758616), (2474, 0.1622009727153434), (2475, 0.24064912420627915), (2476, 0.23213843044751217), (2477, 0.6585698866662879), (2478, 0.17220362392936364), (2479, 0.12167379825342972), (2480, 0.6312956788188351), (2481, 0.33141449702590914), (2482, 0.13823229399477138), (2483, 0.3111936344859419), (2484, 0.12637383181175846), (2485, 0.23851272805731571), (2486, 0.5641584759862038), (2487, 0.22327788127752374), (2488, 0.21367203989690436), (2489, 0.19244869012521884), (2490, 0.26977814891512303), (2491, 0.3111936344859419), (2492, 0.21367203989690436), (2493, 0.572443871758238), (2494, 0.21367203989690436), (2495, 0.26977814891512303), (2496, 0.4327190553981575), (2497, 0.5153106459492188), (2498, 0.7346607321136218), (2499, 0.1529021086539633), (2500, 0.13459941050724059), (2501, 0.14033657019701068), (2502, 0.16230082255130962), (2503, 0.7346607321136218), (2504, 0.1421849275806854), (2505, 0.1758138084272764), (2506, 0.1907625515580349), (2507, 0.26977814891512303), (2508, 0.3111936344859419), (2509, 0.21367203989690436), (2510, 0.3111936344859419), (2511, 0.2325630880596372), (2512, 0.1756937592668133), (2513, 0.1969661167063339), (2514, 0.17954333027699856), (2515, 0.3111936344859419), (2516, 0.15705434830692433), (2517, 0.1796351612139294), (2518, 0.3111936344859419), (2519, 0.1882373900552627), (2520, 0.13823229399477138), (2521, 0.12320707526775732), (2522, 0.1568900812783303), (2523, 0.3111936344859419), (2524, 0.5988923324061556), (2525, 0.33141449702590914), (2526, 0.18318653706158564), (2527, 0.13611410171835914), (2528, 0.24064912420627915), (2529, 0.21367203989690436), (2530, 0.16531966069976922), (2531, 0.172028974421919), (2532, 0.13103522513258462), (2533, 0.33141449702590914), (2534, 0.18318653706158564), (2535, 0.21367203989690436), (2536, 0.3111936344859419), (2537, 0.26977814891512303), (2538, 0.18318653706158564), (2539, 0.1172335523365724), (2540, 0.14871189718466), (2541, 0.6312956788188351), (2542, 0.3111936344859419), (2543, 0.2325630880596372), (2544, 0.1345169326251133), (2545, 0.33141449702590914), (2546, 0.20640370828286508), (2547, 0.2843861100312273), (2548, 0.3111936344859419), (2549, 0.1736173899039154), (2550, 0.157106659342765), (2551, 0.3111936344859419), (2552, 0.33141449702590914), (2553, 0.21367203989690436), (2554, 0.15574791687216946), (2555, 0.1799141799143406), (2556, 0.12049226645148367), (2557, 0.33141449702590914), (2558, 0.2556821589682755), (2559, 0.1744362051356121), (2560, 0.24064912420627915), (2561, 0.26977814891512303), (2562, 0.19425280572903936), (2563, 0.18541840616202804), (2564, 0.6531385472492336), (2565, 0.33141449702590914), (2566, 0.2325630880596372), (2567, 0.14040462673414886), (2568, 0.21825875077082707), (2569, 0.21005954815727962), (2570, 0.21367203989690436), (2571, 0.17568023955554196), (2572, 0.33141449702590914), (2573, 0.4193630813120567), (2574, 0.5232325823923155), (2575, 0.22792680719730393), (2576, 0.23213843044751217), (2577, 0.23851272805731571), (2578, 0.1857374674196088), (2579, 0.21825875077082707), (2580, 0.2556821589682755), (2581, 0.19340884651239243), (2582, 0.1814382125902643), (2583, 0.16688456684102382), (2584, 0.13346576864909326), (2585, 0.33141449702590914), (2586, 0.17954333027699856), (2587, 0.26977814891512303), (2588, 0.2325630880596372), (2589, 0.17013055490652462), (2590, 0.14982545591371832), (2591, 0.19753585811974075), (2592, 0.19753585811974075), (2593, 0.15488082688264518), (2594, 0.2325630880596372), (2595, 0.19092778217430117), (2596, 0.7346607321136218), (2597, 0.16643723405076966), (2598, 0.6585698866662879), (2599, 0.448169563816048), (2600, 0.19340884651239243), (2601, 0.17041131765435466), (2602, 0.19988184891204105), (2603, 0.13547459361911923), (2604, 0.21217237425775026), (2605, 0.15331147666645295), (2606, 0.2556821589682755), (2607, 0.1735718176835706), (2608, 0.6531385472492336), (2609, 0.15890669165341342), (2610, 0.21367203989690436), (2611, 0.18541840616202804), (2612, 0.21825875077082707), (2613, 0.33141449702590914), (2614, 0.1638469338912229), (2615, 0.17921070980453913), (2616, 0.13972414060845212), (2617, 0.5061880993385077), (2618, 0.448169563816048), (2619, 0.26977814891512303), (2620, 0.3111936344859419), (2621, 0.19988184891204105), (2622, 0.1545739341962048), (2623, 0.1758138084272764), (2624, 0.33141449702590914), (2625, 0.19798548187326334), (2626, 0.2076477437384297), (2627, 0.17827649483640134), (2628, 0.33141449702590914), (2629, 0.6380800654042634), (2630, 0.6312956788188351), (2631, 0.3111936344859419), (2632, 0.6585698866662879), (2633, 0.21367203989690436), (2634, 0.1301804692343017), (2635, 0.22327788127752374), (2636, 0.33141449702590914), (2637, 0.21217237425775026), (2638, 0.572722444877042), (2639, 0.3111936344859419), (2640, 0.20120513053238143), (2641, 0.16976246406511655), (2642, 0.16329942361186256), (2643, 0.1426573164329805), (2644, 0.4557869545562183), (2645, 0.17760120000590948), (2646, 0.1626270547630554), (2647, 0.1799141799143406), (2648, 0.3111936344859419), (2649, 0.2304041449415074), (2650, 0.24064912420627915), (2651, 0.33141449702590914), (2652, 0.12814790932883488), (2653, 0.26977814891512303), (2654, 0.1423966296526767), (2655, 0.2556821589682755), (2656, 0.21217237425775026), (2657, 0.24253446424949238), (2658, 0.17827649483640134), (2659, 0.24253446424949238), (2660, 0.7346607321136218), (2661, 0.21367203989690436), (2662, 0.2325630880596372), (2663, 0.2325630880596372), (2664, 0.24064912420627915), (2665, 0.17954333027699856), (2666, 0.12515880941413993), (2667, 0.24253446424949238), (2668, 0.17760120000590948), (2669, 0.3111936344859419), (2670, 0.1341179055740142), (2671, 0.2325630880596372), (2672, 0.13972414060845212), (2673, 0.33141449702590914), (2674, 0.16722337976599042), (2675, 0.3111936344859419), (2676, 0.24253446424949238), (2677, 0.2325630880596372), (2678, 0.21367203989690436), (2679, 0.33141449702590914), (2680, 0.6873412180182623), (2681, 0.2325630880596372), (2682, 0.3750864179614471), (2683, 0.9162314460616753), (2684, 0.3111936344859419), (2685, 0.6531385472492336), (2686, 1.0), (2687, 0.21367203989690436), (2688, 0.12611252002595896), (2689, 0.1545739341962048), (2690, 0.6531385472492336), (2691, 0.13131193375646272), (2692, 0.19988184891204105), (2693, 0.2325630880596372), (2694, 0.33141449702590914), (2695, 0.572722444877042), (2696, 0.21367203989690436), (2697, 0.17760120000590948), (2698, 0.7386273541862152), (2699, 0.2325630880596372), (2700, 0.29009387728278246), (2701, 0.2325630880596372), (2702, 0.21367203989690436), (2703, 0.3111936344859419), (2704, 0.16688456684102382), (2705, 0.13238466217703332), (2706, 0.11917572879495449), (2707, 0.20120513053238143), (2708, 0.11735213184041379), (2709, 0.14125527899504245), (2710, 0.1736173899039154), (2711, 0.1545739341962048), (2712, 0.26977814891512303), (2713, 0.14976548002408427), (2714, 0.12433994742968364), (2715, 0.11602493145004428), (2716, 0.2556821589682755), (2717, 0.11493680472986405), (2718, 0.2167388878303964), (2719, 0.16688456684102382), (2720, 0.22132778726751404), (2721, 0.19753585811974075), (2722, 0.26977814891512303), (2723, 0.33141449702590914), (2724, 0.1609704709142165), (2725, 0.2355230047469267), (2726, 0.3111936344859419), (2727, 0.19517555718333535), (2728, 0.26977814891512303), (2729, 0.12140695376296115), (2730, 0.2325630880596372), (2731, 0.26977814891512303), (2732, 0.2325630880596372), (2733, 0.5043779291338135), (2734, 0.3111936344859419), (2735, 0.33141449702590914), (2736, 0.9162314460616753), (2737, 0.2325630880596372), (2738, 0.26977814891512303), (2739, 0.2304041449415074), (2740, 0.19540171025097797), (2741, 0.19753585811974075), (2742, 0.18801199496671236), (2743, 0.13823229399477138), (2744, 0.21367203989690436), (2745, 0.14654203583470346), (2746, 0.21367203989690436), (2747, 0.21367203989690436), (2748, 0.21367203989690436), (2749, 0.14976548002408427), (2750, 0.13846339198426702), (2751, 0.18801199496671236), (2752, 0.2304041449415074), (2753, 0.33141449702590914), (2754, 0.1628754950372654), (2755, 0.18011165763719447), (2756, 0.14823367665331894), (2757, 0.33141449702590914), (2758, 0.16004813903954504), (2759, 0.6312956788188351), (2760, 0.33141449702590914), (2761, 0.24064912420627915), (2762, 0.17827649483640134), (2763, 0.17921070980453913), (2764, 0.21367203989690436), (2765, 0.33141449702590914), (2766, 0.1196822617251615), (2767, 0.16722337976599042), (2768, 0.17760120000590948), (2769, 0.21367203989690436), (2770, 0.14823367665331894), (2771, 0.14788496621777913), (2772, 0.08219769801098353), (2773, 0.7346607321136218), (2774, 0.19640698058975117), (2775, 0.24064912420627915), (2776, 0.21367203989690436), (2777, 0.12374680611960645), (2778, 0.21334254781553041), (2779, 0.157106659342765), (2780, 0.5506852520731499), (2781, 0.15705434830692433), (2782, 0.19753585811974075), (2783, 0.33141449702590914), (2784, 0.19988184891204105), (2785, 1.0), (2786, 0.26977814891512303), (2787, 0.2076477437384297), (2788, 0.18801199496671236), (2789, 0.5114101217100464), (2790, 0.16860008271632593), (2791, 0.18801199496671236), (2792, 0.33141449702590914), (2793, 0.7346607321136218), (2794, 0.2325630880596372), (2795, 0.17760120000590948), (2796, 0.13667698139698714), (2797, 0.21367203989690436), (2798, 0.24064912420627915), (2799, 0.21217237425775026), (2800, 0.18541840616202804), (2801, 0.6312956788188351), (2802, 0.157106659342765), (2803, 0.13590594673502226), (2804, 0.15331147666645295), (2805, 0.2325630880596372), (2806, 0.16984747354734622), (2807, 0.17705187085568813), (2808, 0.19988184891204105), (2809, 0.24064912420627915), (2810, 0.1860556669750174), (2811, 0.14696462511482544), (2812, 0.14692723831723592), (2813, 0.11574185029895268), (2814, 0.21217237425775026), (2815, 0.2127298244224796), (2816, 0.2325630880596372), (2817, 0.2325630880596372), (2818, 0.3111936344859419), (2819, 0.17686427715310316), (2820, 0.2076477437384297), (2821, 0.16230082255130962), (2822, 0.13169048498623676), (2823, 0.3111936344859419), (2824, 0.48099785785998034), (2825, 0.19340884651239243), (2826, 0.20120513053238143), (2827, 1.0), (2828, 0.7626312174982569), (2829, 0.6531385472492336), (2830, 0.15890669165341342), (2831, 0.1290831610780798), (2832, 0.21367203989690436), (2833, 0.22327788127752374), (2834, 0.21367203989690436), (2835, 0.5667809281562303), (2836, 0.2325630880596372), (2837, 0.4172481804048489), (2838, 0.21367203989690436), (2839, 0.7346607321136218), (2840, 0.21334254781553041), (2841, 0.33141449702590914), (2842, 0.2843861100312273), (2843, 0.12635914193361314), (2844, 0.12391246633033848), (2845, 0.18318653706158564), (2846, 0.26977814891512303), (2847, 0.15638137845368744), (2848, 0.18054255827284174), (2849, 0.2304041449415074), (2850, 0.14976548002408427), (2851, 0.23851272805731571), (2852, 0.3111936344859419), (2853, 0.33141449702590914), (2854, 0.21334254781553041), (2855, 0.2325630880596372), (2856, 0.1277891108473621), (2857, 0.21367203989690436), (2858, 0.26977814891512303), (2859, 0.24064912420627915), (2860, 0.14976548002408427), (2861, 0.33141449702590914), (2862, 0.14894273300551994), (2863, 0.24064912420627915), (2864, 0.1969661167063339), (2865, 1.0), (2866, 0.2325630880596372), (2867, 0.12845044415004858), (2868, 0.18541840616202804), (2869, 0.17827649483640134), (2870, 0.24064912420627915), (2871, 0.5314252109744696), (2872, 0.21367203989690436), (2873, 0.21217237425775026), (2874, 0.612079708680568), (2875, 0.3111936344859419), (2876, 0.21367203989690436), (2877, 0.2325630880596372), (2878, 0.16230082255130962), (2879, 0.6585698866662879), (2880, 0.1153489209002377), (2881, 0.5960023908619306), (2882, 0.26977814891512303), (2883, 0.24064912420627915), (2884, 0.26977814891512303), (2885, 0.14935533933460898), (2886, 0.5590927105926085), (2887, 0.18283329503758616), (2888, 0.14441525453569742), (2889, 0.7386273541862152), (2890, 0.24064912420627915), (2891, 0.2325630880596372), (2892, 0.24064912420627915), (2893, 0.21367203989690436), (2894, 0.24064912420627915), (2895, 0.20120513053238143), (2896, 0.3111936344859419), (2897, 0.1882373900552627), (2898, 0.14976548002408427), (2899, 0.4066233822053325), (2900, 0.33141449702590914), (2901, 0.21825875077082707), (2902, 0.33141449702590914), (2903, 0.17760120000590948), (2904, 0.24064912420627915), (2905, 0.17827649483640134), (2906, 1.0), (2907, 0.24064912420627915), (2908, 0.17760120000590948), (2909, 0.33141449702590914), (2910, 0.5301345527782817), (2911, 0.24064912420627915), (2912, 0.17041131765435466), (2913, 0.19340884651239243), (2914, 0.26977814891512303), (2915, 0.24064912420627915), (2916, 0.12826456705126796), (2917, 0.6585698866662879), (2918, 0.18801199496671236), (2919, 0.19988184891204105), (2920, 0.1622009727153434), (2921, 0.7346607321136218), (2922, 0.24253446424949238), (2923, 0.33141449702590914), (2924, 0.21367203989690436), (2925, 0.18360206281765407), (2926, 0.13667698139698714), (2927, 0.11074495790022719), (2928, 0.2325630880596372), (2929, 0.9162314460616753), (2930, 0.3111936344859419), (2931, 0.6380800654042634), (2932, 0.572722444877042), (2933, 0.21367203989690436), (2934, 0.1590458722025207), (2935, 0.1341179055740142), (2936, 0.33141449702590914), (2937, 0.20120513053238143), (2938, 0.1423966296526767), (2939, 0.19517555718333535), (2940, 0.15294688844155988), (2941, 0.3111936344859419), (2942, 0.33141449702590914), (2943, 0.2043730059077291), (2944, 0.4465805452086581), (2945, 0.21367203989690436), (2946, 0.1041863781735996), (2947, 0.23213843044751217), (2948, 0.22327788127752374), (2949, 0.6312956788188351), (2950, 0.14976548002408427), (2951, 0.3111936344859419), (2952, 0.7346607321136218), (2953, 0.33141449702590914), (2954, 0.26977814891512303), (2955, 0.13131193375646272), (2956, 0.1888980365346182), (2957, 0.33141449702590914), (2958, 0.2843861100312273), (2959, 0.6256663359328448), (2960, 0.1907625515580349), (2961, 0.19988184891204105), (2962, 0.19340884651239243), (2963, 0.18801199496671236), (2964, 0.33141449702590914), (2965, 0.18318653706158564), (2966, 0.5698034919014078), (2967, 0.17013055490652462), (2968, 0.3111936344859419), (2969, 0.16722337976599042), (2970, 0.26977814891512303), (2971, 0.19340884651239243), (2972, 0.19753585811974075), (2973, 0.2325630880596372), (2974, 0.1638469338912229), (2975, 0.24064912420627915), (2976, 0.26977814891512303), (2977, 0.18541840616202804), (2978, 0.17046326120544675), (2979, 0.572443871758238), (2980, 0.21825875077082707), (2981, 0.6585698866662879), (2982, 0.4196280005384628), (2983, 0.2325630880596372), (2984, 0.9162314460616753), (2985, 0.33141449702590914), (2986, 0.15321590925339446), (2987, 0.33141449702590914), (2988, 0.2556821589682755), (2989, 0.25174842481438536), (2990, 0.24253446424949238), (2991, 0.6312956788188351), (2992, 0.1785843769739387), (2993, 0.33141449702590914), (2994, 0.22327788127752374), (2995, 0.15701132929716982), (2996, 0.572722444877042), (2997, 0.33141449702590914), (2998, 0.16531966069976922), (2999, 0.21367203989690436), (3000, 0.33141449702590914), (3001, 0.48099785785998034), (3002, 0.9105630590605147), (3003, 0.26977814891512303), (3004, 0.16230082255130962), (3005, 0.6312956788188351), (3006, 0.17827649483640134), (3007, 0.33141449702590914), (3008, 0.13103924283542062), (3009, 0.2325630880596372), (3010, 0.33141449702590914), (3011, 0.6992751432172762), (3012, 0.19988184891204105), (3013, 0.24064912420627915), (3014, 0.12856837305762941), (3015, 0.24064912420627915), (3016, 0.26977814891512303), (3017, 0.2325630880596372), (3018, 0.48512179903192937), (3019, 0.19988184891204105), (3020, 0.26977814891512303), (3021, 0.48099785785998034), (3022, 0.1545739341962048), (3023, 0.7346607321136218), (3024, 0.16722337976599042), (3025, 0.13846339198426702), (3026, 0.26977814891512303), (3027, 0.7386273541862152), (3028, 0.18541840616202804), (3029, 0.17827649483640134), (3030, 0.24064912420627915), (3031, 0.33141449702590914), (3032, 0.2556821589682755), (3033, 0.21217237425775026), (3034, 0.13098984165895608), (3035, 0.2556821589682755), (3036, 0.1758138084272764), (3037, 0.26977814891512303), (3038, 0.3111936344859419), (3039, 0.2325630880596372), (3040, 0.26977814891512303), (3041, 0.3111936344859419), (3042, 0.26977814891512303), (3043, 0.19988184891204105), (3044, 0.15733664776568307), (3045, 0.13923053576992997), (3046, 0.18541840616202804), (3047, 0.1857374674196088), (3048, 0.48099785785998034), (3049, 0.29009387728278246), (3050, 0.21367203989690436), (3051, 0.14774405123163417), (3052, 0.33141449702590914), (3053, 0.16905545392949584), (3054, 0.3111936344859419), (3055, 0.33141449702590914), (3056, 0.24064912420627915), (3057, 0.33141449702590914), (3058, 0.158286933308987), (3059, 0.16745731587711146), (3060, 0.3111936344859419), (3061, 0.2325630880596372), (3062, 0.12027401621074989), (3063, 0.17245912237162841), (3064, 0.16722337976599042), (3065, 0.1799141799143406), (3066, 0.21217237425775026), (3067, 0.24064912420627915), (3068, 0.48099785785998034), (3069, 0.33141449702590914), (3070, 0.17427525906522467), (3071, 0.21367203989690436), (3072, 0.24064912420627915), (3073, 0.3111936344859419), (3074, 0.26977814891512303), (3075, 0.24064912420627915), (3076, 0.2304041449415074), (3077, 0.2325630880596372), (3078, 0.1814382125902643), (3079, 0.5114101217100464), (3080, 0.14823367665331894), (3081, 0.15488082688264518), (3082, 0.3111936344859419), (3083, 0.2325630880596372), (3084, 0.26977814891512303), (3085, 0.18801199496671236), (3086, 0.5061880993385077), (3087, 0.3111936344859419), (3088, 0.3111936344859419), (3089, 0.13027579164862457), (3090, 0.3111936344859419), (3091, 0.1519230177426743), (3092, 0.7346607321136218), (3093, 0.21074399733771343), (3094, 0.24064912420627915), (3095, 0.2304041449415074), (3096, 0.16531966069976922), (3097, 0.18212907547984997), (3098, 0.2325630880596372), (3099, 0.5013337157440876), (3100, 0.14033657019701068), (3101, 0.33141449702590914), (3102, 0.20524948037726476), (3103, 0.17013055490652462), (3104, 0.3111936344859419), (3105, 0.43568313607942355), (3106, 0.3111936344859419), (3107, 0.17827649483640134), (3108, 0.6131921336183446), (3109, 0.2325630880596372), (3110, 0.5988923324061556), (3111, 0.18520043763274927), (3112, 0.1718568826558695), (3113, 0.26977814891512303), (3114, 0.4090799356470197), (3115, 0.24253446424949238), (3116, 0.24064912420627915), (3117, 0.29009387728278246), (3118, 0.8187488334562425), (3119, 0.2304041449415074), (3120, 0.2304041449415074), (3121, 0.19425280572903936), (3122, 0.8781965587793157), (3123, 0.4948241073886285), (3124, 0.1907625515580349), (3125, 0.2556821589682755), (3126, 0.4643215480976156), (3127, 0.22327788127752374), (3128, 0.33141449702590914), (3129, 0.1907625515580349), (3130, 0.6249676066878461), (3131, 0.3883082791611822), (3132, 0.14976548002408427), (3133, 0.14033657019701068), (3134, 0.14033657019701068), (3135, 0.1907625515580349), (3136, 0.1907625515580349), (3137, 0.21367203989690436), (3138, 0.16688456684102382), (3139, 0.26977814891512303), (3140, 0.24064912420627915), (3141, 0.12140695376296115), (3142, 0.17692441278647647), (3143, 0.23213843044751217), (3144, 0.15187913099767555), (3145, 0.13846339198426702), (3146, 0.17041131765435466), (3147, 0.21367203989690436), (3148, 0.24064912420627915), (3149, 0.22327788127752374), (3150, 0.26977814891512303), (3151, 0.21825875077082707), (3152, 0.13151191342091617), (3153, 0.6585698866662879), (3154, 0.19988184891204105), (3155, 0.20640370828286508), (3156, 0.1907625515580349), (3157, 0.33141449702590914), (3158, 0.5114101217100464), (3159, 0.33141449702590914), (3160, 0.448169563816048), (3161, 0.1934558803755526), (3162, 0.20524948037726476), (3163, 0.1907625515580349), (3164, 0.3111936344859419), (3165, 0.2043730059077291), (3166, 0.21367203989690436), (3167, 0.33141449702590914), (3168, 0.1785843769739387), (3169, 0.24253446424949238), (3170, 0.24064912420627915), (3171, 0.6230611731959181), (3172, 0.19640698058975117), (3173, 0.33141449702590914), (3174, 0.18509024450008768), (3175, 0.2325630880596372), (3176, 0.17827649483640134), (3177, 0.2325630880596372), (3178, 0.21367203989690436), (3179, 0.6312956788188351), (3180, 0.15189547842597392), (3181, 0.119088387599775), (3182, 0.21367203989690436), (3183, 0.21367203989690436), (3184, 0.18054255827284174), (3185, 0.23213843044751217), (3186, 0.33141449702590914), (3187, 0.19753585811974075), (3188, 0.2325630880596372), (3189, 0.1814382125902643), (3190, 0.3111936344859419), (3191, 0.3750864179614471), (3192, 0.19340884651239243), (3193, 0.14976548002408427), (3194, 0.21367203989690436), (3195, 0.5901706373024829), (3196, 0.2556821589682755), (3197, 0.3111936344859419), (3198, 0.1273141399356483), (3199, 0.12049226645148367), (3200, 0.24064912420627915), (3201, 0.1857374674196088), (3202, 0.1422303699748954), (3203, 0.3111936344859419), (3204, 0.21217237425775026), (3205, 0.13046586686439243), (3206, 0.20120513053238143), (3207, 0.3111936344859419), (3208, 0.16688456684102382), (3209, 0.3111936344859419), (3210, 0.17760120000590948), (3211, 0.33141449702590914), (3212, 0.21217237425775026), (3213, 0.23213843044751217), (3214, 0.21367203989690436), (3215, 0.1907625515580349), (3216, 0.33141449702590914), (3217, 0.2325630880596372), (3218, 0.21367203989690436), (3219, 0.21825875077082707), (3220, 0.21367203989690436), (3221, 0.1860556669750174), (3222, 0.17827649483640134), (3223, 0.16905545392949584), (3224, 0.26977814891512303), (3225, 0.15997503607854072), (3226, 0.33141449702590914), (3227, 0.21334254781553041), (3228, 0.2556821589682755), (3229, 0.2325630880596372), (3230, 0.33141449702590914), (3231, 0.15331147666645295), (3232, 0.15458314284969976), (3233, 0.1609704709142165), (3234, 0.19753585811974075), (3235, 0.5698034919014078), (3236, 0.21217237425775026), (3237, 0.24064912420627915), (3238, 0.26977814891512303), (3239, 0.26977814891512303), (3240, 0.33141449702590914), (3241, 0.11629796483091613), (3242, 0.33141449702590914), (3243, 0.33141449702590914), (3244, 0.6531385472492336), (3245, 0.612079708680568), (3246, 0.21367203989690436), (3247, 0.1545739341962048), (3248, 0.24064912420627915), (3249, 0.26977814891512303), (3250, 0.6531385472492336), (3251, 0.17827649483640134), (3252, 0.33141449702590914), (3253, 0.24253446424949238), (3254, 0.24064912420627915), (3255, 0.11846534039534382), (3256, 0.15705434830692433), (3257, 0.26977814891512303), (3258, 0.21367203989690436), (3259, 0.19340884651239243), (3260, 0.26977814891512303), (3261, 0.17827649483640134), (3262, 0.1430089786164117), (3263, 0.23213843044751217), (3264, 0.18318653706158564), (3265, 0.17954333027699856), (3266, 0.3111936344859419), (3267, 0.18212907547984997), (3268, 0.24064912420627915), (3269, 0.33141449702590914), (3270, 0.15753144883899753), (3271, 0.21367203989690436), (3272, 0.13103522513258462), (3273, 0.24064912420627915), (3274, 0.24064912420627915), (3275, 0.17760120000590948), (3276, 0.1744362051356121), (3277, 0.3111936344859419), (3278, 0.9511231564965057), (3279, 0.6312956788188351), (3280, 0.5887945623900753), (3281, 1.0), (3282, 0.21367203989690436), (3283, 0.26977814891512303), (3284, 0.2556821589682755), (3285, 0.1758138084272764), (3286, 0.12611252002595896), (3287, 0.1421849275806854), (3288, 0.2325630880596372), (3289, 0.26977814891512303), (3290, 0.26977814891512303), (3291, 0.24064912420627915), (3292, 0.33141449702590914), (3293, 0.2304041449415074), (3294, 0.1857374674196088), (3295, 0.2325630880596372), (3296, 0.24064912420627915), (3297, 0.22132778726751404), (3298, 0.15701132929716982), (3299, 0.33141449702590914), (3300, 0.24064912420627915), (3301, 0.18541840616202804), (3302, 0.24064912420627915), (3303, 0.14316347344857927), (3304, 0.15321590925339446), (3305, 0.1857374674196088), (3306, 0.19798548187326334), (3307, 0.33141449702590914), (3308, 0.21367203989690436), (3309, 0.3111936344859419), (3310, 0.18133459574498262), (3311, 0.1418288022652649), (3312, 0.18801199496671236), (3313, 0.33141449702590914), (3314, 0.157106659342765), (3315, 0.21367203989690436), (3316, 0.13823229399477138), (3317, 0.149051763614307), (3318, 0.1735718176835706), (3319, 0.17954333027699856), (3320, 0.6531385472492336), (3321, 0.3111936344859419), (3322, 0.33141449702590914), (3323, 0.15753144883899753), (3324, 0.3111936344859419), (3325, 0.6585698866662879), (3326, 0.16230082255130962), (3327, 0.19540171025097797), (3328, 0.14441525453569742), (3329, 0.26977814891512303), (3330, 0.8781965587793157), (3331, 0.1609704709142165), (3332, 0.6952818551651229), (3333, 0.17827649483640134), (3334, 0.5314252109744696), (3335, 0.24064912420627915), (3336, 0.25174842481438536), (3337, 0.26977814891512303), (3338, 0.9162314460616753), (3339, 0.23213843044751217), (3340, 0.17582633419192445), (3341, 0.33141449702590914), (3342, 0.2031964677873505), (3343, 0.24253446424949238), (3344, 0.2556821589682755), (3345, 0.17827649483640134), (3346, 0.1453609032346764), (3347, 0.1430089786164117), (3348, 0.26977814891512303), (3349, 0.22398665457154515), (3350, 0.3111936344859419), (3351, 0.26977814891512303), (3352, 0.21367203989690436), (3353, 0.21074399733771343), (3354, 0.33141449702590914), (3355, 0.21074399733771343), (3356, 0.17827649483640134), (3357, 0.6762283921889243), (3358, 0.33141449702590914), (3359, 0.24064912420627915), (3360, 0.18283329503758616), (3361, 0.14033657019701068), (3362, 0.33141449702590914), (3363, 0.14654203583470346), (3364, 0.21367203989690436), (3365, 0.16722337976599042), (3366, 0.1126775424691598), (3367, 0.14033657019701068), (3368, 0.16745731587711146), (3369, 0.33141449702590914), (3370, 0.19988184891204105), (3371, 0.2325630880596372), (3372, 0.33141449702590914), (3373, 0.22132778726751404), (3374, 0.11826656436592196), (3375, 0.2325630880596372), (3376, 0.33141449702590914), (3377, 0.18095696907039935), (3378, 0.3111936344859419), (3379, 0.18541840616202804), (3380, 0.24064912420627915), (3381, 0.33141449702590914), (3382, 0.20640370828286508), (3383, 0.24253446424949238), (3384, 0.18801199496671236), (3385, 0.5114101217100464), (3386, 0.7755206258671578), (3387, 0.1709534148078522), (3388, 0.21367203989690436), (3389, 0.1429683878358748), (3390, 0.33141449702590914), (3391, 0.24064912420627915), (3392, 0.33141449702590914), (3393, 0.17220362392936364), (3394, 0.5526246616797228), (3395, 0.1421849275806854), (3396, 0.33141449702590914), (3397, 0.1421849275806854), (3398, 0.5043779291338135), (3399, 0.18541840616202804), (3400, 0.2325630880596372), (3401, 0.7346607321136218), (3402, 0.17041131765435466), (3403, 0.5218639151970539), (3404, 0.11936069268134131), (3405, 0.14033657019701068), (3406, 0.24064912420627915), (3407, 0.19244869012521884), (3408, 0.13062066160012595), (3409, 0.5264879029769847), (3410, 0.26977814891512303), (3411, 0.6531385472492336), (3412, 0.33141449702590914), (3413, 0.21367203989690436), (3414, 0.33141449702590914), (3415, 0.3111936344859419), (3416, 0.1548553048474496), (3417, 0.13238466217703332), (3418, 0.20640370828286508), (3419, 0.20120513053238143), (3420, 0.17827649483640134), (3421, 0.21367203989690436), (3422, 0.3111936344859419), (3423, 0.33141449702590914), (3424, 0.19935029151007058), (3425, 0.24064912420627915), (3426, 0.6056456339529722), (3427, 0.14976548002408427), (3428, 0.3111936344859419), (3429, 0.23213843044751217), (3430, 0.26977814891512303), (3431, 0.33141449702590914), (3432, 0.6256663359328448), (3433, 0.5901706373024829), (3434, 0.24064912420627915), (3435, 0.2556821589682755), (3436, 0.2556821589682755), (3437, 0.5061880993385077), (3438, 0.23213843044751217), (3439, 0.5513146839384935), (3440, 0.5575666384829002), (3441, 0.25174842481438536), (3442, 0.3111936344859419), (3443, 0.2076477437384297), (3444, 0.1421849275806854), (3445, 0.38325441342941197), (3446, 0.6312956788188351), (3447, 0.21367203989690436), (3448, 0.1907625515580349), (3449, 0.21367203989690436), (3450, 0.17760120000590948), (3451, 0.23213843044751217), (3452, 0.1609704709142165), (3453, 0.16745731587711146), (3454, 0.16976246406511655), (3455, 0.33141449702590914), (3456, 0.6312956788188351), (3457, 0.16688456684102382), (3458, 0.33141449702590914), (3459, 0.1629440421923251), (3460, 0.6585698866662879), (3461, 0.12611252002595896), (3462, 0.3111936344859419), (3463, 0.13131193375646272), (3464, 0.15782931259241584), (3465, 0.18801199496671236), (3466, 0.18801199496671236), (3467, 0.14976548002408427), (3468, 0.1545739341962048), (3469, 0.14976548002408427), (3470, 0.5043779291338135), (3471, 0.5901706373024829), (3472, 0.1629440421923251), (3473, 0.13291891625630692), (3474, 0.5901706373024829), (3475, 0.3111936344859419), (3476, 0.16688456684102382), (3477, 0.21367203989690436), (3478, 0.33141449702590914), (3479, 0.21367203989690436), (3480, 0.4172481804048489), (3481, 0.15705434830692433), (3482, 0.14935533933460898), (3483, 0.19988184891204105), (3484, 0.448169563816048), (3485, 0.15705434830692433), (3486, 0.1907625515580349), (3487, 0.5901706373024829), (3488, 0.9162314460616753), (3489, 0.2325630880596372), (3490, 0.2325630880596372), (3491, 0.1758138084272764), (3492, 0.15890669165341342), (3493, 0.21367203989690436), (3494, 0.3111936344859419), (3495, 0.6312956788188351), (3496, 0.21367203989690436), (3497, 0.33141449702590914), (3498, 0.2556821589682755), (3499, 0.2556821589682755), (3500, 0.21367203989690436), (3501, 0.2556821589682755), (3502, 0.448169563816048), (3503, 0.15083220222288185), (3504, 0.5988923324061556), (3505, 0.16688456684102382), (3506, 0.24064912420627915), (3507, 0.18801199496671236), (3508, 0.22327788127752374), (3509, 0.3111936344859419), (3510, 0.3111936344859419), (3511, 0.24064912420627915), (3512, 0.17658987810052795), (3513, 0.13526906596244784), (3514, 0.1938689788988469), (3515, 0.14537925122428724), (3516, 0.4066233822053325), (3517, 0.17658987810052795), (3518, 0.3111936344859419), (3519, 0.3111936344859419), (3520, 0.1907625515580349), (3521, 0.2556821589682755), (3522, 0.5011330178995572), (3523, 0.33141449702590914), (3524, 0.24064912420627915), (3525, 0.16757298131363385), (3526, 0.21367203989690436), (3527, 0.1758138084272764), (3528, 0.44588847111482177), (3529, 0.2325630880596372), (3530, 0.7346607321136218), (3531, 0.19340884651239243), (3532, 0.14976548002408427), (3533, 0.12495440345178964), (3534, 0.33141449702590914), (3535, 0.5314252109744696), (3536, 0.33141449702590914), (3537, 0.26977814891512303), (3538, 0.26977814891512303), (3539, 0.11574185029895268), (3540, 0.33141449702590914), (3541, 0.21367203989690436), (3542, 0.17568023955554196), (3543, 0.3111936344859419), (3544, 0.26977814891512303), (3545, 0.15266015097062127), (3546, 0.19540171025097797), (3547, 0.7346607321136218), (3548, 0.33141449702590914), (3549, 0.2325630880596372), (3550, 1.0), (3551, 0.24064912420627915), (3552, 0.21367203989690436), (3553, 0.12420582492259369), (3554, 0.1860556669750174), (3555, 0.1907625515580349), (3556, 0.21334254781553041), (3557, 0.21825875077082707), (3558, 0.13238466217703332), (3559, 0.14581270498229398), (3560, 0.2043730059077291), (3561, 0.33141449702590914), (3562, 0.15705434830692433), (3563, 0.3111936344859419), (3564, 0.16136663501755366), (3565, 0.26977814891512303), (3566, 0.1888980365346182), (3567, 0.26159040045370346), (3568, 0.14059884964593805), (3569, 0.1758138084272764), (3570, 0.22327788127752374), (3571, 0.22398665457154515), (3572, 0.3111936344859419), (3573, 0.17827649483640134), (3574, 0.1421849275806854), (3575, 0.15321590925339446), (3576, 0.448169563816048), (3577, 0.16827662942372484), (3578, 0.26159040045370346), (3579, 0.1273141399356483), (3580, 0.6531385472492336), (3581, 0.21217237425775026), (3582, 0.15458314284969976), (3583, 0.6312956788188351), (3584, 0.5085982961197361), (3585, 0.16643723405076966), (3586, 0.5340630474358495), (3587, 0.17834748406464046), (3588, 0.23213843044751217), (3589, 0.2325630880596372), (3590, 0.18541840616202804), (3591, 0.24253446424949238), (3592, 0.17705187085568813), (3593, 0.25174842481438536), (3594, 0.16406696535435084), (3595, 0.15753144883899753), (3596, 0.33141449702590914), (3597, 0.1795462471334448), (3598, 0.1909979969371496), (3599, 0.21367203989690436), (3600, 0.2167388878303964), (3601, 0.21367203989690436), (3602, 0.23213843044751217), (3603, 0.19935029151007058), (3604, 0.6256663359328448), (3605, 0.1545739341962048), (3606, 0.26977814891512303), (3607, 0.13291891625630692), (3608, 0.33141449702590914), (3609, 0.5011330178995572), (3610, 0.21217237425775026), (3611, 0.33141449702590914), (3612, 0.16049998700314494), (3613, 0.17048983099444134), (3614, 0.24064912420627915), (3615, 0.33141449702590914), (3616, 0.26977814891512303), (3617, 0.19467661522251908), (3618, 0.2556821589682755), (3619, 0.9162314460616753), (3620, 0.21825875077082707), (3621, 0.26977814891512303), (3622, 0.3111936344859419), (3623, 0.1486310389473645), (3624, 0.16836133139618215), (3625, 0.1857374674196088), (3626, 0.21367203989690436), (3627, 0.33141449702590914), (3628, 0.13346576864909326), (3629, 0.2355230047469267), (3630, 0.19640698058975117), (3631, 0.16688456684102382), (3632, 0.20524948037726476), (3633, 0.15705434830692433), (3634, 0.17568023955554196), (3635, 0.1799141799143406), (3636, 0.33141449702590914), (3637, 0.1349006602909913), (3638, 0.2031964677873505), (3639, 0.18318653706158564), (3640, 0.19988184891204105), (3641, 0.1297821186389635), (3642, 0.17760120000590948), (3643, 0.21825875077082707), (3644, 0.2325630880596372), (3645, 0.12374680611960645), (3646, 0.21367203989690436), (3647, 0.33141449702590914), (3648, 0.2325630880596372), (3649, 0.17954333027699856), (3650, 0.15266015097062127), (3651, 0.33141449702590914), (3652, 0.19517555718333535), (3653, 0.2556821589682755), (3654, 0.24064912420627915), (3655, 0.24064912420627915), (3656, 0.33141449702590914), (3657, 0.16198115622103215), (3658, 0.19340884651239243), (3659, 0.21508745566455068), (3660, 0.17760120000590948), (3661, 0.2556821589682755), (3662, 0.3111936344859419), (3663, 0.17827649483640134), (3664, 0.6312956788188351), (3665, 0.26977814891512303), (3666, 0.5901706373024829), (3667, 0.16230082255130962), (3668, 0.25174842481438536), (3669, 0.13238466217703332), (3670, 0.572722444877042), (3671, 0.15705434830692433), (3672, 0.33141449702590914), (3673, 0.19753585811974075), (3674, 0.19517555718333535), (3675, 0.19988184891204105), (3676, 0.1326959765835439), (3677, 0.18318653706158564), (3678, 0.21367203989690436), (3679, 0.1391112588388937), (3680, 0.21334254781553041), (3681, 0.2325630880596372), (3682, 0.12495440345178964), (3683, 0.3111936344859419), (3684, 0.17427525906522467), (3685, 0.1172335523365724), (3686, 0.2325630880596372), (3687, 0.33141449702590914), (3688, 0.4557869545562183), (3689, 0.16136663501755366), (3690, 0.14976548002408427), (3691, 0.33141449702590914), (3692, 0.1486310389473645), (3693, 0.14976548002408427), (3694, 0.572722444877042), (3695, 0.158286933308987), (3696, 0.2556821589682755), (3697, 0.16976246406511655), (3698, 0.1888980365346182), (3699, 0.19988184891204105), (3700, 0.14059884964593805), (3701, 0.33141449702590914), (3702, 0.7346607321136218), (3703, 0.1549246217010863), (3704, 0.6585698866662879), (3705, 0.6585698866662879), (3706, 0.12397768761894473), (3707, 0.25174842481438536), (3708, 0.18801199496671236), (3709, 0.13958922225085313), (3710, 0.23213843044751217), (3711, 0.5988923324061556), (3712, 0.3111936344859419), (3713, 0.21508745566455068), (3714, 0.17568023955554196), (3715, 0.2076477437384297), (3716, 0.2325630880596372), (3717, 0.17827649483640134), (3718, 0.498014159176072), (3719, 0.33141449702590914), (3720, 0.4193630813120567), (3721, 0.2233502534270261), (3722, 0.3111936344859419), (3723, 0.17686427715310316), (3724, 0.44588847111482177), (3725, 0.18541840616202804), (3726, 0.19425280572903936), (3727, 0.2556821589682755), (3728, 0.16004813903954504), (3729, 0.33141449702590914), (3730, 0.3111936344859419), (3731, 0.5887945623900753), (3732, 0.20524948037726476), (3733, 0.26977814891512303), (3734, 0.4066233822053325), (3735, 0.1421849275806854), (3736, 0.3111936344859419), (3737, 0.33141449702590914), (3738, 0.5011330178995572), (3739, 0.26977814891512303), (3740, 0.3111936344859419), (3741, 0.18801199496671236), (3742, 0.12132979287120559), (3743, 0.14976548002408427), (3744, 0.14033657019701068), (3745, 0.24064912420627915), (3746, 0.7346607321136218), (3747, 0.13025622478457916), (3748, 0.2325630880596372), (3749, 0.13823229399477138), (3750, 0.17827649483640134), (3751, 0.18541840616202804), (3752, 0.13909706626207857), (3753, 0.1814382125902643), (3754, 0.26977814891512303), (3755, 0.26977814891512303), (3756, 0.19988184891204105), (3757, 0.33141449702590914), (3758, 0.5581897264717144), (3759, 0.3111936344859419), (3760, 0.17827649483640134), (3761, 0.2686683291702636), (3762, 0.33141449702590914), (3763, 0.19753585811974075), (3764, 0.16643723405076966), (3765, 0.26977814891512303), (3766, 0.19988184891204105), (3767, 0.21367203989690436), (3768, 0.5314252109744696), (3769, 0.9162314460616753), (3770, 0.33141449702590914), (3771, 0.21334254781553041), (3772, 0.26977814891512303), (3773, 0.46924758281594786), (3774, 0.29009387728278246), (3775, 0.21508745566455068), (3776, 0.15466489063003183), (3777, 0.19988184891204105), (3778, 0.18318653706158564), (3779, 0.33141449702590914), (3780, 0.2556821589682755), (3781, 0.33141449702590914), (3782, 0.1907625515580349), (3783, 0.13131193375646272), (3784, 0.18541840616202804), (3785, 0.158286933308987), (3786, 0.16976246406511655), (3787, 0.14033657019701068), (3788, 0.6312956788188351), (3789, 0.3111936344859419), (3790, 0.13614212586853494), (3791, 0.3111936344859419), (3792, 0.21367203989690436), (3793, 0.6312956788188351), (3794, 0.18801199496671236), (3795, 0.1375597154666679), (3796, 0.21217237425775026), (3797, 0.1609704709142165), (3798, 0.13131193375646272), (3799, 0.13823229399477138), (3800, 0.2325630880596372), (3801, 0.19988184891204105), (3802, 0.4193630813120567), (3803, 0.1421849275806854), (3804, 0.24064912420627915), (3805, 0.12611252002595896), (3806, 0.29009387728278246), (3807, 0.17760120000590948), (3808, 0.2325630880596372), (3809, 0.24064912420627915), (3810, 0.6312956788188351), (3811, 0.26977814891512303), (3812, 0.13614212586853494), (3813, 0.21825875077082707), (3814, 0.23213843044751217), (3815, 0.6312956788188351), (3816, 0.16688456684102382), (3817, 0.14935533933460898), (3818, 0.3111936344859419), (3819, 0.19988184891204105), (3820, 0.3111936344859419), (3821, 0.33141449702590914), (3822, 0.19753585811974075), (3823, 0.6312956788188351), (3824, 0.6312956788188351), (3825, 0.17827649483640134), (3826, 0.19540171025097797), (3827, 0.1430089786164117), (3828, 0.08293976084945227), (3829, 0.24064912420627915), (3830, 0.17827649483640134), (3831, 0.7346607321136218), (3832, 0.26977814891512303), (3833, 0.6312956788188351), (3834, 0.13768984786180757), (3835, 0.157106659342765), (3836, 0.3111936344859419), (3837, 0.3111936344859419), (3838, 0.17827649483640134), (3839, 0.21367203989690436), (3840, 0.14976548002408427), (3841, 0.2556821589682755), (3842, 0.15885972074779992), (3843, 0.16688456684102382), (3844, 0.5772948968620548), (3845, 0.15321590925339446), (3846, 0.1629440421923251), (3847, 0.1423966296526767), (3848, 0.33141449702590914), (3849, 0.16392864092012), (3850, 0.1545739341962048), (3851, 0.2325630880596372), (3852, 0.6312956788188351), (3853, 0.9162314460616753), (3854, 0.19988184891204105), (3855, 0.26977814891512303), (3856, 0.2325630880596372), (3857, 0.33141449702590914), (3858, 0.21217237425775026), (3859, 0.5581897264717144), (3860, 0.18801199496671236), (3861, 0.3111936344859419), (3862, 0.17760120000590948), (3863, 0.33141449702590914), (3864, 0.3111936344859419), (3865, 0.1421849275806854), (3866, 0.21367203989690436), (3867, 0.16230082255130962), (3868, 0.21367203989690436), (3869, 0.14976548002408427), (3870, 0.13169048498623676), (3871, 0.14935533933460898), (3872, 0.7346607321136218), (3873, 0.17568023955554196), (3874, 0.33141449702590914), (3875, 0.21367203989690436), (3876, 0.2556821589682755), (3877, 0.2355230047469267), (3878, 0.33141449702590914), (3879, 0.2325630880596372), (3880, 0.21074399733771343), (3881, 0.6312956788188351), (3882, 0.21367203989690436), (3883, 0.19988184891204105), (3884, 0.33141449702590914), (3885, 0.3111936344859419), (3886, 0.4275662700856094), (3887, 0.17827649483640134), (3888, 0.14622481976576096), (3889, 0.1487423205623714), (3890, 0.26977814891512303), (3891, 0.17827649483640134), (3892, 0.19753585811974075), (3893, 0.24064912420627915), (3894, 0.33141449702590914), (3895, 0.16230082255130962), (3896, 0.3111936344859419), (3897, 0.16860008271632593), (3898, 0.24064912420627915), (3899, 0.33141449702590914), (3900, 0.5262139818454361), (3901, 0.5901706373024829), (3902, 0.18318653706158564), (3903, 0.2355230047469267), (3904, 0.24064912420627915), (3905, 0.22327788127752374), (3906, 0.33141449702590914), (3907, 0.14033657019701068), (3908, 0.1545739341962048), (3909, 0.3111936344859419), (3910, 0.2556821589682755), (3911, 0.33141449702590914), (3912, 0.3111936344859419), (3913, 0.24064912420627915), (3914, 0.3111936344859419), (3915, 0.24064912420627915), (3916, 0.3111936344859419), (3917, 0.20120513053238143), (3918, 0.17827649483640134), (3919, 0.1487423205623714), (3920, 0.18318653706158564), (3921, 0.3111936344859419), (3922, 0.26977814891512303), (3923, 0.12792490292816946), (3924, 0.16049998700314494), (3925, 0.24064912420627915), (3926, 0.3111936344859419), (3927, 0.1430089786164117), (3928, 0.16932698488111664), (3929, 0.17827649483640134), (3930, 0.3111936344859419), (3931, 0.3111936344859419), (3932, 0.24064912420627915), (3933, 0.2325630880596372), (3934, 0.3111936344859419), (3935, 0.33141449702590914), (3936, 0.2325630880596372), (3937, 0.14976548002408427), (3938, 0.6312956788188351), (3939, 0.33141449702590914), (3940, 1.0), (3941, 0.20640370828286508), (3942, 0.6312956788188351), (3943, 0.15705434830692433), (3944, 0.6312956788188351), (3945, 0.33141449702590914), (3946, 0.18801199496671236), (3947, 0.5506852520731499), (3948, 0.1796351612139294), (3949, 0.22327788127752374), (3950, 0.2325630880596372), (3951, 0.18541840616202804), (3952, 0.21367203989690436), (3953, 0.25174842481438536), (3954, 0.24064912420627915), (3955, 0.16745731587711146), (3956, 0.2304041449415074), (3957, 0.1609704709142165), (3958, 0.2843861100312273), (3959, 0.19988184891204105), (3960, 0.16836133139618215), (3961, 0.19988184891204105), (3962, 0.26977814891512303), (3963, 0.11904012409600553), (3964, 0.2325630880596372), (3965, 0.12635914193361314), (3966, 0.5114101217100464), (3967, 0.26977814891512303), (3968, 0.14976548002408427), (3969, 0.3111936344859419), (3970, 0.6312956788188351), (3971, 0.6531385472492336), (3972, 0.14976548002408427), (3973, 0.26977814891512303), (3974, 0.2556821589682755), (3975, 0.9162314460616753), (3976, 0.13846339198426702), (3977, 0.14976548002408427), (3978, 0.17760120000590948), (3979, 0.16976246406511655), (3980, 0.13514790216328632), (3981, 0.17827649483640134), (3982, 0.14976548002408427), (3983, 0.21074399733771343), (3984, 0.20640370828286508), (3985, 0.7346607321136218), (3986, 0.33141449702590914), (3987, 0.33141449702590914), (3988, 0.3111936344859419), (3989, 0.6312956788188351), (3990, 0.21825875077082707), (3991, 0.14935533933460898), (3992, 0.20640370828286508), (3993, 0.18801199496671236), (3994, 0.48099785785998034), (3995, 0.6312956788188351), (3996, 0.3111936344859419), (3997, 0.23213843044751217), (3998, 0.15753144883899753), (3999, 0.24064912420627915), (4000, 0.19988184891204105), (4001, 0.24253446424949238), (4002, 0.18318653706158564), (4003, 0.3111936344859419), (4004, 0.19988184891204105), (4005, 0.21334254781553041), (4006, 0.7346607321136218), (4007, 0.22327788127752374), (4008, 0.3111936344859419), (4009, 0.14935533933460898), (4010, 0.15705434830692433), (4011, 0.18054255827284174), (4012, 0.19935029151007058), (4013, 0.2556821589682755), (4014, 0.17568023955554196), (4015, 0.15997503607854072), (4016, 0.2355230047469267), (4017, 0.33141449702590914), (4018, 0.2325630880596372), (4019, 0.33141449702590914), (4020, 0.25174842481438536), (4021, 0.23851272805731571), (4022, 0.2686683291702636), (4023, 0.26977814891512303), (4024, 0.13823229399477138), (4025, 0.21367203989690436), (4026, 0.17954333027699856), (4027, 0.15975080290829002), (4028, 0.7346607321136218), (4029, 0.7346607321136218), (4030, 0.33141449702590914), (4031, 0.21217237425775026), (4032, 0.33141449702590914), (4033, 0.19798548187326334), (4034, 0.13103522513258462), (4035, 0.3111936344859419), (4036, 0.16649499420601205), (4037, 0.14553168317408988), (4038, 0.21334254781553041), (4039, 0.23213843044751217), (4040, 0.6531385472492336), (4041, 0.14976548002408427), (4042, 0.33141449702590914), (4043, 0.6992751432172762), (4044, 0.5575666384829002), (4045, 0.2127298244224796), (4046, 0.1486310389473645), (4047, 0.29009387728278246), (4048, 0.2304041449415074), (4049, 0.26977814891512303), (4050, 0.2233502534270261), (4051, 0.21367203989690436), (4052, 0.26977814891512303), (4053, 0.2304041449415074), (4054, 0.1643187218383764), (4055, 0.16976246406511655), (4056, 0.523653263792413), (4057, 0.17827649483640134), (4058, 0.3111936344859419), (4059, 0.33141449702590914), (4060, 0.19244869012521884), (4061, 0.2325630880596372), (4062, 0.33141449702590914), (4063, 0.48099785785998034), (4064, 0.2325630880596372), (4065, 0.17827649483640134), (4066, 0.15083220222288185), (4067, 0.17827649483640134), (4068, 0.17760120000590948), (4069, 0.18541840616202804), (4070, 0.13131193375646272), (4071, 0.18278823681338371), (4072, 0.17827649483640134), (4073, 0.2325630880596372), (4074, 0.2355230047469267), (4075, 0.33141449702590914), (4076, 0.15058129145324556), (4077, 0.14976548002408427), (4078, 0.7346607321136218), (4079, 0.24064912420627915), (4080, 0.24064912420627915), (4081, 0.33141449702590914), (4082, 0.24064912420627915), (4083, 0.33141449702590914), (4084, 0.2325630880596372), (4085, 0.6719627955217732), (4086, 0.1421849275806854), (4087, 0.5262139818454361), (4088, 0.18801199496671236), (4089, 0.2556821589682755), (4090, 0.6312956788188351), (4091, 0.14033657019701068), (4092, 0.2556821589682755), (4093, 0.19340884651239243), (4094, 0.19340884651239243), (4095, 0.17760120000590948), (4096, 0.21508745566455068), (4097, 0.3111936344859419), (4098, 0.21334254781553041), (4099, 0.12611252002595896), (4100, 0.16745731587711146), (4101, 0.5360593577973387), (4102, 0.26977814891512303), (4103, 0.1907625515580349), (4104, 0.21367203989690436), (4105, 0.22327788127752374), (4106, 0.6312956788188351), (4107, 0.33141449702590914), (4108, 0.6531385472492336), (4109, 0.6531385472492336), (4110, 0.11846534039534382), (4111, 0.26977814891512303), (4112, 0.13346576864909326), (4113, 0.17220362392936364), (4114, 0.1805029414342529), (4115, 0.3111936344859419), (4116, 0.17760120000590948), (4117, 0.21367203989690436), (4118, 0.15642294254545064), (4119, 0.23213843044751217), (4120, 0.6312956788188351), (4121, 0.17427525906522467), (4122, 0.2127298244224796), (4123, 0.19988184891204105), (4124, 0.19988184891204105), (4125, 0.3111936344859419), (4126, 0.33141449702590914), (4127, 0.3111936344859419), (4128, 0.14976548002408427), (4129, 0.33141449702590914), (4130, 0.20120513053238143), (4131, 0.24253446424949238), (4132, 0.26977814891512303), (4133, 0.5901706373024829), (4134, 0.6312956788188351), (4135, 0.15083220222288185), (4136, 0.15327296537132015), (4137, 0.18541840616202804), (4138, 0.24064912420627915), (4139, 0.15701132929716982), (4140, 0.26977814891512303), (4141, 0.5590927105926085), (4142, 0.20120513053238143), (4143, 0.1301804692343017), (4144, 0.15597533766970276), (4145, 0.08524684606573288), (4146, 0.16688456684102382), (4147, 0.26977814891512303), (4148, 0.18801199496671236), (4149, 0.3111936344859419), (4150, 0.7346607321136218), (4151, 0.18318653706158564), (4152, 0.15556111940819456), (4153, 0.14976548002408427), (4154, 0.4948241073886285), (4155, 0.33141449702590914), (4156, 0.21367203989690436), (4157, 0.7346607321136218), (4158, 0.6312956788188351), (4159, 0.7346607321136218), (4160, 0.18283329503758616), (4161, 0.33141449702590914), (4162, 0.29009387728278246), (4163, 0.2556821589682755), (4164, 0.21508745566455068), (4165, 0.448169563816048), (4166, 0.08487095110092295), (4167, 0.5526246616797228), (4168, 0.44994510414332584), (4169, 0.33141449702590914), (4170, 0.13846339198426702), (4171, 0.1350120915325182), (4172, 0.33141449702590914), (4173, 0.15705434830692433), (4174, 0.26977814891512303), (4175, 0.24064912420627915), (4176, 0.2556821589682755), (4177, 0.16345232002143373), (4178, 0.19988184891204105), (4179, 0.13846339198426702), (4180, 0.6531385472492336), (4181, 0.14976548002408427), (4182, 0.26977814891512303), (4183, 0.24064912420627915), (4184, 0.3111936344859419), (4185, 0.2843861100312273), (4186, 0.24253446424949238), (4187, 0.2304041449415074), (4188, 0.4504778971292814), (4189, 0.572722444877042), (4190, 0.21217237425775026), (4191, 0.13614212586853494), (4192, 0.5305200285645075), (4193, 0.4901409733536499), (4194, 0.19425280572903936), (4195, 0.1421849275806854), (4196, 0.14935533933460898), (4197, 0.24064912420627915), (4198, 0.15975080290829002), (4199, 0.13346576864909326), (4200, 0.26977814891512303), (4201, 0.17827649483640134), (4202, 0.14894273300551994), (4203, 0.20640370828286508), (4204, 0.3111936344859419), (4205, 0.18318653706158564), (4206, 0.26977814891512303), (4207, 0.15705434830692433), (4208, 0.29009387728278246), (4209, 0.33141449702590914), (4210, 0.13346576864909326), (4211, 0.1907625515580349), (4212, 0.17827649483640134), (4213, 0.26977814891512303), (4214, 0.3111936344859419), (4215, 0.17827649483640134), (4216, 0.21508745566455068), (4217, 0.16643723405076966), (4218, 0.14982545591371832), (4219, 0.6992751432172762), (4220, 0.33141449702590914), (4221, 0.25174842481438536), (4222, 0.21367203989690436), (4223, 0.2325630880596372), (4224, 0.2167388878303964), (4225, 0.33141449702590914), (4226, 0.6531385472492336), (4227, 0.5314252109744696), (4228, 0.13823229399477138), (4229, 0.2686683291702636), (4230, 0.33141449702590914), (4231, 0.19988184891204105), (4232, 0.2304041449415074), (4233, 0.19340884651239243), (4234, 0.15885972074779992), (4235, 0.21508745566455068), (4236, 0.2167388878303964), (4237, 0.15001965620532592), (4238, 0.14976548002408427), (4239, 0.6531385472492336), (4240, 0.448169563816048), (4241, 0.16757298131363385), (4242, 0.19988184891204105), (4243, 0.24064912420627915), (4244, 0.17760120000590948), (4245, 0.33141449702590914), (4246, 0.20640370828286508), (4247, 0.18541840616202804), (4248, 0.23213843044751217), (4249, 0.21334254781553041), (4250, 0.14537925122428724), (4251, 0.6312956788188351), (4252, 0.2325630880596372), (4253, 0.19467661522251908), (4254, 0.26977814891512303), (4255, 0.14871189718466), (4256, 0.3111936344859419), (4257, 0.26977814891512303), (4258, 0.3111936344859419), (4259, 0.19753585811974075), (4260, 0.3111936344859419), (4261, 0.14842339282813286), (4262, 0.33141449702590914), (4263, 0.15321590925339446), (4264, 0.4804027739900155), (4265, 0.21508745566455068), (4266, 0.5262139818454361), (4267, 0.33141449702590914), (4268, 0.6230611731959181), (4269, 0.15109847779958785), (4270, 0.13103522513258462), (4271, 0.7462136541970444), (4272, 0.19640698058975117), (4273, 0.33141449702590914), (4274, 0.23213843044751217), (4275, 0.6992751432172762), (4276, 0.16745731587711146), (4277, 0.33141449702590914), (4278, 0.26162773353078267), (4279, 0.2288019465377701), (4280, 0.33141449702590914), (4281, 0.29009387728278246), (4282, 0.1307151864709177), (4283, 0.14019879585400402), (4284, 0.6585698866662879), (4285, 0.14666516088902187), (4286, 0.18318653706158564), (4287, 0.15321590925339446), (4288, 0.1716186211765856), (4289, 0.1795462471334448), (4290, 0.6312956788188351), (4291, 0.3111936344859419), (4292, 0.5163928527936894), (4293, 0.18212907547984997), (4294, 0.16976246406511655), (4295, 0.21367203989690436), (4296, 0.33141449702590914), (4297, 0.3111936344859419), (4298, 0.18318653706158564), (4299, 0.6585698866662879), (4300, 0.22792680719730393), (4301, 0.16932698488111664), (4302, 0.48099785785998034), (4303, 0.1421849275806854), (4304, 0.26977814891512303), (4305, 0.3111936344859419), (4306, 0.24064912420627915), (4307, 0.29009387728278246), (4308, 0.26977814891512303), (4309, 0.20646087669626856), (4310, 0.23213843044751217), (4311, 0.21367203989690436), (4312, 0.1545739341962048), (4313, 0.16905545392949584), (4314, 0.21217237425775026), (4315, 0.2325630880596372), (4316, 0.7346607321136218), (4317, 0.3111936344859419), (4318, 0.33141449702590914), (4319, 0.2325630880596372), (4320, 0.24064912420627915), (4321, 0.21367203989690436), (4322, 0.1423567185077027), (4323, 0.14004422317085613), (4324, 0.15001965620532592), (4325, 0.17427525906522467), (4326, 0.33141449702590914), (4327, 0.2325630880596372), (4328, 0.6256663359328448), (4329, 0.3111936344859419), (4330, 0.21825875077082707), (4331, 0.6312956788188351), (4332, 0.3111936344859419), (4333, 0.24064912420627915), (4334, 0.17568023955554196), (4335, 0.3111936344859419), (4336, 0.1758138084272764), (4337, 0.6312956788188351), (4338, 0.158286933308987), (4339, 0.16860008271632593), (4340, 0.21825875077082707), (4341, 0.1421849275806854), (4342, 0.20404580523950128), (4343, 0.33141449702590914), (4344, 0.1609704709142165), (4345, 0.1600758704407557), (4346, 0.1137766998417192), (4347, 0.1421849275806854), (4348, 0.33141449702590914), (4349, 0.33141449702590914), (4350, 0.24064912420627915), (4351, 0.13173015621417444), (4352, 0.7346607321136218), (4353, 0.24253446424949238), (4354, 0.33141449702590914), (4355, 0.33141449702590914), (4356, 0.26977814891512303), (4357, 0.08384631554841294), (4358, 0.3111936344859419), (4359, 0.33141449702590914), (4360, 0.6312956788188351), (4361, 0.33141449702590914), (4362, 0.2556821589682755), (4363, 0.33141449702590914), (4364, 0.1417088121711957), (4365, 0.5114101217100464), (4366, 0.6312956788188351), (4367, 0.3111936344859419), (4368, 0.18318653706158564), (4369, 0.24064912420627915), (4370, 0.3111936344859419), (4371, 0.26977814891512303), (4372, 0.20404580523950128), (4373, 0.16745731587711146), (4374, 0.19988184891204105), (4375, 0.29009387728278246), (4376, 0.23213843044751217), (4377, 0.9162314460616753), (4378, 0.2288019465377701), (4379, 0.5301345527782817), (4380, 0.5988923324061556), (4381, 0.24064912420627915), (4382, 0.26977814891512303), (4383, 0.16860008271632593), (4384, 0.23213843044751217), (4385, 0.7346607321136218), (4386, 0.33141449702590914), (4387, 0.19988184891204105), (4388, 0.3111936344859419), (4389, 0.6312956788188351), (4390, 0.2127298244224796), (4391, 0.17568023955554196), (4392, 0.5575666384829002), (4393, 0.2843861100312273), (4394, 0.17041131765435466), (4395, 0.26977814891512303), (4396, 0.33141449702590914), (4397, 0.33141449702590914), (4398, 0.33141449702590914), (4399, 0.33141449702590914), (4400, 0.18541840616202804), (4401, 0.15556111940819456), (4402, 0.2556821589682755), (4403, 0.572722444877042), (4404, 0.6531385472492336), (4405, 0.19425280572903936), (4406, 0.1857374674196088), (4407, 0.33141449702590914), (4408, 0.2325630880596372), (4409, 0.33141449702590914), (4410, 0.2843861100312273), (4411, 0.24064912420627915), (4412, 0.5901706373024829), (4413, 0.3111936344859419), (4414, 0.7346607321136218), (4415, 0.17827649483640134), (4416, 0.33141449702590914), (4417, 0.17827649483640134), (4418, 0.19540171025097797), (4419, 0.16198115622103215), (4420, 0.6762283921889243), (4421, 0.3111936344859419), (4422, 0.21367203989690436), (4423, 0.33141449702590914), (4424, 0.17827649483640134), (4425, 0.17827649483640134), (4426, 0.5772948968620548), (4427, 0.33141449702590914), (4428, 0.2355230047469267), (4429, 0.16722337976599042), (4430, 0.21334254781553041), (4431, 0.2556821589682755), (4432, 0.21334254781553041), (4433, 0.17954333027699856), (4434, 0.6531385472492336), (4435, 0.19798548187326334), (4436, 0.18801199496671236), (4437, 0.2325630880596372), (4438, 0.2233502534270261), (4439, 0.12449843956113539), (4440, 0.19340884651239243), (4441, 0.6312956788188351), (4442, 0.17779115090104997), (4443, 0.21334254781553041), (4444, 0.21334254781553041), (4445, 0.1758138084272764), (4446, 0.17041131765435466), (4447, 0.1860556669750174), (4448, 0.16442800057259013), (4449, 0.7346607321136218), (4450, 0.18801199496671236), (4451, 0.3111936344859419), (4452, 0.3111936344859419), (4453, 0.15753144883899753), (4454, 0.5513146839384935), (4455, 0.13103522513258462), (4456, 0.2167388878303964), (4457, 0.1421849275806854), (4458, 0.24064912420627915), (4459, 0.7346607321136218), (4460, 0.2325630880596372), (4461, 0.33141449702590914), (4462, 0.23213843044751217), (4463, 0.2325630880596372), (4464, 0.6992751432172762), (4465, 0.2304041449415074), (4466, 0.15058129145324556), (4467, 0.16241443084404508), (4468, 0.16860008271632593), (4469, 0.2304041449415074), (4470, 0.2556821589682755), (4471, 0.16136663501755366), (4472, 0.17568023955554196), (4473, 0.17041131765435466), (4474, 0.19988184891204105), (4475, 0.19988184891204105), (4476, 0.33141449702590914), (4477, 0.19798548187326334), (4478, 0.158286933308987), (4479, 0.24064912420627915), (4480, 0.3111936344859419), (4481, 0.18801199496671236), (4482, 0.158286933308987), (4483, 0.1814382125902643), (4484, 0.26977814891512303), (4485, 0.13846339198426702), (4486, 0.19340884651239243), (4487, 0.13723641680378024), (4488, 0.6312956788188351), (4489, 0.6762283921889243), (4490, 0.1486310389473645), (4491, 0.2167388878303964), (4492, 0.1421849275806854), (4493, 0.14976548002408427), (4494, 0.6585698866662879), (4495, 0.33141449702590914), (4496, 0.3111936344859419), (4497, 0.33141449702590914), (4498, 0.2325630880596372), (4499, 0.16905545392949584), (4500, 0.23851272805731571), (4501, 0.18283329503758616), (4502, 0.4558336574725093), (4503, 0.5301345527782817), (4504, 0.18541840616202804), (4505, 0.33141449702590914), (4506, 0.3111936344859419), (4507, 0.26977814891512303), (4508, 0.17827649483640134), (4509, 0.16976246406511655), (4510, 0.21508745566455068), (4511, 0.18318653706158564), (4512, 0.21508745566455068), (4513, 0.6312956788188351), (4514, 0.20128653333857838), (4515, 0.29009387728278246), (4516, 0.1519230177426743), (4517, 0.5901706373024829), (4518, 0.6312956788188351), (4519, 0.163132362785009), (4520, 0.18541840616202804), (4521, 0.13823229399477138), (4522, 0.22398665457154515), (4523, 0.13669320528825185), (4524, 0.29009387728278246), (4525, 0.7346607321136218), (4526, 0.14935533933460898), (4527, 0.6312956788188351), (4528, 0.1758138084272764), (4529, 0.33141449702590914), (4530, 0.26977814891512303), (4531, 0.19988184891204105), (4532, 0.49711395783545304), (4533, 0.2031964677873505), (4534, 0.5575666384829002), (4535, 0.15556111940819456), (4536, 0.6380800654042634), (4537, 0.5772948968620548), (4538, 0.7346607321136218), (4539, 0.7346607321136218), (4540, 0.33141449702590914), (4541, 0.17827649483640134), (4542, 0.5153106459492188), (4543, 0.18801199496671236), (4544, 0.33141449702590914), (4545, 0.33141449702590914), (4546, 0.1609704709142165), (4547, 0.1857374674196088), (4548, 0.6312956788188351), (4549, 0.6249676066878461), (4550, 0.20120513053238143), (4551, 0.6230611731959181), (4552, 0.47553083602245855), (4553, 0.18801199496671236), (4554, 0.572722444877042), (4555, 0.15765968564678318), (4556, 0.3111936344859419), (4557, 0.5089931166340732), (4558, 0.3111936344859419), (4559, 0.16688456684102382), (4560, 0.3111936344859419), (4561, 0.17827649483640134), (4562, 0.18681342915535734), (4563, 0.18541840616202804), (4564, 0.19640698058975117), (4565, 1.0), (4566, 0.18054255827284174), (4567, 0.33141449702590914), (4568, 0.2843861100312273), (4569, 0.158286933308987), (4570, 0.1421849275806854), (4571, 0.26977814891512303), (4572, 0.33141449702590914), (4573, 0.25174842481438536), (4574, 0.33141449702590914), (4575, 0.24064912420627915), (4576, 0.2556821589682755), (4577, 0.3111936344859419), (4578, 0.17827649483640134), (4579, 0.2556821589682755), (4580, 0.15975080290829002), (4581, 0.12151111830896091), (4582, 0.6312956788188351), (4583, 0.7346607321136218), (4584, 0.33141449702590914), (4585, 0.6312956788188351), (4586, 0.15466489063003183), (4587, 0.29009387728278246), (4588, 0.16241443084404508), (4589, 0.20120513053238143), (4590, 0.12384446256378702), (4591, 0.15438988739314974), (4592, 0.3111936344859419), (4593, 0.8781965587793157), (4594, 0.16230082255130962), (4595, 0.6312956788188351), (4596, 0.3111936344859419), (4597, 0.2843861100312273), (4598, 0.33141449702590914), (4599, 0.1814382125902643), (4600, 0.24253446424949238), (4601, 0.29009387728278246), (4602, 0.33141449702590914), (4603, 0.17041131765435466), (4604, 0.21825875077082707), (4605, 0.24064912420627915), (4606, 0.25174842481438536), (4607, 0.6719627955217732), (4608, 0.25174842481438536), (4609, 0.15944594051168343), (4610, 0.20640370828286508), (4611, 0.21074399733771343), (4612, 0.2556821589682755), (4613, 0.14687990951975002), (4614, 0.8781965587793157), (4615, 1.0), (4616, 0.33141449702590914), (4617, 0.2304041449415074), (4618, 0.7346607321136218), (4619, 0.19798548187326334), (4620, 0.33141449702590914), (4621, 0.6312956788188351), (4622, 0.17245912237162841), (4623, 0.5314252109744696), (4624, 0.16836133139618215), (4625, 0.24064912420627915), (4626, 0.39722870872796096), (4627, 0.26977814891512303), (4628, 0.2325630880596372), (4629, 0.12384446256378702), (4630, 0.5575666384829002), (4631, 0.24253446424949238), (4632, 0.24064912420627915), (4633, 0.26977814891512303), (4634, 0.33141449702590914), (4635, 0.13941968972967886), (4636, 0.17220362392936364), (4637, 0.572722444877042), (4638, 0.17568023955554196), (4639, 0.9162314460616753), (4640, 0.18541840616202804), (4641, 0.33141449702590914), (4642, 0.6256663359328448), (4643, 0.1453609032346764), (4644, 0.17827649483640134), (4645, 0.7346607321136218), (4646, 0.5575666384829002), (4647, 0.24253446424949238), (4648, 0.3111936344859419), (4649, 0.25174842481438536), (4650, 0.26977814891512303), (4651, 0.13846339198426702), (4652, 0.21367203989690436), (4653, 0.23213843044751217), (4654, 0.7346607321136218), (4655, 0.3111936344859419), (4656, 0.2127298244224796), (4657, 0.24064912420627915), (4658, 0.19988184891204105), (4659, 0.2843861100312273), (4660, 0.1609704709142165), (4661, 0.21334254781553041), (4662, 0.16688456684102382), (4663, 0.5776850546543992), (4664, 0.6992751432172762), (4665, 0.6312956788188351), (4666, 0.23213843044751217), (4667, 0.3111936344859419), (4668, 0.9511231564965057), (4669, 0.19988184891204105), (4670, 0.1609704709142165), (4671, 0.17827649483640134), (4672, 0.7346607321136218), (4673, 0.17760120000590948), (4674, 0.5901706373024829), (4675, 0.21217237425775026), (4676, 0.11446496813843818), (4677, 0.1609704709142165), (4678, 0.29009387728278246), (4679, 0.19988184891204105), (4680, 0.33141449702590914), (4681, 0.17827649483640134), (4682, 0.2843861100312273), (4683, 0.48099785785998034), (4684, 0.18801199496671236), (4685, 0.33141449702590914), (4686, 0.33141449702590914), (4687, 0.33141449702590914), (4688, 0.2325630880596372), (4689, 0.29009387728278246), (4690, 0.24253446424949238), (4691, 0.6992751432172762), (4692, 0.33141449702590914), (4693, 0.33141449702590914), (4694, 0.33141449702590914), (4695, 0.6312956788188351), (4696, 0.33141449702590914), (4697, 0.448169563816048), (4698, 0.5575666384829002), (4699, 0.8781965587793157), (4700, 0.15885972074779992), (4701, 0.8781965587793157), (4702, 0.2325630880596372), (4703, 0.1907625515580349), (4704, 0.16136663501755366), (4705, 0.25174842481438536), (4706, 0.26977814891512303), (4707, 0.2546294248004223), (4708, 0.5575666384829002), (4709, 0.18801199496671236), (4710, 0.2556821589682755), (4711, 0.21217237425775026), (4712, 0.24064912420627915), (4713, 0.1638469338912229), (4714, 0.1857374674196088), (4715, 0.2556821589682755), (4716, 0.6249676066878461), (4717, 0.17041131765435466), (4718, 0.18520043763274927), (4719, 0.21367203989690436), (4720, 0.6531385472492336), (4721, 0.645641681759418), (4722, 0.2304041449415074), (4723, 0.16722337976599042), (4724, 0.19988184891204105), (4725, 0.15753144883899753), (4726, 0.14687990951975002), (4727, 0.2127298244224796), (4728, 0.17827649483640134), (4729, 0.33141449702590914), (4730, 0.15641340118817826), (4731, 0.2556821589682755), (4732, 0.33141449702590914), (4733, 0.15438988739314974), (4734, 0.26977814891512303), (4735, 0.19988184891204105), (4736, 0.16905545392949584), (4737, 0.3111936344859419), (4738, 0.2325630880596372), (4739, 0.19798548187326334), (4740, 0.23851272805731571), (4741, 0.22071371993780758), (4742, 0.16976246406511655), (4743, 0.25174842481438536), (4744, 0.26977814891512303), (4745, 0.26159040045370346), (4746, 0.5772948968620548), (4747, 0.18801199496671236), (4748, 0.33141449702590914), (4749, 0.33141449702590914), (4750, 0.7346607321136218), (4751, 0.7346607321136218), (4752, 0.1301804692343017), (4753, 0.33141449702590914), (4754, 0.12411653887040322), (4755, 0.7346607321136218), (4756, 0.19753585811974075), (4757, 0.2556821589682755), (4758, 0.23851272805731571), (4759, 0.17827649483640134)]\n"
          ]
        }
      ]
    },
    {
      "cell_type": "code",
      "source": [
        "len(Recommendation_Score)"
      ],
      "metadata": {
        "id": "vyAZMsKPR3sd",
        "colab": {
          "base_uri": "https://localhost:8080/"
        },
        "outputId": "26a731ef-1fd2-456c-b2b0-f70c1a916e74"
      },
      "execution_count": null,
      "outputs": [
        {
          "output_type": "execute_result",
          "data": {
            "text/plain": [
              "4760"
            ]
          },
          "metadata": {},
          "execution_count": 39
        }
      ]
    },
    {
      "cell_type": "code",
      "source": [
        "sorted_similar_movies=sorted(Recommendation_Score,key=lambda x:x[1],reverse= True)\n",
        "print(sorted_similar_movies)"
      ],
      "metadata": {
        "id": "Geh3wy_5R3qM",
        "colab": {
          "base_uri": "https://localhost:8080/"
        },
        "outputId": "46637269-4350-416e-e4eb-609f2b1b1b15"
      },
      "execution_count": null,
      "outputs": [
        {
          "output_type": "stream",
          "name": "stdout",
          "text": [
            "[(248, 1.0), (748, 1.0), (834, 1.0), (835, 1.0), (1081, 1.0), (1239, 1.0), (1271, 1.0), (1835, 1.0), (2369, 1.0), (2686, 1.0), (2785, 1.0), (2827, 1.0), (2865, 1.0), (2906, 1.0), (3281, 1.0), (3550, 1.0), (3940, 1.0), (4565, 1.0), (4615, 1.0), (359, 0.9511231564965057), (739, 0.9511231564965057), (3278, 0.9511231564965057), (4668, 0.9511231564965057), (273, 0.9162314460616753), (341, 0.9162314460616753), (633, 0.9162314460616753), (810, 0.9162314460616753), (811, 0.9162314460616753), (979, 0.9162314460616753), (1197, 0.9162314460616753), (1391, 0.9162314460616753), (1622, 0.9162314460616753), (1623, 0.9162314460616753), (1817, 0.9162314460616753), (1852, 0.9162314460616753), (1857, 0.9162314460616753), (1859, 0.9162314460616753), (1873, 0.9162314460616753), (1940, 0.9162314460616753), (1975, 0.9162314460616753), (1996, 0.9162314460616753), (2246, 0.9162314460616753), (2273, 0.9162314460616753), (2314, 0.9162314460616753), (2683, 0.9162314460616753), (2736, 0.9162314460616753), (2929, 0.9162314460616753), (2984, 0.9162314460616753), (3338, 0.9162314460616753), (3488, 0.9162314460616753), (3619, 0.9162314460616753), (3769, 0.9162314460616753), (3853, 0.9162314460616753), (3975, 0.9162314460616753), (4377, 0.9162314460616753), (4639, 0.9162314460616753), (3002, 0.9105630590605147), (580, 0.8781965587793157), (617, 0.8781965587793157), (744, 0.8781965587793157), (1177, 0.8781965587793157), (1498, 0.8781965587793157), (3122, 0.8781965587793157), (3330, 0.8781965587793157), (4593, 0.8781965587793157), (4614, 0.8781965587793157), (4699, 0.8781965587793157), (4701, 0.8781965587793157), (81, 0.8768741340522397), (833, 0.8768741340522397), (1970, 0.8187488334562425), (3118, 0.8187488334562425), (1595, 0.791267843644199), (1993, 0.789250533564555), (1998, 0.789250533564555), (2152, 0.786392669455042), (1511, 0.7856186858359218), (3386, 0.7755206258671578), (376, 0.7626312174982569), (439, 0.7626312174982569), (1097, 0.7626312174982569), (1233, 0.7626312174982569), (1295, 0.7626312174982569), (1756, 0.7626312174982569), (2828, 0.7626312174982569), (1420, 0.7562545682502935), (1378, 0.7513005699090235), (4271, 0.7462136541970444), (104, 0.7386273541862152), (158, 0.7386273541862152), (1920, 0.7386273541862152), (2359, 0.7386273541862152), (2698, 0.7386273541862152), (2889, 0.7386273541862152), (3027, 0.7386273541862152), (100, 0.7346607321136218), (163, 0.7346607321136218), (265, 0.7346607321136218), (337, 0.7346607321136218), (352, 0.7346607321136218), (552, 0.7346607321136218), (556, 0.7346607321136218), (557, 0.7346607321136218), (746, 0.7346607321136218), (960, 0.7346607321136218), (1189, 0.7346607321136218), (1342, 0.7346607321136218), (1534, 0.7346607321136218), (1556, 0.7346607321136218), (1636, 0.7346607321136218), (1647, 0.7346607321136218), (1795, 0.7346607321136218), (1825, 0.7346607321136218), (1863, 0.7346607321136218), (2017, 0.7346607321136218), (2115, 0.7346607321136218), (2498, 0.7346607321136218), (2503, 0.7346607321136218), (2596, 0.7346607321136218), (2660, 0.7346607321136218), (2773, 0.7346607321136218), (2793, 0.7346607321136218), (2839, 0.7346607321136218), (2921, 0.7346607321136218), (2952, 0.7346607321136218), (3023, 0.7346607321136218), (3092, 0.7346607321136218), (3401, 0.7346607321136218), (3530, 0.7346607321136218), (3547, 0.7346607321136218), (3702, 0.7346607321136218), (3746, 0.7346607321136218), (3831, 0.7346607321136218), (3872, 0.7346607321136218), (3985, 0.7346607321136218), (4006, 0.7346607321136218), (4028, 0.7346607321136218), (4029, 0.7346607321136218), (4078, 0.7346607321136218), (4150, 0.7346607321136218), (4157, 0.7346607321136218), (4159, 0.7346607321136218), (4316, 0.7346607321136218), (4352, 0.7346607321136218), (4385, 0.7346607321136218), (4414, 0.7346607321136218), (4449, 0.7346607321136218), (4459, 0.7346607321136218), (4525, 0.7346607321136218), (4538, 0.7346607321136218), (4539, 0.7346607321136218), (4583, 0.7346607321136218), (4618, 0.7346607321136218), (4645, 0.7346607321136218), (4654, 0.7346607321136218), (4672, 0.7346607321136218), (4750, 0.7346607321136218), (4751, 0.7346607321136218), (4755, 0.7346607321136218), (214, 0.7205244938608882), (780, 0.7205244938608882), (30, 0.6992751432172762), (250, 0.6992751432172762), (523, 0.6992751432172762), (765, 0.6992751432172762), (927, 0.6992751432172762), (1761, 0.6992751432172762), (1829, 0.6992751432172762), (1952, 0.6992751432172762), (2231, 0.6992751432172762), (3011, 0.6992751432172762), (4043, 0.6992751432172762), (4219, 0.6992751432172762), (4275, 0.6992751432172762), (4464, 0.6992751432172762), (4664, 0.6992751432172762), (4691, 0.6992751432172762), (3332, 0.6952818551651229), (2680, 0.6873412180182623), (3357, 0.6762283921889243), (4420, 0.6762283921889243), (4489, 0.6762283921889243), (1163, 0.6719627955217732), (1813, 0.6719627955217732), (1882, 0.6719627955217732), (1891, 0.6719627955217732), (1916, 0.6719627955217732), (2400, 0.6719627955217732), (4085, 0.6719627955217732), (4607, 0.6719627955217732), (200, 0.6585698866662879), (329, 0.6585698866662879), (433, 0.6585698866662879), (436, 0.6585698866662879), (443, 0.6585698866662879), (482, 0.6585698866662879), (636, 0.6585698866662879), (742, 0.6585698866662879), (808, 0.6585698866662879), (832, 0.6585698866662879), (910, 0.6585698866662879), (980, 0.6585698866662879), (1071, 0.6585698866662879), (1255, 0.6585698866662879), (1356, 0.6585698866662879), (1375, 0.6585698866662879), (1429, 0.6585698866662879), (1519, 0.6585698866662879), (1779, 0.6585698866662879), (1811, 0.6585698866662879), (1892, 0.6585698866662879), (1924, 0.6585698866662879), (1964, 0.6585698866662879), (2008, 0.6585698866662879), (2089, 0.6585698866662879), (2191, 0.6585698866662879), (2374, 0.6585698866662879), (2477, 0.6585698866662879), (2598, 0.6585698866662879), (2632, 0.6585698866662879), (2879, 0.6585698866662879), (2917, 0.6585698866662879), (2981, 0.6585698866662879), (3153, 0.6585698866662879), (3325, 0.6585698866662879), (3460, 0.6585698866662879), (3704, 0.6585698866662879), (3705, 0.6585698866662879), (4284, 0.6585698866662879), (4299, 0.6585698866662879), (4494, 0.6585698866662879), (1128, 0.6571923430247506), (331, 0.6531385472492336), (506, 0.6531385472492336), (630, 0.6531385472492336), (964, 0.6531385472492336), (1532, 0.6531385472492336), (1824, 0.6531385472492336), (1899, 0.6531385472492336), (2056, 0.6531385472492336), (2059, 0.6531385472492336), (2194, 0.6531385472492336), (2373, 0.6531385472492336), (2564, 0.6531385472492336), (2608, 0.6531385472492336), (2685, 0.6531385472492336), (2690, 0.6531385472492336), (2829, 0.6531385472492336), (3244, 0.6531385472492336), (3250, 0.6531385472492336), (3320, 0.6531385472492336), (3411, 0.6531385472492336), (3580, 0.6531385472492336), (3971, 0.6531385472492336), (4040, 0.6531385472492336), (4108, 0.6531385472492336), (4109, 0.6531385472492336), (4180, 0.6531385472492336), (4226, 0.6531385472492336), (4239, 0.6531385472492336), (4404, 0.6531385472492336), (4434, 0.6531385472492336), (4720, 0.6531385472492336), (1900, 0.645641681759418), (4721, 0.645641681759418), (588, 0.6380800654042634), (655, 0.6380800654042634), (2629, 0.6380800654042634), (2931, 0.6380800654042634), (4536, 0.6380800654042634), (240, 0.6312956788188351), (313, 0.6312956788188351), (354, 0.6312956788188351), (420, 0.6312956788188351), (559, 0.6312956788188351), (634, 0.6312956788188351), (855, 0.6312956788188351), (893, 0.6312956788188351), (1158, 0.6312956788188351), (1167, 0.6312956788188351), (1270, 0.6312956788188351), (1279, 0.6312956788188351), (1347, 0.6312956788188351), (1395, 0.6312956788188351), (1407, 0.6312956788188351), (1426, 0.6312956788188351), (1428, 0.6312956788188351), (1430, 0.6312956788188351), (1431, 0.6312956788188351), (1449, 0.6312956788188351), (1451, 0.6312956788188351), (1452, 0.6312956788188351), (1480, 0.6312956788188351), (1493, 0.6312956788188351), (1531, 0.6312956788188351), (1551, 0.6312956788188351), (1559, 0.6312956788188351), (1562, 0.6312956788188351), (1568, 0.6312956788188351), (1573, 0.6312956788188351), (1588, 0.6312956788188351), (1630, 0.6312956788188351), (1631, 0.6312956788188351), (1632, 0.6312956788188351), (1635, 0.6312956788188351), (1661, 0.6312956788188351), (1699, 0.6312956788188351), (1723, 0.6312956788188351), (1724, 0.6312956788188351), (1753, 0.6312956788188351), (1773, 0.6312956788188351), (1838, 0.6312956788188351), (1840, 0.6312956788188351), (1927, 0.6312956788188351), (1930, 0.6312956788188351), (1933, 0.6312956788188351), (1953, 0.6312956788188351), (1962, 0.6312956788188351), (2245, 0.6312956788188351), (2480, 0.6312956788188351), (2541, 0.6312956788188351), (2630, 0.6312956788188351), (2759, 0.6312956788188351), (2801, 0.6312956788188351), (2949, 0.6312956788188351), (2991, 0.6312956788188351), (3005, 0.6312956788188351), (3179, 0.6312956788188351), (3279, 0.6312956788188351), (3446, 0.6312956788188351), (3456, 0.6312956788188351), (3495, 0.6312956788188351), (3583, 0.6312956788188351), (3664, 0.6312956788188351), (3788, 0.6312956788188351), (3793, 0.6312956788188351), (3810, 0.6312956788188351), (3815, 0.6312956788188351), (3823, 0.6312956788188351), (3824, 0.6312956788188351), (3833, 0.6312956788188351), (3852, 0.6312956788188351), (3881, 0.6312956788188351), (3938, 0.6312956788188351), (3942, 0.6312956788188351), (3944, 0.6312956788188351), (3970, 0.6312956788188351), (3989, 0.6312956788188351), (3995, 0.6312956788188351), (4090, 0.6312956788188351), (4106, 0.6312956788188351), (4120, 0.6312956788188351), (4134, 0.6312956788188351), (4158, 0.6312956788188351), (4251, 0.6312956788188351), (4290, 0.6312956788188351), (4331, 0.6312956788188351), (4337, 0.6312956788188351), (4360, 0.6312956788188351), (4366, 0.6312956788188351), (4389, 0.6312956788188351), (4441, 0.6312956788188351), (4488, 0.6312956788188351), (4513, 0.6312956788188351), (4518, 0.6312956788188351), (4527, 0.6312956788188351), (4548, 0.6312956788188351), (4582, 0.6312956788188351), (4585, 0.6312956788188351), (4595, 0.6312956788188351), (4621, 0.6312956788188351), (4665, 0.6312956788188351), (4695, 0.6312956788188351), (627, 0.6306761678777433), (2181, 0.6256663359328448), (2959, 0.6256663359328448), (3432, 0.6256663359328448), (3604, 0.6256663359328448), (4328, 0.6256663359328448), (4642, 0.6256663359328448), (1274, 0.6249676066878461), (3130, 0.6249676066878461), (4549, 0.6249676066878461), (4716, 0.6249676066878461), (251, 0.6230611731959181), (270, 0.6230611731959181), (806, 0.6230611731959181), (816, 0.6230611731959181), (864, 0.6230611731959181), (1334, 0.6230611731959181), (2097, 0.6230611731959181), (2250, 0.6230611731959181), (3171, 0.6230611731959181), (4268, 0.6230611731959181), (4551, 0.6230611731959181), (1388, 0.6192944751736502), (3108, 0.6131921336183446), (2874, 0.612079708680568), (3245, 0.612079708680568), (925, 0.6078995394138633), (1907, 0.6078995394138633), (275, 0.6065496764365246), (950, 0.6065496764365246), (2130, 0.6056456339529722), (3426, 0.6056456339529722), (145, 0.5988923324061556), (360, 0.5988923324061556), (695, 0.5988923324061556), (790, 0.5988923324061556), (801, 0.5988923324061556), (976, 0.5988923324061556), (1068, 0.5988923324061556), (1958, 0.5988923324061556), (2119, 0.5988923324061556), (2235, 0.5988923324061556), (2524, 0.5988923324061556), (3110, 0.5988923324061556), (3504, 0.5988923324061556), (3711, 0.5988923324061556), (4380, 0.5988923324061556), (1287, 0.5977576827311633), (296, 0.5960023908619306), (719, 0.5960023908619306), (727, 0.5960023908619306), (729, 0.5960023908619306), (1138, 0.5960023908619306), (1229, 0.5960023908619306), (2881, 0.5960023908619306), (61, 0.5916451729501518), (136, 0.5916451729501518), (222, 0.5901706373024829), (968, 0.5901706373024829), (1041, 0.5901706373024829), (1192, 0.5901706373024829), (1202, 0.5901706373024829), (1351, 0.5901706373024829), (1555, 0.5901706373024829), (1643, 0.5901706373024829), (2031, 0.5901706373024829), (2255, 0.5901706373024829), (3195, 0.5901706373024829), (3433, 0.5901706373024829), (3471, 0.5901706373024829), (3474, 0.5901706373024829), (3487, 0.5901706373024829), (3666, 0.5901706373024829), (3901, 0.5901706373024829), (4133, 0.5901706373024829), (4412, 0.5901706373024829), (4517, 0.5901706373024829), (4674, 0.5901706373024829), (1116, 0.5887945623900753), (3280, 0.5887945623900753), (3731, 0.5887945623900753), (660, 0.5843217634144501), (1897, 0.5843217634144501), (4663, 0.5776850546543992), (898, 0.5772948968620548), (970, 0.5772948968620548), (1211, 0.5772948968620548), (1914, 0.5772948968620548), (3844, 0.5772948968620548), (4426, 0.5772948968620548), (4537, 0.5772948968620548), (4746, 0.5772948968620548), (87, 0.572722444877042), (147, 0.572722444877042), (236, 0.572722444877042), (429, 0.572722444877042), (622, 0.572722444877042), (652, 0.572722444877042), (676, 0.572722444877042), (701, 0.572722444877042), (870, 0.572722444877042), (896, 0.572722444877042), (937, 0.572722444877042), (1064, 0.572722444877042), (1303, 0.572722444877042), (1325, 0.572722444877042), (1360, 0.572722444877042), (1509, 0.572722444877042), (1671, 0.572722444877042), (1774, 0.572722444877042), (1983, 0.572722444877042), (2112, 0.572722444877042), (2254, 0.572722444877042), (2638, 0.572722444877042), (2695, 0.572722444877042), (2932, 0.572722444877042), (2996, 0.572722444877042), (3670, 0.572722444877042), (3694, 0.572722444877042), (4189, 0.572722444877042), (4403, 0.572722444877042), (4554, 0.572722444877042), (4637, 0.572722444877042), (1560, 0.572443871758238), (2493, 0.572443871758238), (2979, 0.572443871758238), (2966, 0.5698034919014078), (3235, 0.5698034919014078), (2835, 0.5667809281562303), (2486, 0.5641584759862038), (2044, 0.5609727344071124), (908, 0.5608851746080034), (2886, 0.5590927105926085), (4141, 0.5590927105926085), (2101, 0.5581897264717144), (3758, 0.5581897264717144), (3859, 0.5581897264717144), (3440, 0.5575666384829002), (4044, 0.5575666384829002), (4392, 0.5575666384829002), (4534, 0.5575666384829002), (4630, 0.5575666384829002), (4646, 0.5575666384829002), (4698, 0.5575666384829002), (4708, 0.5575666384829002), (661, 0.5559217722767616), (1812, 0.5559217722767616), (558, 0.5550081417257058), (1218, 0.5526246616797228), (3394, 0.5526246616797228), (4167, 0.5526246616797228), (1051, 0.5523807850154966), (3439, 0.5513146839384935), (4454, 0.5513146839384935), (654, 0.5506852520731499), (1314, 0.5506852520731499), (1949, 0.5506852520731499), (2780, 0.5506852520731499), (3947, 0.5506852520731499), (1400, 0.5480373743697915), (1414, 0.5480373743697915), (747, 0.54629467399578), (2039, 0.5456743846005776), (311, 0.5442590346320204), (1007, 0.5441292391166443), (239, 0.5379874408935945), (1272, 0.5379874408935945), (4101, 0.5360593577973387), (1833, 0.5351972862825586), (1705, 0.5340630474358495), (3586, 0.5340630474358495), (1135, 0.5340548790683314), (99, 0.5314252109744696), (291, 0.5314252109744696), (1104, 0.5314252109744696), (1343, 0.5314252109744696), (2057, 0.5314252109744696), (2110, 0.5314252109744696), (2871, 0.5314252109744696), (3334, 0.5314252109744696), (3535, 0.5314252109744696), (3768, 0.5314252109744696), (4227, 0.5314252109744696), (4623, 0.5314252109744696), (4192, 0.5305200285645075), (542, 0.5301345527782817), (1017, 0.5301345527782817), (1252, 0.5301345527782817), (1665, 0.5301345527782817), (1796, 0.5301345527782817), (2210, 0.5301345527782817), (2910, 0.5301345527782817), (4379, 0.5301345527782817), (4503, 0.5301345527782817), (1634, 0.5291542895259773), (3409, 0.5264879029769847), (307, 0.5262139818454361), (3900, 0.5262139818454361), (4087, 0.5262139818454361), (4266, 0.5262139818454361), (1855, 0.5247751923988574), (2073, 0.524406098367979), (4056, 0.523653263792413), (1348, 0.523320721100951), (2574, 0.5232325823923155), (1184, 0.5218639151970539), (3403, 0.5218639151970539), (1153, 0.5193106060303464), (1220, 0.5173369078447783), (1819, 0.5173369078447783), (4292, 0.5163928527936894), (760, 0.515360176695684), (338, 0.5153106459492188), (339, 0.5153106459492188), (414, 0.5153106459492188), (415, 0.5153106459492188), (770, 0.5153106459492188), (2497, 0.5153106459492188), (4542, 0.5153106459492188), (1387, 0.5152558447422135), (2016, 0.5152558447422135), (187, 0.5114101217100464), (380, 0.5114101217100464), (438, 0.5114101217100464), (1575, 0.5114101217100464), (1991, 0.5114101217100464), (2789, 0.5114101217100464), (3079, 0.5114101217100464), (3158, 0.5114101217100464), (3385, 0.5114101217100464), (3966, 0.5114101217100464), (4365, 0.5114101217100464), (4557, 0.5089931166340732), (2205, 0.5089680203116264), (3584, 0.5085982961197361), (1119, 0.5061880993385077), (1667, 0.5061880993385077), (2229, 0.5061880993385077), (2295, 0.5061880993385077), (2617, 0.5061880993385077), (3086, 0.5061880993385077), (3437, 0.5061880993385077), (1633, 0.5043779291338135), (1990, 0.5043779291338135), (2074, 0.5043779291338135), (2733, 0.5043779291338135), (3398, 0.5043779291338135), (3470, 0.5043779291338135), (116, 0.5029839350129117), (880, 0.5029839350129117), (915, 0.5013337157440876), (3099, 0.5013337157440876), (411, 0.5011330178995572), (3522, 0.5011330178995572), (3609, 0.5011330178995572), (3738, 0.5011330178995572), (19, 0.498014159176072), (65, 0.498014159176072), (553, 0.498014159176072), (3718, 0.498014159176072), (1992, 0.49799355755819524), (2284, 0.49799355755819524), (4532, 0.49711395783545304), (1760, 0.49505185387288053), (750, 0.4948241073886285), (1083, 0.4948241073886285), (1140, 0.4948241073886285), (3123, 0.4948241073886285), (4154, 0.4948241073886285), (2082, 0.4946961347499519), (1207, 0.4901409733536499), (2139, 0.4901409733536499), (4193, 0.4901409733536499), (301, 0.4888317003591163), (148, 0.48516307923326873), (334, 0.48516307923326873), (3018, 0.48512179903192937), (252, 0.48265945980551817), (953, 0.48265018708145024), (991, 0.48265018708145024), (1223, 0.48265018708145024), (1095, 0.48099785785998034), (1966, 0.48099785785998034), (2824, 0.48099785785998034), (3001, 0.48099785785998034), (3021, 0.48099785785998034), (3048, 0.48099785785998034), (3068, 0.48099785785998034), (3994, 0.48099785785998034), (4063, 0.48099785785998034), (4302, 0.48099785785998034), (4683, 0.48099785785998034), (1784, 0.480553872445421), (84, 0.4804027739900155), (4264, 0.4804027739900155), (2316, 0.47599960867632707), (4552, 0.47553083602245855), (347, 0.4742224720033433), (1565, 0.4713175356418908), (2344, 0.47094750706630983), (1794, 0.46942871322834645), (3773, 0.46924758281594786), (988, 0.467568654909842), (1985, 0.4657326255535709), (451, 0.4643215480976156), (2094, 0.4643215480976156), (3126, 0.4643215480976156), (453, 0.46204435425814905), (606, 0.4609080769960572), (1926, 0.4606922761122771), (629, 0.46019783582984564), (1645, 0.4563365928761693), (2277, 0.4563365928761693), (4502, 0.4558336574725093), (776, 0.4557869545562183), (1205, 0.4557869545562183), (2644, 0.4557869545562183), (3688, 0.4557869545562183), (4188, 0.4504778971292814), (4168, 0.44994510414332584), (85, 0.44838859901957334), (77, 0.448169563816048), (511, 0.448169563816048), (932, 0.448169563816048), (1003, 0.448169563816048), (1146, 0.448169563816048), (1590, 0.448169563816048), (1662, 0.448169563816048), (1925, 0.448169563816048), (2278, 0.448169563816048), (2599, 0.448169563816048), (2618, 0.448169563816048), (3160, 0.448169563816048), (3484, 0.448169563816048), (3502, 0.448169563816048), (3576, 0.448169563816048), (4165, 0.448169563816048), (4240, 0.448169563816048), (4697, 0.448169563816048), (1510, 0.4472037895187984), (1627, 0.4472037895187984), (1968, 0.4472037895187984), (902, 0.4465805452086581), (1381, 0.4465805452086581), (2944, 0.4465805452086581), (516, 0.44588847111482177), (517, 0.44588847111482177), (1031, 0.44588847111482177), (1056, 0.44588847111482177), (1057, 0.44588847111482177), (1265, 0.44588847111482177), (1535, 0.44588847111482177), (2180, 0.44588847111482177), (3528, 0.44588847111482177), (3724, 0.44588847111482177), (3105, 0.43568313607942355), (509, 0.4327190553981575), (952, 0.4327190553981575), (1864, 0.4327190553981575), (2496, 0.4327190553981575), (3886, 0.4275662700856094), (1050, 0.4266394402457937), (2439, 0.42558417885485444), (2982, 0.4196280005384628), (160, 0.4193630813120567), (303, 0.4193630813120567), (619, 0.4193630813120567), (1082, 0.4193630813120567), (2432, 0.4193630813120567), (2573, 0.4193630813120567), (3720, 0.4193630813120567), (3802, 0.4193630813120567), (1250, 0.4172481804048489), (2837, 0.4172481804048489), (3480, 0.4172481804048489), (1315, 0.4090799356470197), (1745, 0.4090799356470197), (3114, 0.4090799356470197), (963, 0.4066233822053325), (2899, 0.4066233822053325), (3516, 0.4066233822053325), (3734, 0.4066233822053325), (430, 0.40469455739811616), (1614, 0.40467545356392454), (1469, 0.4023388244882784), (4626, 0.39722870872796096), (2062, 0.39527359046042937), (1904, 0.3883082791611822), (3131, 0.3883082791611822), (2178, 0.3858189845252406), (2443, 0.384551619407843), (3445, 0.38325441342941197), (1536, 0.37995617236335183), (2357, 0.37776328963901484), (191, 0.3750864179614471), (2682, 0.3750864179614471), (3191, 0.3750864179614471), (1515, 0.3676744679965325), (1649, 0.3676744679965325), (4, 0.33141449702590914), (20, 0.33141449702590914), (24, 0.33141449702590914), (26, 0.33141449702590914), (66, 0.33141449702590914), (98, 0.33141449702590914), (140, 0.33141449702590914), (154, 0.33141449702590914), (164, 0.33141449702590914), (167, 0.33141449702590914), (176, 0.33141449702590914), (196, 0.33141449702590914), (203, 0.33141449702590914), (213, 0.33141449702590914), (226, 0.33141449702590914), (229, 0.33141449702590914), (235, 0.33141449702590914), (249, 0.33141449702590914), (262, 0.33141449702590914), (268, 0.33141449702590914), (293, 0.33141449702590914), (308, 0.33141449702590914), (317, 0.33141449702590914), (324, 0.33141449702590914), (395, 0.33141449702590914), (399, 0.33141449702590914), (402, 0.33141449702590914), (412, 0.33141449702590914), (432, 0.33141449702590914), (444, 0.33141449702590914), (445, 0.33141449702590914), (446, 0.33141449702590914), (449, 0.33141449702590914), (466, 0.33141449702590914), (476, 0.33141449702590914), (478, 0.33141449702590914), (499, 0.33141449702590914), (518, 0.33141449702590914), (526, 0.33141449702590914), (527, 0.33141449702590914), (541, 0.33141449702590914), (597, 0.33141449702590914), (611, 0.33141449702590914), (620, 0.33141449702590914), (624, 0.33141449702590914), (645, 0.33141449702590914), (647, 0.33141449702590914), (680, 0.33141449702590914), (706, 0.33141449702590914), (717, 0.33141449702590914), (731, 0.33141449702590914), (766, 0.33141449702590914), (767, 0.33141449702590914), (777, 0.33141449702590914), (782, 0.33141449702590914), (791, 0.33141449702590914), (805, 0.33141449702590914), (817, 0.33141449702590914), (823, 0.33141449702590914), (889, 0.33141449702590914), (895, 0.33141449702590914), (899, 0.33141449702590914), (901, 0.33141449702590914), (917, 0.33141449702590914), (922, 0.33141449702590914), (949, 0.33141449702590914), (987, 0.33141449702590914), (993, 0.33141449702590914), (1004, 0.33141449702590914), (1019, 0.33141449702590914), (1032, 0.33141449702590914), (1033, 0.33141449702590914), (1036, 0.33141449702590914), (1037, 0.33141449702590914), (1042, 0.33141449702590914), (1048, 0.33141449702590914), (1059, 0.33141449702590914), (1072, 0.33141449702590914), (1098, 0.33141449702590914), (1110, 0.33141449702590914), (1121, 0.33141449702590914), (1144, 0.33141449702590914), (1168, 0.33141449702590914), (1294, 0.33141449702590914), (1319, 0.33141449702590914), (1355, 0.33141449702590914), (1402, 0.33141449702590914), (1404, 0.33141449702590914), (1416, 0.33141449702590914), (1434, 0.33141449702590914), (1439, 0.33141449702590914), (1450, 0.33141449702590914), (1456, 0.33141449702590914), (1464, 0.33141449702590914), (1497, 0.33141449702590914), (1499, 0.33141449702590914), (1500, 0.33141449702590914), (1538, 0.33141449702590914), (1550, 0.33141449702590914), (1553, 0.33141449702590914), (1574, 0.33141449702590914), (1593, 0.33141449702590914), (1617, 0.33141449702590914), (1625, 0.33141449702590914), (1641, 0.33141449702590914), (1670, 0.33141449702590914), (1672, 0.33141449702590914), (1691, 0.33141449702590914), (1712, 0.33141449702590914), (1742, 0.33141449702590914), (1793, 0.33141449702590914), (1801, 0.33141449702590914), (1805, 0.33141449702590914), (1807, 0.33141449702590914), (1814, 0.33141449702590914), (1826, 0.33141449702590914), (1831, 0.33141449702590914), (1843, 0.33141449702590914), (1862, 0.33141449702590914), (1872, 0.33141449702590914), (1887, 0.33141449702590914), (1890, 0.33141449702590914), (1921, 0.33141449702590914), (1959, 0.33141449702590914), (2047, 0.33141449702590914), (2072, 0.33141449702590914), (2109, 0.33141449702590914), (2123, 0.33141449702590914), (2129, 0.33141449702590914), (2133, 0.33141449702590914), (2141, 0.33141449702590914), (2142, 0.33141449702590914), (2163, 0.33141449702590914), (2173, 0.33141449702590914), (2189, 0.33141449702590914), (2190, 0.33141449702590914), (2213, 0.33141449702590914), (2268, 0.33141449702590914), (2288, 0.33141449702590914), (2293, 0.33141449702590914), (2299, 0.33141449702590914), (2306, 0.33141449702590914), (2310, 0.33141449702590914), (2317, 0.33141449702590914), (2323, 0.33141449702590914), (2354, 0.33141449702590914), (2370, 0.33141449702590914), (2392, 0.33141449702590914), (2401, 0.33141449702590914), (2416, 0.33141449702590914), (2417, 0.33141449702590914), (2418, 0.33141449702590914), (2419, 0.33141449702590914), (2425, 0.33141449702590914), (2454, 0.33141449702590914), (2463, 0.33141449702590914), (2481, 0.33141449702590914), (2525, 0.33141449702590914), (2533, 0.33141449702590914), (2545, 0.33141449702590914), (2552, 0.33141449702590914), (2557, 0.33141449702590914), (2565, 0.33141449702590914), (2572, 0.33141449702590914), (2585, 0.33141449702590914), (2613, 0.33141449702590914), (2624, 0.33141449702590914), (2628, 0.33141449702590914), (2636, 0.33141449702590914), (2651, 0.33141449702590914), (2673, 0.33141449702590914), (2679, 0.33141449702590914), (2694, 0.33141449702590914), (2723, 0.33141449702590914), (2735, 0.33141449702590914), (2753, 0.33141449702590914), (2757, 0.33141449702590914), (2760, 0.33141449702590914), (2765, 0.33141449702590914), (2783, 0.33141449702590914), (2792, 0.33141449702590914), (2841, 0.33141449702590914), (2853, 0.33141449702590914), (2861, 0.33141449702590914), (2900, 0.33141449702590914), (2902, 0.33141449702590914), (2909, 0.33141449702590914), (2923, 0.33141449702590914), (2936, 0.33141449702590914), (2942, 0.33141449702590914), (2953, 0.33141449702590914), (2957, 0.33141449702590914), (2964, 0.33141449702590914), (2985, 0.33141449702590914), (2987, 0.33141449702590914), (2993, 0.33141449702590914), (2997, 0.33141449702590914), (3000, 0.33141449702590914), (3007, 0.33141449702590914), (3010, 0.33141449702590914), (3031, 0.33141449702590914), (3052, 0.33141449702590914), (3055, 0.33141449702590914), (3057, 0.33141449702590914), (3069, 0.33141449702590914), (3101, 0.33141449702590914), (3128, 0.33141449702590914), (3157, 0.33141449702590914), (3159, 0.33141449702590914), (3167, 0.33141449702590914), (3173, 0.33141449702590914), (3186, 0.33141449702590914), (3211, 0.33141449702590914), (3216, 0.33141449702590914), (3226, 0.33141449702590914), (3230, 0.33141449702590914), (3240, 0.33141449702590914), (3242, 0.33141449702590914), (3243, 0.33141449702590914), (3252, 0.33141449702590914), (3269, 0.33141449702590914), (3292, 0.33141449702590914), (3299, 0.33141449702590914), (3307, 0.33141449702590914), (3313, 0.33141449702590914), (3322, 0.33141449702590914), (3341, 0.33141449702590914), (3354, 0.33141449702590914), (3358, 0.33141449702590914), (3362, 0.33141449702590914), (3369, 0.33141449702590914), (3372, 0.33141449702590914), (3376, 0.33141449702590914), (3381, 0.33141449702590914), (3390, 0.33141449702590914), (3392, 0.33141449702590914), (3396, 0.33141449702590914), (3412, 0.33141449702590914), (3414, 0.33141449702590914), (3423, 0.33141449702590914), (3431, 0.33141449702590914), (3455, 0.33141449702590914), (3458, 0.33141449702590914), (3478, 0.33141449702590914), (3497, 0.33141449702590914), (3523, 0.33141449702590914), (3534, 0.33141449702590914), (3536, 0.33141449702590914), (3540, 0.33141449702590914), (3548, 0.33141449702590914), (3561, 0.33141449702590914), (3596, 0.33141449702590914), (3608, 0.33141449702590914), (3611, 0.33141449702590914), (3615, 0.33141449702590914), (3627, 0.33141449702590914), (3636, 0.33141449702590914), (3647, 0.33141449702590914), (3651, 0.33141449702590914), (3656, 0.33141449702590914), (3672, 0.33141449702590914), (3687, 0.33141449702590914), (3691, 0.33141449702590914), (3701, 0.33141449702590914), (3719, 0.33141449702590914), (3729, 0.33141449702590914), (3737, 0.33141449702590914), (3757, 0.33141449702590914), (3762, 0.33141449702590914), (3770, 0.33141449702590914), (3779, 0.33141449702590914), (3781, 0.33141449702590914), (3821, 0.33141449702590914), (3848, 0.33141449702590914), (3857, 0.33141449702590914), (3863, 0.33141449702590914), (3874, 0.33141449702590914), (3878, 0.33141449702590914), (3884, 0.33141449702590914), (3894, 0.33141449702590914), (3899, 0.33141449702590914), (3906, 0.33141449702590914), (3911, 0.33141449702590914), (3935, 0.33141449702590914), (3939, 0.33141449702590914), (3945, 0.33141449702590914), (3986, 0.33141449702590914), (3987, 0.33141449702590914), (4017, 0.33141449702590914), (4019, 0.33141449702590914), (4030, 0.33141449702590914), (4032, 0.33141449702590914), (4042, 0.33141449702590914), (4059, 0.33141449702590914), (4062, 0.33141449702590914), (4075, 0.33141449702590914), (4081, 0.33141449702590914), (4083, 0.33141449702590914), (4107, 0.33141449702590914), (4126, 0.33141449702590914), (4129, 0.33141449702590914), (4155, 0.33141449702590914), (4161, 0.33141449702590914), (4169, 0.33141449702590914), (4172, 0.33141449702590914), (4209, 0.33141449702590914), (4220, 0.33141449702590914), (4225, 0.33141449702590914), (4230, 0.33141449702590914), (4245, 0.33141449702590914), (4262, 0.33141449702590914), (4267, 0.33141449702590914), (4273, 0.33141449702590914), (4277, 0.33141449702590914), (4280, 0.33141449702590914), (4296, 0.33141449702590914), (4318, 0.33141449702590914), (4326, 0.33141449702590914), (4343, 0.33141449702590914), (4348, 0.33141449702590914), (4349, 0.33141449702590914), (4354, 0.33141449702590914), (4355, 0.33141449702590914), (4359, 0.33141449702590914), (4361, 0.33141449702590914), (4363, 0.33141449702590914), (4386, 0.33141449702590914), (4396, 0.33141449702590914), (4397, 0.33141449702590914), (4398, 0.33141449702590914), (4399, 0.33141449702590914), (4407, 0.33141449702590914), (4409, 0.33141449702590914), (4416, 0.33141449702590914), (4423, 0.33141449702590914), (4427, 0.33141449702590914), (4461, 0.33141449702590914), (4476, 0.33141449702590914), (4495, 0.33141449702590914), (4497, 0.33141449702590914), (4505, 0.33141449702590914), (4529, 0.33141449702590914), (4540, 0.33141449702590914), (4544, 0.33141449702590914), (4545, 0.33141449702590914), (4567, 0.33141449702590914), (4572, 0.33141449702590914), (4574, 0.33141449702590914), (4584, 0.33141449702590914), (4598, 0.33141449702590914), (4602, 0.33141449702590914), (4616, 0.33141449702590914), (4620, 0.33141449702590914), (4634, 0.33141449702590914), (4641, 0.33141449702590914), (4680, 0.33141449702590914), (4685, 0.33141449702590914), (4686, 0.33141449702590914), (4687, 0.33141449702590914), (4692, 0.33141449702590914), (4693, 0.33141449702590914), (4694, 0.33141449702590914), (4696, 0.33141449702590914), (4729, 0.33141449702590914), (4732, 0.33141449702590914), (4748, 0.33141449702590914), (4749, 0.33141449702590914), (4753, 0.33141449702590914), (205, 0.3111936344859419), (366, 0.3111936344859419), (393, 0.3111936344859419), (422, 0.3111936344859419), (454, 0.3111936344859419), (525, 0.3111936344859419), (535, 0.3111936344859419), (536, 0.3111936344859419), (577, 0.3111936344859419), (585, 0.3111936344859419), (648, 0.3111936344859419), (679, 0.3111936344859419), (708, 0.3111936344859419), (710, 0.3111936344859419), (711, 0.3111936344859419), (730, 0.3111936344859419), (771, 0.3111936344859419), (772, 0.3111936344859419), (814, 0.3111936344859419), (837, 0.3111936344859419), (839, 0.3111936344859419), (840, 0.3111936344859419), (841, 0.3111936344859419), (892, 0.3111936344859419), (943, 0.3111936344859419), (955, 0.3111936344859419), (958, 0.3111936344859419), (978, 0.3111936344859419), (995, 0.3111936344859419), (1028, 0.3111936344859419), (1029, 0.3111936344859419), (1062, 0.3111936344859419), (1070, 0.3111936344859419), (1089, 0.3111936344859419), (1093, 0.3111936344859419), (1103, 0.3111936344859419), (1105, 0.3111936344859419), (1106, 0.3111936344859419), (1125, 0.3111936344859419), (1130, 0.3111936344859419), (1133, 0.3111936344859419), (1139, 0.3111936344859419), (1149, 0.3111936344859419), (1152, 0.3111936344859419), (1178, 0.3111936344859419), (1180, 0.3111936344859419), (1227, 0.3111936344859419), (1267, 0.3111936344859419), (1289, 0.3111936344859419), (1297, 0.3111936344859419), (1299, 0.3111936344859419), (1311, 0.3111936344859419), (1322, 0.3111936344859419), (1331, 0.3111936344859419), (1353, 0.3111936344859419), (1376, 0.3111936344859419), (1389, 0.3111936344859419), (1390, 0.3111936344859419), (1425, 0.3111936344859419), (1444, 0.3111936344859419), (1492, 0.3111936344859419), (1508, 0.3111936344859419), (1517, 0.3111936344859419), (1526, 0.3111936344859419), (1561, 0.3111936344859419), (1563, 0.3111936344859419), (1583, 0.3111936344859419), (1586, 0.3111936344859419), (1609, 0.3111936344859419), (1626, 0.3111936344859419), (1644, 0.3111936344859419), (1646, 0.3111936344859419), (1654, 0.3111936344859419), (1668, 0.3111936344859419), (1673, 0.3111936344859419), (1679, 0.3111936344859419), (1689, 0.3111936344859419), (1698, 0.3111936344859419), (1702, 0.3111936344859419), (1715, 0.3111936344859419), (1729, 0.3111936344859419), (1737, 0.3111936344859419), (1741, 0.3111936344859419), (1752, 0.3111936344859419), (1757, 0.3111936344859419), (1767, 0.3111936344859419), (1777, 0.3111936344859419), (1785, 0.3111936344859419), (1786, 0.3111936344859419), (1790, 0.3111936344859419), (1834, 0.3111936344859419), (1849, 0.3111936344859419), (1856, 0.3111936344859419), (1879, 0.3111936344859419), (1906, 0.3111936344859419), (1915, 0.3111936344859419), (1917, 0.3111936344859419), (1928, 0.3111936344859419), (1938, 0.3111936344859419), (1944, 0.3111936344859419), (1957, 0.3111936344859419), (1978, 0.3111936344859419), (1994, 0.3111936344859419), (2002, 0.3111936344859419), (2005, 0.3111936344859419), (2042, 0.3111936344859419), (2063, 0.3111936344859419), (2064, 0.3111936344859419), (2071, 0.3111936344859419), (2079, 0.3111936344859419), (2092, 0.3111936344859419), (2098, 0.3111936344859419), (2128, 0.3111936344859419), (2138, 0.3111936344859419), (2147, 0.3111936344859419), (2202, 0.3111936344859419), (2203, 0.3111936344859419), (2204, 0.3111936344859419), (2215, 0.3111936344859419), (2219, 0.3111936344859419), (2271, 0.3111936344859419), (2272, 0.3111936344859419), (2282, 0.3111936344859419), (2305, 0.3111936344859419), (2307, 0.3111936344859419), (2311, 0.3111936344859419), (2312, 0.3111936344859419), (2325, 0.3111936344859419), (2339, 0.3111936344859419), (2360, 0.3111936344859419), (2366, 0.3111936344859419), (2377, 0.3111936344859419), (2380, 0.3111936344859419), (2384, 0.3111936344859419), (2445, 0.3111936344859419), (2452, 0.3111936344859419), (2455, 0.3111936344859419), (2458, 0.3111936344859419), (2460, 0.3111936344859419), (2465, 0.3111936344859419), (2483, 0.3111936344859419), (2491, 0.3111936344859419), (2508, 0.3111936344859419), (2510, 0.3111936344859419), (2515, 0.3111936344859419), (2518, 0.3111936344859419), (2523, 0.3111936344859419), (2536, 0.3111936344859419), (2542, 0.3111936344859419), (2548, 0.3111936344859419), (2551, 0.3111936344859419), (2620, 0.3111936344859419), (2631, 0.3111936344859419), (2639, 0.3111936344859419), (2648, 0.3111936344859419), (2669, 0.3111936344859419), (2675, 0.3111936344859419), (2684, 0.3111936344859419), (2703, 0.3111936344859419), (2726, 0.3111936344859419), (2734, 0.3111936344859419), (2818, 0.3111936344859419), (2823, 0.3111936344859419), (2852, 0.3111936344859419), (2875, 0.3111936344859419), (2896, 0.3111936344859419), (2930, 0.3111936344859419), (2941, 0.3111936344859419), (2951, 0.3111936344859419), (2968, 0.3111936344859419), (3038, 0.3111936344859419), (3041, 0.3111936344859419), (3054, 0.3111936344859419), (3060, 0.3111936344859419), (3073, 0.3111936344859419), (3082, 0.3111936344859419), (3087, 0.3111936344859419), (3088, 0.3111936344859419), (3090, 0.3111936344859419), (3104, 0.3111936344859419), (3106, 0.3111936344859419), (3164, 0.3111936344859419), (3190, 0.3111936344859419), (3197, 0.3111936344859419), (3203, 0.3111936344859419), (3207, 0.3111936344859419), (3209, 0.3111936344859419), (3266, 0.3111936344859419), (3277, 0.3111936344859419), (3309, 0.3111936344859419), (3321, 0.3111936344859419), (3324, 0.3111936344859419), (3350, 0.3111936344859419), (3378, 0.3111936344859419), (3415, 0.3111936344859419), (3422, 0.3111936344859419), (3428, 0.3111936344859419), (3442, 0.3111936344859419), (3462, 0.3111936344859419), (3475, 0.3111936344859419), (3494, 0.3111936344859419), (3509, 0.3111936344859419), (3510, 0.3111936344859419), (3518, 0.3111936344859419), (3519, 0.3111936344859419), (3543, 0.3111936344859419), (3563, 0.3111936344859419), (3572, 0.3111936344859419), (3622, 0.3111936344859419), (3662, 0.3111936344859419), (3683, 0.3111936344859419), (3712, 0.3111936344859419), (3722, 0.3111936344859419), (3730, 0.3111936344859419), (3736, 0.3111936344859419), (3740, 0.3111936344859419), (3759, 0.3111936344859419), (3789, 0.3111936344859419), (3791, 0.3111936344859419), (3818, 0.3111936344859419), (3820, 0.3111936344859419), (3836, 0.3111936344859419), (3837, 0.3111936344859419), (3861, 0.3111936344859419), (3864, 0.3111936344859419), (3885, 0.3111936344859419), (3896, 0.3111936344859419), (3909, 0.3111936344859419), (3912, 0.3111936344859419), (3914, 0.3111936344859419), (3916, 0.3111936344859419), (3921, 0.3111936344859419), (3926, 0.3111936344859419), (3930, 0.3111936344859419), (3931, 0.3111936344859419), (3934, 0.3111936344859419), (3969, 0.3111936344859419), (3988, 0.3111936344859419), (3996, 0.3111936344859419), (4003, 0.3111936344859419), (4008, 0.3111936344859419), (4035, 0.3111936344859419), (4058, 0.3111936344859419), (4097, 0.3111936344859419), (4115, 0.3111936344859419), (4125, 0.3111936344859419), (4127, 0.3111936344859419), (4149, 0.3111936344859419), (4184, 0.3111936344859419), (4204, 0.3111936344859419), (4214, 0.3111936344859419), (4256, 0.3111936344859419), (4258, 0.3111936344859419), (4260, 0.3111936344859419), (4291, 0.3111936344859419), (4297, 0.3111936344859419), (4305, 0.3111936344859419), (4317, 0.3111936344859419), (4329, 0.3111936344859419), (4332, 0.3111936344859419), (4335, 0.3111936344859419), (4358, 0.3111936344859419), (4367, 0.3111936344859419), (4370, 0.3111936344859419), (4388, 0.3111936344859419), (4413, 0.3111936344859419), (4421, 0.3111936344859419), (4451, 0.3111936344859419), (4452, 0.3111936344859419), (4480, 0.3111936344859419), (4496, 0.3111936344859419), (4506, 0.3111936344859419), (4556, 0.3111936344859419), (4558, 0.3111936344859419), (4560, 0.3111936344859419), (4577, 0.3111936344859419), (4592, 0.3111936344859419), (4596, 0.3111936344859419), (4648, 0.3111936344859419), (4655, 0.3111936344859419), (4667, 0.3111936344859419), (4737, 0.3111936344859419), (685, 0.29009387728278246), (1181, 0.29009387728278246), (1435, 0.29009387728278246), (1910, 0.29009387728278246), (2084, 0.29009387728278246), (2252, 0.29009387728278246), (2700, 0.29009387728278246), (3049, 0.29009387728278246), (3117, 0.29009387728278246), (3774, 0.29009387728278246), (3806, 0.29009387728278246), (4047, 0.29009387728278246), (4162, 0.29009387728278246), (4208, 0.29009387728278246), (4281, 0.29009387728278246), (4307, 0.29009387728278246), (4375, 0.29009387728278246), (4515, 0.29009387728278246), (4524, 0.29009387728278246), (4587, 0.29009387728278246), (4601, 0.29009387728278246), (4678, 0.29009387728278246), (4689, 0.29009387728278246), (223, 0.2843861100312273), (484, 0.2843861100312273), (1548, 0.2843861100312273), (1692, 0.2843861100312273), (1770, 0.2843861100312273), (1823, 0.2843861100312273), (2020, 0.2843861100312273), (2182, 0.2843861100312273), (2238, 0.2843861100312273), (2470, 0.2843861100312273), (2547, 0.2843861100312273), (2842, 0.2843861100312273), (2958, 0.2843861100312273), (3958, 0.2843861100312273), (4185, 0.2843861100312273), (4393, 0.2843861100312273), (4410, 0.2843861100312273), (4568, 0.2843861100312273), (4597, 0.2843861100312273), (4659, 0.2843861100312273), (4682, 0.2843861100312273), (82, 0.26977814891512303), (115, 0.26977814891512303), (157, 0.26977814891512303), (175, 0.26977814891512303), (246, 0.26977814891512303), (253, 0.26977814891512303), (346, 0.26977814891512303), (377, 0.26977814891512303), (473, 0.26977814891512303), (505, 0.26977814891512303), (507, 0.26977814891512303), (508, 0.26977814891512303), (659, 0.26977814891512303), (691, 0.26977814891512303), (740, 0.26977814891512303), (755, 0.26977814891512303), (759, 0.26977814891512303), (787, 0.26977814891512303), (788, 0.26977814891512303), (884, 0.26977814891512303), (886, 0.26977814891512303), (933, 0.26977814891512303), (941, 0.26977814891512303), (984, 0.26977814891512303), (1006, 0.26977814891512303), (1021, 0.26977814891512303), (1100, 0.26977814891512303), (1112, 0.26977814891512303), (1117, 0.26977814891512303), (1124, 0.26977814891512303), (1169, 0.26977814891512303), (1203, 0.26977814891512303), (1204, 0.26977814891512303), (1243, 0.26977814891512303), (1284, 0.26977814891512303), (1298, 0.26977814891512303), (1304, 0.26977814891512303), (1312, 0.26977814891512303), (1318, 0.26977814891512303), (1359, 0.26977814891512303), (1367, 0.26977814891512303), (1409, 0.26977814891512303), (1411, 0.26977814891512303), (1422, 0.26977814891512303), (1446, 0.26977814891512303), (1465, 0.26977814891512303), (1494, 0.26977814891512303), (1528, 0.26977814891512303), (1571, 0.26977814891512303), (1597, 0.26977814891512303), (1637, 0.26977814891512303), (1642, 0.26977814891512303), (1660, 0.26977814891512303), (1663, 0.26977814891512303), (1688, 0.26977814891512303), (1733, 0.26977814891512303), (1759, 0.26977814891512303), (1765, 0.26977814891512303), (1792, 0.26977814891512303), (1848, 0.26977814891512303), (1877, 0.26977814891512303), (1919, 0.26977814891512303), (1929, 0.26977814891512303), (1947, 0.26977814891512303), (1954, 0.26977814891512303), (1980, 0.26977814891512303), (2060, 0.26977814891512303), (2137, 0.26977814891512303), (2146, 0.26977814891512303), (2148, 0.26977814891512303), (2151, 0.26977814891512303), (2192, 0.26977814891512303), (2209, 0.26977814891512303), (2236, 0.26977814891512303), (2270, 0.26977814891512303), (2292, 0.26977814891512303), (2303, 0.26977814891512303), (2309, 0.26977814891512303), (2340, 0.26977814891512303), (2387, 0.26977814891512303), (2396, 0.26977814891512303), (2403, 0.26977814891512303), (2404, 0.26977814891512303), (2436, 0.26977814891512303), (2440, 0.26977814891512303), (2446, 0.26977814891512303), (2490, 0.26977814891512303), (2495, 0.26977814891512303), (2507, 0.26977814891512303), (2537, 0.26977814891512303), (2561, 0.26977814891512303), (2587, 0.26977814891512303), (2619, 0.26977814891512303), (2653, 0.26977814891512303), (2712, 0.26977814891512303), (2722, 0.26977814891512303), (2728, 0.26977814891512303), (2731, 0.26977814891512303), (2738, 0.26977814891512303), (2786, 0.26977814891512303), (2846, 0.26977814891512303), (2858, 0.26977814891512303), (2882, 0.26977814891512303), (2884, 0.26977814891512303), (2914, 0.26977814891512303), (2954, 0.26977814891512303), (2970, 0.26977814891512303), (2976, 0.26977814891512303), (3003, 0.26977814891512303), (3016, 0.26977814891512303), (3020, 0.26977814891512303), (3026, 0.26977814891512303), (3037, 0.26977814891512303), (3040, 0.26977814891512303), (3042, 0.26977814891512303), (3074, 0.26977814891512303), (3084, 0.26977814891512303), (3113, 0.26977814891512303), (3139, 0.26977814891512303), (3150, 0.26977814891512303), (3224, 0.26977814891512303), (3238, 0.26977814891512303), (3239, 0.26977814891512303), (3249, 0.26977814891512303), (3257, 0.26977814891512303), (3260, 0.26977814891512303), (3283, 0.26977814891512303), (3289, 0.26977814891512303), (3290, 0.26977814891512303), (3329, 0.26977814891512303), (3337, 0.26977814891512303), (3348, 0.26977814891512303), (3351, 0.26977814891512303), (3410, 0.26977814891512303), (3430, 0.26977814891512303), (3537, 0.26977814891512303), (3538, 0.26977814891512303), (3544, 0.26977814891512303), (3565, 0.26977814891512303), (3606, 0.26977814891512303), (3616, 0.26977814891512303), (3621, 0.26977814891512303), (3665, 0.26977814891512303), (3733, 0.26977814891512303), (3739, 0.26977814891512303), (3754, 0.26977814891512303), (3755, 0.26977814891512303), (3765, 0.26977814891512303), (3772, 0.26977814891512303), (3811, 0.26977814891512303), (3832, 0.26977814891512303), (3855, 0.26977814891512303), (3890, 0.26977814891512303), (3922, 0.26977814891512303), (3962, 0.26977814891512303), (3967, 0.26977814891512303), (3973, 0.26977814891512303), (4023, 0.26977814891512303), (4049, 0.26977814891512303), (4052, 0.26977814891512303), (4102, 0.26977814891512303), (4111, 0.26977814891512303), (4132, 0.26977814891512303), (4140, 0.26977814891512303), (4147, 0.26977814891512303), (4174, 0.26977814891512303), (4182, 0.26977814891512303), (4200, 0.26977814891512303), (4206, 0.26977814891512303), (4213, 0.26977814891512303), (4254, 0.26977814891512303), (4257, 0.26977814891512303), (4304, 0.26977814891512303), (4308, 0.26977814891512303), (4356, 0.26977814891512303), (4371, 0.26977814891512303), (4382, 0.26977814891512303), (4395, 0.26977814891512303), (4484, 0.26977814891512303), (4507, 0.26977814891512303), (4530, 0.26977814891512303), (4571, 0.26977814891512303), (4627, 0.26977814891512303), (4633, 0.26977814891512303), (4650, 0.26977814891512303), (4706, 0.26977814891512303), (4734, 0.26977814891512303), (4744, 0.26977814891512303), (272, 0.2686683291702636), (2253, 0.2686683291702636), (3761, 0.2686683291702636), (4022, 0.2686683291702636), (4229, 0.2686683291702636), (4278, 0.26162773353078267), (677, 0.26159040045370346), (914, 0.26159040045370346), (1090, 0.26159040045370346), (1118, 0.26159040045370346), (1221, 0.26159040045370346), (1228, 0.26159040045370346), (1686, 0.26159040045370346), (1725, 0.26159040045370346), (2028, 0.26159040045370346), (2172, 0.26159040045370346), (3567, 0.26159040045370346), (3578, 0.26159040045370346), (4745, 0.26159040045370346), (16, 0.2556821589682755), (34, 0.2556821589682755), (107, 0.2556821589682755), (243, 0.2556821589682755), (562, 0.2556821589682755), (563, 0.2556821589682755), (571, 0.2556821589682755), (581, 0.2556821589682755), (628, 0.2556821589682755), (637, 0.2556821589682755), (642, 0.2556821589682755), (689, 0.2556821589682755), (694, 0.2556821589682755), (732, 0.2556821589682755), (743, 0.2556821589682755), (761, 0.2556821589682755), (831, 0.2556821589682755), (861, 0.2556821589682755), (863, 0.2556821589682755), (900, 0.2556821589682755), (967, 0.2556821589682755), (1030, 0.2556821589682755), (1188, 0.2556821589682755), (1191, 0.2556821589682755), (1383, 0.2556821589682755), (1448, 0.2556821589682755), (1462, 0.2556821589682755), (1865, 0.2556821589682755), (1918, 0.2556821589682755), (1960, 0.2556821589682755), (2069, 0.2556821589682755), (2121, 0.2556821589682755), (2558, 0.2556821589682755), (2580, 0.2556821589682755), (2606, 0.2556821589682755), (2655, 0.2556821589682755), (2716, 0.2556821589682755), (2988, 0.2556821589682755), (3032, 0.2556821589682755), (3035, 0.2556821589682755), (3125, 0.2556821589682755), (3196, 0.2556821589682755), (3228, 0.2556821589682755), (3284, 0.2556821589682755), (3344, 0.2556821589682755), (3435, 0.2556821589682755), (3436, 0.2556821589682755), (3498, 0.2556821589682755), (3499, 0.2556821589682755), (3501, 0.2556821589682755), (3521, 0.2556821589682755), (3618, 0.2556821589682755), (3653, 0.2556821589682755), (3661, 0.2556821589682755), (3696, 0.2556821589682755), (3727, 0.2556821589682755), (3780, 0.2556821589682755), (3841, 0.2556821589682755), (3876, 0.2556821589682755), (3910, 0.2556821589682755), (3974, 0.2556821589682755), (4013, 0.2556821589682755), (4089, 0.2556821589682755), (4092, 0.2556821589682755), (4163, 0.2556821589682755), (4176, 0.2556821589682755), (4362, 0.2556821589682755), (4402, 0.2556821589682755), (4431, 0.2556821589682755), (4470, 0.2556821589682755), (4576, 0.2556821589682755), (4579, 0.2556821589682755), (4612, 0.2556821589682755), (4710, 0.2556821589682755), (4715, 0.2556821589682755), (4731, 0.2556821589682755), (4757, 0.2556821589682755), (4707, 0.2546294248004223), (159, 0.25174842481438536), (848, 0.25174842481438536), (1096, 0.25174842481438536), (1102, 0.25174842481438536), (1708, 0.25174842481438536), (2989, 0.25174842481438536), (3336, 0.25174842481438536), (3441, 0.25174842481438536), (3593, 0.25174842481438536), (3668, 0.25174842481438536), (3707, 0.25174842481438536), (3953, 0.25174842481438536), (4020, 0.25174842481438536), (4221, 0.25174842481438536), (4573, 0.25174842481438536), (4606, 0.25174842481438536), (4608, 0.25174842481438536), (4649, 0.25174842481438536), (4705, 0.25174842481438536), (4743, 0.25174842481438536), (1010, 0.24253446424949238), (1545, 0.24253446424949238), (1564, 0.24253446424949238), (1599, 0.24253446424949238), (1709, 0.24253446424949238), (1734, 0.24253446424949238), (1751, 0.24253446424949238), (1818, 0.24253446424949238), (1870, 0.24253446424949238), (2025, 0.24253446424949238), (2052, 0.24253446424949238), (2113, 0.24253446424949238), (2124, 0.24253446424949238), (2227, 0.24253446424949238), (2241, 0.24253446424949238), (2274, 0.24253446424949238), (2315, 0.24253446424949238), (2657, 0.24253446424949238), (2659, 0.24253446424949238), (2667, 0.24253446424949238), (2676, 0.24253446424949238), (2922, 0.24253446424949238), (2990, 0.24253446424949238), (3115, 0.24253446424949238), (3169, 0.24253446424949238), (3253, 0.24253446424949238), (3343, 0.24253446424949238), (3383, 0.24253446424949238), (3591, 0.24253446424949238), (4001, 0.24253446424949238), (4131, 0.24253446424949238), (4186, 0.24253446424949238), (4353, 0.24253446424949238), (4600, 0.24253446424949238), (4631, 0.24253446424949238), (4647, 0.24253446424949238), (4690, 0.24253446424949238), (8, 0.24064912420627915), (29, 0.24064912420627915), (33, 0.24064912420627915), (62, 0.24064912420627915), (121, 0.24064912420627915), (132, 0.24064912420627915), (192, 0.24064912420627915), (193, 0.24064912420627915), (194, 0.24064912420627915), (198, 0.24064912420627915), (224, 0.24064912420627915), (227, 0.24064912420627915), (309, 0.24064912420627915), (326, 0.24064912420627915), (358, 0.24064912420627915), (388, 0.24064912420627915), (448, 0.24064912420627915), (455, 0.24064912420627915), (464, 0.24064912420627915), (465, 0.24064912420627915), (475, 0.24064912420627915), (489, 0.24064912420627915), (490, 0.24064912420627915), (524, 0.24064912420627915), (587, 0.24064912420627915), (612, 0.24064912420627915), (623, 0.24064912420627915), (638, 0.24064912420627915), (698, 0.24064912420627915), (705, 0.24064912420627915), (774, 0.24064912420627915), (813, 0.24064912420627915), (830, 0.24064912420627915), (838, 0.24064912420627915), (843, 0.24064912420627915), (844, 0.24064912420627915), (865, 0.24064912420627915), (897, 0.24064912420627915), (944, 0.24064912420627915), (959, 0.24064912420627915), (975, 0.24064912420627915), (1026, 0.24064912420627915), (1027, 0.24064912420627915), (1034, 0.24064912420627915), (1052, 0.24064912420627915), (1075, 0.24064912420627915), (1077, 0.24064912420627915), (1145, 0.24064912420627915), (1247, 0.24064912420627915), (1305, 0.24064912420627915), (1365, 0.24064912420627915), (1415, 0.24064912420627915), (1423, 0.24064912420627915), (1558, 0.24064912420627915), (1612, 0.24064912420627915), (1619, 0.24064912420627915), (1624, 0.24064912420627915), (1648, 0.24064912420627915), (1655, 0.24064912420627915), (1666, 0.24064912420627915), (1682, 0.24064912420627915), (1685, 0.24064912420627915), (1743, 0.24064912420627915), (1747, 0.24064912420627915), (1762, 0.24064912420627915), (1763, 0.24064912420627915), (1768, 0.24064912420627915), (1782, 0.24064912420627915), (1860, 0.24064912420627915), (1869, 0.24064912420627915), (1885, 0.24064912420627915), (1909, 0.24064912420627915), (2004, 0.24064912420627915), (2035, 0.24064912420627915), (2051, 0.24064912420627915), (2105, 0.24064912420627915), (2132, 0.24064912420627915), (2144, 0.24064912420627915), (2149, 0.24064912420627915), (2155, 0.24064912420627915), (2195, 0.24064912420627915), (2230, 0.24064912420627915), (2266, 0.24064912420627915), (2319, 0.24064912420627915), (2338, 0.24064912420627915), (2349, 0.24064912420627915), (2362, 0.24064912420627915), (2405, 0.24064912420627915), (2407, 0.24064912420627915), (2453, 0.24064912420627915), (2457, 0.24064912420627915), (2475, 0.24064912420627915), (2528, 0.24064912420627915), (2560, 0.24064912420627915), (2650, 0.24064912420627915), (2664, 0.24064912420627915), (2761, 0.24064912420627915), (2775, 0.24064912420627915), (2798, 0.24064912420627915), (2809, 0.24064912420627915), (2859, 0.24064912420627915), (2863, 0.24064912420627915), (2870, 0.24064912420627915), (2883, 0.24064912420627915), (2890, 0.24064912420627915), (2892, 0.24064912420627915), (2894, 0.24064912420627915), (2904, 0.24064912420627915), (2907, 0.24064912420627915), (2911, 0.24064912420627915), (2915, 0.24064912420627915), (2975, 0.24064912420627915), (3013, 0.24064912420627915), (3015, 0.24064912420627915), (3030, 0.24064912420627915), (3056, 0.24064912420627915), (3067, 0.24064912420627915), (3072, 0.24064912420627915), (3075, 0.24064912420627915), (3094, 0.24064912420627915), (3116, 0.24064912420627915), (3140, 0.24064912420627915), (3148, 0.24064912420627915), (3170, 0.24064912420627915), (3200, 0.24064912420627915), (3237, 0.24064912420627915), (3248, 0.24064912420627915), (3254, 0.24064912420627915), (3268, 0.24064912420627915), (3273, 0.24064912420627915), (3274, 0.24064912420627915), (3291, 0.24064912420627915), (3296, 0.24064912420627915), (3300, 0.24064912420627915), (3302, 0.24064912420627915), (3335, 0.24064912420627915), (3359, 0.24064912420627915), (3380, 0.24064912420627915), (3391, 0.24064912420627915), (3406, 0.24064912420627915), (3425, 0.24064912420627915), (3434, 0.24064912420627915), (3506, 0.24064912420627915), (3511, 0.24064912420627915), (3524, 0.24064912420627915), (3551, 0.24064912420627915), (3614, 0.24064912420627915), (3654, 0.24064912420627915), (3655, 0.24064912420627915), (3745, 0.24064912420627915), (3804, 0.24064912420627915), (3809, 0.24064912420627915), (3829, 0.24064912420627915), (3893, 0.24064912420627915), (3898, 0.24064912420627915), (3904, 0.24064912420627915), (3913, 0.24064912420627915), (3915, 0.24064912420627915), (3925, 0.24064912420627915), (3932, 0.24064912420627915), (3954, 0.24064912420627915), (3999, 0.24064912420627915), (4079, 0.24064912420627915), (4080, 0.24064912420627915), (4082, 0.24064912420627915), (4138, 0.24064912420627915), (4175, 0.24064912420627915), (4183, 0.24064912420627915), (4197, 0.24064912420627915), (4243, 0.24064912420627915), (4306, 0.24064912420627915), (4320, 0.24064912420627915), (4333, 0.24064912420627915), (4350, 0.24064912420627915), (4369, 0.24064912420627915), (4381, 0.24064912420627915), (4411, 0.24064912420627915), (4458, 0.24064912420627915), (4479, 0.24064912420627915), (4575, 0.24064912420627915), (4605, 0.24064912420627915), (4625, 0.24064912420627915), (4632, 0.24064912420627915), (4657, 0.24064912420627915), (4712, 0.24064912420627915), (2485, 0.23851272805731571), (2577, 0.23851272805731571), (2851, 0.23851272805731571), (4021, 0.23851272805731571), (4500, 0.23851272805731571), (4740, 0.23851272805731571), (4758, 0.23851272805731571), (935, 0.2355230047469267), (1087, 0.2355230047469267), (1503, 0.2355230047469267), (1650, 0.2355230047469267), (2285, 0.2355230047469267), (2324, 0.2355230047469267), (2725, 0.2355230047469267), (3629, 0.2355230047469267), (3877, 0.2355230047469267), (3903, 0.2355230047469267), (4016, 0.2355230047469267), (4074, 0.2355230047469267), (4428, 0.2355230047469267), (49, 0.2325630880596372), (110, 0.2325630880596372), (146, 0.2325630880596372), (225, 0.2325630880596372), (312, 0.2325630880596372), (520, 0.2325630880596372), (529, 0.2325630880596372), (531, 0.2325630880596372), (582, 0.2325630880596372), (583, 0.2325630880596372), (649, 0.2325630880596372), (665, 0.2325630880596372), (671, 0.2325630880596372), (709, 0.2325630880596372), (741, 0.2325630880596372), (754, 0.2325630880596372), (758, 0.2325630880596372), (764, 0.2325630880596372), (768, 0.2325630880596372), (785, 0.2325630880596372), (820, 0.2325630880596372), (846, 0.2325630880596372), (873, 0.2325630880596372), (938, 0.2325630880596372), (971, 0.2325630880596372), (982, 0.2325630880596372), (983, 0.2325630880596372), (1038, 0.2325630880596372), (1073, 0.2325630880596372), (1094, 0.2325630880596372), (1157, 0.2325630880596372), (1200, 0.2325630880596372), (1201, 0.2325630880596372), (1329, 0.2325630880596372), (1345, 0.2325630880596372), (1362, 0.2325630880596372), (1363, 0.2325630880596372), (1441, 0.2325630880596372), (1445, 0.2325630880596372), (1453, 0.2325630880596372), (1457, 0.2325630880596372), (1485, 0.2325630880596372), (1501, 0.2325630880596372), (1549, 0.2325630880596372), (1589, 0.2325630880596372), (1618, 0.2325630880596372), (1639, 0.2325630880596372), (1718, 0.2325630880596372), (1746, 0.2325630880596372), (1778, 0.2325630880596372), (1787, 0.2325630880596372), (1803, 0.2325630880596372), (1867, 0.2325630880596372), (1880, 0.2325630880596372), (1935, 0.2325630880596372), (1956, 0.2325630880596372), (1963, 0.2325630880596372), (1974, 0.2325630880596372), (2001, 0.2325630880596372), (2003, 0.2325630880596372), (2007, 0.2325630880596372), (2009, 0.2325630880596372), (2032, 0.2325630880596372), (2036, 0.2325630880596372), (2106, 0.2325630880596372), (2156, 0.2325630880596372), (2160, 0.2325630880596372), (2161, 0.2325630880596372), (2167, 0.2325630880596372), (2168, 0.2325630880596372), (2186, 0.2325630880596372), (2234, 0.2325630880596372), (2258, 0.2325630880596372), (2333, 0.2325630880596372), (2368, 0.2325630880596372), (2409, 0.2325630880596372), (2420, 0.2325630880596372), (2431, 0.2325630880596372), (2511, 0.2325630880596372), (2543, 0.2325630880596372), (2566, 0.2325630880596372), (2588, 0.2325630880596372), (2594, 0.2325630880596372), (2662, 0.2325630880596372), (2663, 0.2325630880596372), (2671, 0.2325630880596372), (2677, 0.2325630880596372), (2681, 0.2325630880596372), (2693, 0.2325630880596372), (2699, 0.2325630880596372), (2701, 0.2325630880596372), (2730, 0.2325630880596372), (2732, 0.2325630880596372), (2737, 0.2325630880596372), (2794, 0.2325630880596372), (2805, 0.2325630880596372), (2816, 0.2325630880596372), (2817, 0.2325630880596372), (2836, 0.2325630880596372), (2855, 0.2325630880596372), (2866, 0.2325630880596372), (2877, 0.2325630880596372), (2891, 0.2325630880596372), (2928, 0.2325630880596372), (2973, 0.2325630880596372), (2983, 0.2325630880596372), (3009, 0.2325630880596372), (3017, 0.2325630880596372), (3039, 0.2325630880596372), (3061, 0.2325630880596372), (3077, 0.2325630880596372), (3083, 0.2325630880596372), (3098, 0.2325630880596372), (3109, 0.2325630880596372), (3175, 0.2325630880596372), (3177, 0.2325630880596372), (3188, 0.2325630880596372), (3217, 0.2325630880596372), (3229, 0.2325630880596372), (3288, 0.2325630880596372), (3295, 0.2325630880596372), (3371, 0.2325630880596372), (3375, 0.2325630880596372), (3400, 0.2325630880596372), (3489, 0.2325630880596372), (3490, 0.2325630880596372), (3529, 0.2325630880596372), (3549, 0.2325630880596372), (3589, 0.2325630880596372), (3644, 0.2325630880596372), (3648, 0.2325630880596372), (3681, 0.2325630880596372), (3686, 0.2325630880596372), (3716, 0.2325630880596372), (3748, 0.2325630880596372), (3800, 0.2325630880596372), (3808, 0.2325630880596372), (3851, 0.2325630880596372), (3856, 0.2325630880596372), (3879, 0.2325630880596372), (3933, 0.2325630880596372), (3936, 0.2325630880596372), (3950, 0.2325630880596372), (3964, 0.2325630880596372), (4018, 0.2325630880596372), (4061, 0.2325630880596372), (4064, 0.2325630880596372), (4073, 0.2325630880596372), (4084, 0.2325630880596372), (4223, 0.2325630880596372), (4252, 0.2325630880596372), (4315, 0.2325630880596372), (4319, 0.2325630880596372), (4327, 0.2325630880596372), (4408, 0.2325630880596372), (4437, 0.2325630880596372), (4460, 0.2325630880596372), (4463, 0.2325630880596372), (4498, 0.2325630880596372), (4628, 0.2325630880596372), (4688, 0.2325630880596372), (4702, 0.2325630880596372), (4738, 0.2325630880596372), (233, 0.23213843044751217), (512, 0.23213843044751217), (513, 0.23213843044751217), (514, 0.23213843044751217), (595, 0.23213843044751217), (723, 0.23213843044751217), (738, 0.23213843044751217), (803, 0.23213843044751217), (809, 0.23213843044751217), (974, 0.23213843044751217), (1127, 0.23213843044751217), (1384, 0.23213843044751217), (1443, 0.23213843044751217), (1576, 0.23213843044751217), (1659, 0.23213843044751217), (1749, 0.23213843044751217), (2197, 0.23213843044751217), (2476, 0.23213843044751217), (2576, 0.23213843044751217), (2947, 0.23213843044751217), (3143, 0.23213843044751217), (3185, 0.23213843044751217), (3213, 0.23213843044751217), (3263, 0.23213843044751217), (3339, 0.23213843044751217), (3429, 0.23213843044751217), (3438, 0.23213843044751217), (3451, 0.23213843044751217), (3588, 0.23213843044751217), (3602, 0.23213843044751217), (3710, 0.23213843044751217), (3814, 0.23213843044751217), (3997, 0.23213843044751217), (4039, 0.23213843044751217), (4119, 0.23213843044751217), (4248, 0.23213843044751217), (4274, 0.23213843044751217), (4310, 0.23213843044751217), (4376, 0.23213843044751217), (4384, 0.23213843044751217), (4462, 0.23213843044751217), (4653, 0.23213843044751217), (4666, 0.23213843044751217), (43, 0.2304041449415074), (96, 0.2304041449415074), (105, 0.2304041449415074), (106, 0.2304041449415074), (108, 0.2304041449415074), (109, 0.2304041449415074), (111, 0.2304041449415074), (126, 0.2304041449415074), (142, 0.2304041449415074), (172, 0.2304041449415074), (173, 0.2304041449415074), (209, 0.2304041449415074), (216, 0.2304041449415074), (254, 0.2304041449415074), (256, 0.2304041449415074), (274, 0.2304041449415074), (280, 0.2304041449415074), (281, 0.2304041449415074), (285, 0.2304041449415074), (287, 0.2304041449415074), (342, 0.2304041449415074), (396, 0.2304041449415074), (485, 0.2304041449415074), (544, 0.2304041449415074), (828, 0.2304041449415074), (874, 0.2304041449415074), (894, 0.2304041449415074), (1264, 0.2304041449415074), (1339, 0.2304041449415074), (1620, 0.2304041449415074), (1754, 0.2304041449415074), (1776, 0.2304041449415074), (1854, 0.2304041449415074), (1874, 0.2304041449415074), (2023, 0.2304041449415074), (2029, 0.2304041449415074), (2080, 0.2304041449415074), (2126, 0.2304041449415074), (2321, 0.2304041449415074), (2346, 0.2304041449415074), (2649, 0.2304041449415074), (2739, 0.2304041449415074), (2752, 0.2304041449415074), (2849, 0.2304041449415074), (3076, 0.2304041449415074), (3095, 0.2304041449415074), (3119, 0.2304041449415074), (3120, 0.2304041449415074), (3293, 0.2304041449415074), (3956, 0.2304041449415074), (4048, 0.2304041449415074), (4053, 0.2304041449415074), (4187, 0.2304041449415074), (4232, 0.2304041449415074), (4465, 0.2304041449415074), (4469, 0.2304041449415074), (4617, 0.2304041449415074), (4722, 0.2304041449415074), (381, 0.2288019465377701), (1143, 0.2288019465377701), (1669, 0.2288019465377701), (2376, 0.2288019465377701), (4279, 0.2288019465377701), (4378, 0.2288019465377701), (1238, 0.22792680719730393), (1242, 0.22792680719730393), (1288, 0.22792680719730393), (1401, 0.22792680719730393), (1490, 0.22792680719730393), (1912, 0.22792680719730393), (2218, 0.22792680719730393), (2575, 0.22792680719730393), (4300, 0.22792680719730393), (923, 0.22398665457154515), (1488, 0.22398665457154515), (1902, 0.22398665457154515), (2348, 0.22398665457154515), (3349, 0.22398665457154515), (3571, 0.22398665457154515), (4522, 0.22398665457154515), (2328, 0.2233502534270261), (3721, 0.2233502534270261), (4050, 0.2233502534270261), (4438, 0.2233502534270261), (0, 0.22327788127752374), (42, 0.22327788127752374), (50, 0.22327788127752374), (503, 0.22327788127752374), (664, 0.22327788127752374), (862, 0.22327788127752374), (1213, 0.22327788127752374), (1260, 0.22327788127752374), (1282, 0.22327788127752374), (1330, 0.22327788127752374), (1344, 0.22327788127752374), (1371, 0.22327788127752374), (1461, 0.22327788127752374), (1507, 0.22327788127752374), (1981, 0.22327788127752374), (1986, 0.22327788127752374), (2158, 0.22327788127752374), (2228, 0.22327788127752374), (2304, 0.22327788127752374), (2487, 0.22327788127752374), (2635, 0.22327788127752374), (2833, 0.22327788127752374), (2948, 0.22327788127752374), (2994, 0.22327788127752374), (3127, 0.22327788127752374), (3149, 0.22327788127752374), (3508, 0.22327788127752374), (3570, 0.22327788127752374), (3905, 0.22327788127752374), (3949, 0.22327788127752374), (4007, 0.22327788127752374), (4105, 0.22327788127752374), (672, 0.22132778726751404), (1516, 0.22132778726751404), (2166, 0.22132778726751404), (2720, 0.22132778726751404), (3297, 0.22132778726751404), (3373, 0.22132778726751404), (4741, 0.22071371993780758), (241, 0.21923392526007138), (775, 0.21923392526007138), (437, 0.21825875077082707), (1182, 0.21825875077082707), (2176, 0.21825875077082707), (2257, 0.21825875077082707), (2393, 0.21825875077082707), (2448, 0.21825875077082707), (2568, 0.21825875077082707), (2579, 0.21825875077082707), (2612, 0.21825875077082707), (2901, 0.21825875077082707), (2980, 0.21825875077082707), (3151, 0.21825875077082707), (3219, 0.21825875077082707), (3557, 0.21825875077082707), (3620, 0.21825875077082707), (3643, 0.21825875077082707), (3813, 0.21825875077082707), (3990, 0.21825875077082707), (4330, 0.21825875077082707), (4340, 0.21825875077082707), (4604, 0.21825875077082707), (35, 0.2167388878303964), (36, 0.2167388878303964), (37, 0.2167388878303964), (101, 0.2167388878303964), (477, 0.2167388878303964), (548, 0.2167388878303964), (1263, 0.2167388878303964), (1459, 0.2167388878303964), (1470, 0.2167388878303964), (2718, 0.2167388878303964), (3600, 0.2167388878303964), (4224, 0.2167388878303964), (4236, 0.2167388878303964), (4456, 0.2167388878303964), (4491, 0.2167388878303964), (47, 0.21508745566455068), (70, 0.21508745566455068), (72, 0.21508745566455068), (83, 0.21508745566455068), (89, 0.21508745566455068), (137, 0.21508745566455068), (138, 0.21508745566455068), (207, 0.21508745566455068), (304, 0.21508745566455068), (530, 0.21508745566455068), (1018, 0.21508745566455068), (1058, 0.21508745566455068), (1832, 0.21508745566455068), (3659, 0.21508745566455068), (3713, 0.21508745566455068), (3775, 0.21508745566455068), (4096, 0.21508745566455068), (4164, 0.21508745566455068), (4216, 0.21508745566455068), (4235, 0.21508745566455068), (4265, 0.21508745566455068), (4510, 0.21508745566455068), (4512, 0.21508745566455068), (3, 0.21367203989690436), (103, 0.21367203989690436), (114, 0.21367203989690436), (129, 0.21367203989690436), (156, 0.21367203989690436), (161, 0.21367203989690436), (169, 0.21367203989690436), (174, 0.21367203989690436), (195, 0.21367203989690436), (202, 0.21367203989690436), (211, 0.21367203989690436), (212, 0.21367203989690436), (278, 0.21367203989690436), (279, 0.21367203989690436), (318, 0.21367203989690436), (325, 0.21367203989690436), (431, 0.21367203989690436), (471, 0.21367203989690436), (504, 0.21367203989690436), (510, 0.21367203989690436), (579, 0.21367203989690436), (589, 0.21367203989690436), (605, 0.21367203989690436), (609, 0.21367203989690436), (697, 0.21367203989690436), (735, 0.21367203989690436), (737, 0.21367203989690436), (847, 0.21367203989690436), (867, 0.21367203989690436), (883, 0.21367203989690436), (885, 0.21367203989690436), (890, 0.21367203989690436), (907, 0.21367203989690436), (973, 0.21367203989690436), (985, 0.21367203989690436), (998, 0.21367203989690436), (999, 0.21367203989690436), (1002, 0.21367203989690436), (1040, 0.21367203989690436), (1049, 0.21367203989690436), (1084, 0.21367203989690436), (1109, 0.21367203989690436), (1170, 0.21367203989690436), (1187, 0.21367203989690436), (1208, 0.21367203989690436), (1216, 0.21367203989690436), (1217, 0.21367203989690436), (1286, 0.21367203989690436), (1313, 0.21367203989690436), (1364, 0.21367203989690436), (1372, 0.21367203989690436), (1382, 0.21367203989690436), (1403, 0.21367203989690436), (1410, 0.21367203989690436), (1427, 0.21367203989690436), (1476, 0.21367203989690436), (1479, 0.21367203989690436), (1518, 0.21367203989690436), (1543, 0.21367203989690436), (1594, 0.21367203989690436), (1693, 0.21367203989690436), (1719, 0.21367203989690436), (1722, 0.21367203989690436), (1827, 0.21367203989690436), (1851, 0.21367203989690436), (1871, 0.21367203989690436), (1893, 0.21367203989690436), (1905, 0.21367203989690436), (1951, 0.21367203989690436), (2068, 0.21367203989690436), (2108, 0.21367203989690436), (2111, 0.21367203989690436), (2116, 0.21367203989690436), (2122, 0.21367203989690436), (2131, 0.21367203989690436), (2187, 0.21367203989690436), (2193, 0.21367203989690436), (2201, 0.21367203989690436), (2302, 0.21367203989690436), (2320, 0.21367203989690436), (2375, 0.21367203989690436), (2385, 0.21367203989690436), (2391, 0.21367203989690436), (2397, 0.21367203989690436), (2402, 0.21367203989690436), (2410, 0.21367203989690436), (2422, 0.21367203989690436), (2434, 0.21367203989690436), (2441, 0.21367203989690436), (2467, 0.21367203989690436), (2488, 0.21367203989690436), (2492, 0.21367203989690436), (2494, 0.21367203989690436), (2509, 0.21367203989690436), (2529, 0.21367203989690436), (2535, 0.21367203989690436), (2553, 0.21367203989690436), (2570, 0.21367203989690436), (2610, 0.21367203989690436), (2633, 0.21367203989690436), (2661, 0.21367203989690436), (2678, 0.21367203989690436), (2687, 0.21367203989690436), (2696, 0.21367203989690436), (2702, 0.21367203989690436), (2744, 0.21367203989690436), (2746, 0.21367203989690436), (2747, 0.21367203989690436), (2748, 0.21367203989690436), (2764, 0.21367203989690436), (2769, 0.21367203989690436), (2776, 0.21367203989690436), (2797, 0.21367203989690436), (2832, 0.21367203989690436), (2834, 0.21367203989690436), (2838, 0.21367203989690436), (2857, 0.21367203989690436), (2872, 0.21367203989690436), (2876, 0.21367203989690436), (2893, 0.21367203989690436), (2924, 0.21367203989690436), (2933, 0.21367203989690436), (2945, 0.21367203989690436), (2999, 0.21367203989690436), (3050, 0.21367203989690436), (3071, 0.21367203989690436), (3137, 0.21367203989690436), (3147, 0.21367203989690436), (3166, 0.21367203989690436), (3178, 0.21367203989690436), (3182, 0.21367203989690436), (3183, 0.21367203989690436), (3194, 0.21367203989690436), (3214, 0.21367203989690436), (3218, 0.21367203989690436), (3220, 0.21367203989690436), (3246, 0.21367203989690436), (3258, 0.21367203989690436), (3271, 0.21367203989690436), (3282, 0.21367203989690436), (3308, 0.21367203989690436), (3315, 0.21367203989690436), (3352, 0.21367203989690436), (3364, 0.21367203989690436), (3388, 0.21367203989690436), (3413, 0.21367203989690436), (3421, 0.21367203989690436), (3447, 0.21367203989690436), (3449, 0.21367203989690436), (3477, 0.21367203989690436), (3479, 0.21367203989690436), (3493, 0.21367203989690436), (3496, 0.21367203989690436), (3500, 0.21367203989690436), (3526, 0.21367203989690436), (3541, 0.21367203989690436), (3552, 0.21367203989690436), (3599, 0.21367203989690436), (3601, 0.21367203989690436), (3626, 0.21367203989690436), (3646, 0.21367203989690436), (3678, 0.21367203989690436), (3767, 0.21367203989690436), (3792, 0.21367203989690436), (3839, 0.21367203989690436), (3866, 0.21367203989690436), (3868, 0.21367203989690436), (3875, 0.21367203989690436), (3882, 0.21367203989690436), (3952, 0.21367203989690436), (4025, 0.21367203989690436), (4051, 0.21367203989690436), (4104, 0.21367203989690436), (4117, 0.21367203989690436), (4156, 0.21367203989690436), (4222, 0.21367203989690436), (4295, 0.21367203989690436), (4311, 0.21367203989690436), (4321, 0.21367203989690436), (4422, 0.21367203989690436), (4652, 0.21367203989690436), (4719, 0.21367203989690436), (44, 0.21334254781553041), (442, 0.21334254781553041), (470, 0.21334254781553041), (670, 0.21334254781553041), (688, 0.21334254781553041), (728, 0.21334254781553041), (845, 0.21334254781553041), (868, 0.21334254781553041), (1174, 0.21334254781553041), (1257, 0.21334254781553041), (1442, 0.21334254781553041), (1454, 0.21334254781553041), (1484, 0.21334254781553041), (1876, 0.21334254781553041), (2088, 0.21334254781553041), (2188, 0.21334254781553041), (2459, 0.21334254781553041), (2778, 0.21334254781553041), (2840, 0.21334254781553041), (2854, 0.21334254781553041), (3227, 0.21334254781553041), (3556, 0.21334254781553041), (3680, 0.21334254781553041), (3771, 0.21334254781553041), (4005, 0.21334254781553041), (4038, 0.21334254781553041), (4098, 0.21334254781553041), (4249, 0.21334254781553041), (4430, 0.21334254781553041), (4432, 0.21334254781553041), (4443, 0.21334254781553041), (4444, 0.21334254781553041), (4661, 0.21334254781553041), (10, 0.2127298244224796), (143, 0.2127298244224796), (1076, 0.2127298244224796), (1393, 0.2127298244224796), (1504, 0.2127298244224796), (1540, 0.2127298244224796), (2184, 0.2127298244224796), (2815, 0.2127298244224796), (4045, 0.2127298244224796), (4122, 0.2127298244224796), (4390, 0.2127298244224796), (4656, 0.2127298244224796), (4727, 0.2127298244224796), (344, 0.21217237425775026), (383, 0.21217237425775026), (459, 0.21217237425775026), (1222, 0.21217237425775026), (1235, 0.21217237425775026), (1268, 0.21217237425775026), (1487, 0.21217237425775026), (1520, 0.21217237425775026), (1557, 0.21217237425775026), (1676, 0.21217237425775026), (1695, 0.21217237425775026), (1766, 0.21217237425775026), (1839, 0.21217237425775026), (1842, 0.21217237425775026), (1850, 0.21217237425775026), (2046, 0.21217237425775026), (2261, 0.21217237425775026), (2262, 0.21217237425775026), (2281, 0.21217237425775026), (2290, 0.21217237425775026), (2327, 0.21217237425775026), (2351, 0.21217237425775026), (2435, 0.21217237425775026), (2449, 0.21217237425775026), (2604, 0.21217237425775026), (2637, 0.21217237425775026), (2656, 0.21217237425775026), (2799, 0.21217237425775026), (2814, 0.21217237425775026), (2873, 0.21217237425775026), (3033, 0.21217237425775026), (3066, 0.21217237425775026), (3204, 0.21217237425775026), (3212, 0.21217237425775026), (3236, 0.21217237425775026), (3581, 0.21217237425775026), (3610, 0.21217237425775026), (3796, 0.21217237425775026), (3858, 0.21217237425775026), (4031, 0.21217237425775026), (4190, 0.21217237425775026), (4314, 0.21217237425775026), (4675, 0.21217237425775026), (4711, 0.21217237425775026), (434, 0.21074399733771343), (887, 0.21074399733771343), (1043, 0.21074399733771343), (1176, 0.21074399733771343), (2437, 0.21074399733771343), (3093, 0.21074399733771343), (3353, 0.21074399733771343), (3355, 0.21074399733771343), (3880, 0.21074399733771343), (3983, 0.21074399733771343), (4611, 0.21074399733771343), (182, 0.21005954815727962), (594, 0.21005954815727962), (2569, 0.21005954815727962), (687, 0.2076477437384297), (690, 0.2076477437384297), (996, 0.2076477437384297), (1941, 0.2076477437384297), (2012, 0.2076477437384297), (2468, 0.2076477437384297), (2626, 0.2076477437384297), (2787, 0.2076477437384297), (2820, 0.2076477437384297), (3443, 0.2076477437384297), (3715, 0.2076477437384297), (255, 0.20646087669626856), (356, 0.20646087669626856), (406, 0.20646087669626856), (930, 0.20646087669626856), (1421, 0.20646087669626856), (1472, 0.20646087669626856), (1845, 0.20646087669626856), (1866, 0.20646087669626856), (4309, 0.20646087669626856), (479, 0.20640370828286508), (757, 0.20640370828286508), (939, 0.20640370828286508), (1078, 0.20640370828286508), (1234, 0.20640370828286508), (1582, 0.20640370828286508), (1861, 0.20640370828286508), (1923, 0.20640370828286508), (2076, 0.20640370828286508), (2264, 0.20640370828286508), (2464, 0.20640370828286508), (2546, 0.20640370828286508), (3155, 0.20640370828286508), (3382, 0.20640370828286508), (3418, 0.20640370828286508), (3941, 0.20640370828286508), (3984, 0.20640370828286508), (3992, 0.20640370828286508), (4203, 0.20640370828286508), (4246, 0.20640370828286508), (4610, 0.20640370828286508), (141, 0.20524948037726476), (822, 0.20524948037726476), (1278, 0.20524948037726476), (1652, 0.20524948037726476), (2297, 0.20524948037726476), (3102, 0.20524948037726476), (3162, 0.20524948037726476), (3632, 0.20524948037726476), (3732, 0.20524948037726476), (929, 0.2043730059077291), (1023, 0.2043730059077291), (1122, 0.2043730059077291), (1977, 0.2043730059077291), (2943, 0.2043730059077291), (3165, 0.2043730059077291), (3560, 0.2043730059077291), (4342, 0.20404580523950128), (4372, 0.20404580523950128), (3342, 0.2031964677873505), (3638, 0.2031964677873505), (4533, 0.2031964677873505), (4514, 0.20128653333857838), (41, 0.20120513053238143), (119, 0.20120513053238143), (292, 0.20120513053238143), (1254, 0.20120513053238143), (1301, 0.20120513053238143), (1936, 0.20120513053238143), (2034, 0.20120513053238143), (2127, 0.20120513053238143), (2356, 0.20120513053238143), (2640, 0.20120513053238143), (2707, 0.20120513053238143), (2826, 0.20120513053238143), (2895, 0.20120513053238143), (2937, 0.20120513053238143), (3206, 0.20120513053238143), (3419, 0.20120513053238143), (3917, 0.20120513053238143), (4130, 0.20120513053238143), (4142, 0.20120513053238143), (4550, 0.20120513053238143), (4589, 0.20120513053238143), (18, 0.19988184891204105), (21, 0.19988184891204105), (112, 0.19988184891204105), (124, 0.19988184891204105), (149, 0.19988184891204105), (166, 0.19988184891204105), (190, 0.19988184891204105), (199, 0.19988184891204105), (276, 0.19988184891204105), (370, 0.19988184891204105), (447, 0.19988184891204105), (450, 0.19988184891204105), (463, 0.19988184891204105), (481, 0.19988184891204105), (502, 0.19988184891204105), (543, 0.19988184891204105), (584, 0.19988184891204105), (604, 0.19988184891204105), (643, 0.19988184891204105), (675, 0.19988184891204105), (799, 0.19988184891204105), (829, 0.19988184891204105), (853, 0.19988184891204105), (860, 0.19988184891204105), (876, 0.19988184891204105), (888, 0.19988184891204105), (942, 0.19988184891204105), (989, 0.19988184891204105), (1107, 0.19988184891204105), (1132, 0.19988184891204105), (1148, 0.19988184891204105), (1275, 0.19988184891204105), (1481, 0.19988184891204105), (1621, 0.19988184891204105), (1739, 0.19988184891204105), (1967, 0.19988184891204105), (1997, 0.19988184891204105), (2037, 0.19988184891204105), (2053, 0.19988184891204105), (2070, 0.19988184891204105), (2096, 0.19988184891204105), (2154, 0.19988184891204105), (2174, 0.19988184891204105), (2196, 0.19988184891204105), (2214, 0.19988184891204105), (2216, 0.19988184891204105), (2334, 0.19988184891204105), (2406, 0.19988184891204105), (2447, 0.19988184891204105), (2602, 0.19988184891204105), (2621, 0.19988184891204105), (2692, 0.19988184891204105), (2784, 0.19988184891204105), (2808, 0.19988184891204105), (2919, 0.19988184891204105), (2961, 0.19988184891204105), (3012, 0.19988184891204105), (3019, 0.19988184891204105), (3043, 0.19988184891204105), (3154, 0.19988184891204105), (3370, 0.19988184891204105), (3483, 0.19988184891204105), (3640, 0.19988184891204105), (3675, 0.19988184891204105), (3699, 0.19988184891204105), (3756, 0.19988184891204105), (3766, 0.19988184891204105), (3777, 0.19988184891204105), (3801, 0.19988184891204105), (3819, 0.19988184891204105), (3854, 0.19988184891204105), (3883, 0.19988184891204105), (3959, 0.19988184891204105), (3961, 0.19988184891204105), (4000, 0.19988184891204105), (4004, 0.19988184891204105), (4123, 0.19988184891204105), (4124, 0.19988184891204105), (4178, 0.19988184891204105), (4231, 0.19988184891204105), (4242, 0.19988184891204105), (4374, 0.19988184891204105), (4387, 0.19988184891204105), (4474, 0.19988184891204105), (4475, 0.19988184891204105), (4531, 0.19988184891204105), (4658, 0.19988184891204105), (4669, 0.19988184891204105), (4679, 0.19988184891204105), (4724, 0.19988184891204105), (4735, 0.19988184891204105), (3424, 0.19935029151007058), (3603, 0.19935029151007058), (4012, 0.19935029151007058), (123, 0.19798548187326334), (683, 0.19798548187326334), (994, 0.19798548187326334), (1005, 0.19798548187326334), (1290, 0.19798548187326334), (1338, 0.19798548187326334), (1527, 0.19798548187326334), (1736, 0.19798548187326334), (2625, 0.19798548187326334), (3306, 0.19798548187326334), (4033, 0.19798548187326334), (4435, 0.19798548187326334), (4477, 0.19798548187326334), (4619, 0.19798548187326334), (4739, 0.19798548187326334), (351, 0.19753585811974075), (824, 0.19753585811974075), (1088, 0.19753585811974075), (1251, 0.19753585811974075), (2099, 0.19753585811974075), (2199, 0.19753585811974075), (2223, 0.19753585811974075), (2379, 0.19753585811974075), (2423, 0.19753585811974075), (2591, 0.19753585811974075), (2592, 0.19753585811974075), (2721, 0.19753585811974075), (2741, 0.19753585811974075), (2782, 0.19753585811974075), (2972, 0.19753585811974075), (3187, 0.19753585811974075), (3234, 0.19753585811974075), (3673, 0.19753585811974075), (3763, 0.19753585811974075), (3822, 0.19753585811974075), (3892, 0.19753585811974075), (4259, 0.19753585811974075), (4756, 0.19753585811974075), (2120, 0.19736172457054024), (122, 0.1969661167063339), (162, 0.1969661167063339), (230, 0.1969661167063339), (1172, 0.1969661167063339), (1253, 0.1969661167063339), (1512, 0.1969661167063339), (2513, 0.1969661167063339), (2864, 0.1969661167063339), (59, 0.19640698058975117), (956, 0.19640698058975117), (965, 0.19640698058975117), (1244, 0.19640698058975117), (1293, 0.19640698058975117), (1321, 0.19640698058975117), (1326, 0.19640698058975117), (1379, 0.19640698058975117), (1437, 0.19640698058975117), (1577, 0.19640698058975117), (1611, 0.19640698058975117), (1895, 0.19640698058975117), (2014, 0.19640698058975117), (2164, 0.19640698058975117), (2185, 0.19640698058975117), (2296, 0.19640698058975117), (2298, 0.19640698058975117), (2774, 0.19640698058975117), (3172, 0.19640698058975117), (3630, 0.19640698058975117), (4272, 0.19640698058975117), (4564, 0.19640698058975117), (921, 0.19540171025097797), (2287, 0.19540171025097797), (2740, 0.19540171025097797), (3327, 0.19540171025097797), (3546, 0.19540171025097797), (3826, 0.19540171025097797), (4418, 0.19540171025097797), (667, 0.19517555718333535), (678, 0.19517555718333535), (916, 0.19517555718333535), (931, 0.19517555718333535), (1047, 0.19517555718333535), (1300, 0.19517555718333535), (1542, 0.19517555718333535), (1694, 0.19517555718333535), (2336, 0.19517555718333535), (2727, 0.19517555718333535), (2939, 0.19517555718333535), (3652, 0.19517555718333535), (3674, 0.19517555718333535), (2165, 0.19467661522251908), (3617, 0.19467661522251908), (4253, 0.19467661522251908), (2562, 0.19425280572903936), (3121, 0.19425280572903936), (3726, 0.19425280572903936), (4194, 0.19425280572903936), (4405, 0.19425280572903936), (350, 0.1938689788988469), (3514, 0.1938689788988469), (3161, 0.1934558803755526), (38, 0.19340884651239243), (40, 0.19340884651239243), (139, 0.19340884651239243), (494, 0.19340884651239243), (869, 0.19340884651239243), (1214, 0.19340884651239243), (1544, 0.19340884651239243), (1721, 0.19340884651239243), (1735, 0.19340884651239243), (1847, 0.19340884651239243), (1973, 0.19340884651239243), (2077, 0.19340884651239243), (2363, 0.19340884651239243), (2424, 0.19340884651239243), (2581, 0.19340884651239243), (2600, 0.19340884651239243), (2825, 0.19340884651239243), (2913, 0.19340884651239243), (2962, 0.19340884651239243), (2971, 0.19340884651239243), (3192, 0.19340884651239243), (3259, 0.19340884651239243), (3531, 0.19340884651239243), (3658, 0.19340884651239243), (4093, 0.19340884651239243), (4094, 0.19340884651239243), (4233, 0.19340884651239243), (4440, 0.19340884651239243), (4486, 0.19340884651239243), (408, 0.19244869012521884), (547, 0.19244869012521884), (1053, 0.19244869012521884), (1858, 0.19244869012521884), (2489, 0.19244869012521884), (3407, 0.19244869012521884), (4060, 0.19244869012521884), (204, 0.19191282431805867), (957, 0.19191282431805867), (1392, 0.19191282431805867), (2411, 0.19191282431805867), (1126, 0.1909979969371496), (1883, 0.1909979969371496), (2249, 0.1909979969371496), (2472, 0.1909979969371496), (3598, 0.1909979969371496), (646, 0.19092778217430117), (2595, 0.19092778217430117), (118, 0.1907625515580349), (284, 0.1907625515580349), (288, 0.1907625515580349), (289, 0.1907625515580349), (290, 0.1907625515580349), (294, 0.1907625515580349), (295, 0.1907625515580349), (305, 0.1907625515580349), (306, 0.1907625515580349), (310, 0.1907625515580349), (315, 0.1907625515580349), (316, 0.1907625515580349), (320, 0.1907625515580349), (321, 0.1907625515580349), (322, 0.1907625515580349), (323, 0.1907625515580349), (327, 0.1907625515580349), (424, 0.1907625515580349), (425, 0.1907625515580349), (426, 0.1907625515580349), (540, 0.1907625515580349), (550, 0.1907625515580349), (919, 0.1907625515580349), (1012, 0.1907625515580349), (1210, 0.1907625515580349), (1266, 0.1907625515580349), (1380, 0.1907625515580349), (1458, 0.1907625515580349), (1713, 0.1907625515580349), (1809, 0.1907625515580349), (1846, 0.1907625515580349), (1901, 0.1907625515580349), (2013, 0.1907625515580349), (2015, 0.1907625515580349), (2506, 0.1907625515580349), (2960, 0.1907625515580349), (3124, 0.1907625515580349), (3129, 0.1907625515580349), (3135, 0.1907625515580349), (3136, 0.1907625515580349), (3156, 0.1907625515580349), (3163, 0.1907625515580349), (3215, 0.1907625515580349), (3448, 0.1907625515580349), (3486, 0.1907625515580349), (3520, 0.1907625515580349), (3555, 0.1907625515580349), (3782, 0.1907625515580349), (4103, 0.1907625515580349), (4211, 0.1907625515580349), (4703, 0.1907625515580349), (699, 0.1888980365346182), (2956, 0.1888980365346182), (3566, 0.1888980365346182), (3698, 0.1888980365346182), (1489, 0.18866151093005856), (86, 0.1882373900552627), (474, 0.1882373900552627), (1585, 0.1882373900552627), (1806, 0.1882373900552627), (1816, 0.1882373900552627), (2026, 0.1882373900552627), (2519, 0.1882373900552627), (2897, 0.1882373900552627), (88, 0.18801199496671236), (170, 0.18801199496671236), (244, 0.18801199496671236), (435, 0.18801199496671236), (500, 0.18801199496671236), (560, 0.18801199496671236), (621, 0.18801199496671236), (668, 0.18801199496671236), (682, 0.18801199496671236), (753, 0.18801199496671236), (825, 0.18801199496671236), (827, 0.18801199496671236), (928, 0.18801199496671236), (1054, 0.18801199496671236), (1092, 0.18801199496671236), (1162, 0.18801199496671236), (1226, 0.18801199496671236), (1259, 0.18801199496671236), (1276, 0.18801199496671236), (1406, 0.18801199496671236), (1419, 0.18801199496671236), (1455, 0.18801199496671236), (1591, 0.18801199496671236), (1681, 0.18801199496671236), (1815, 0.18801199496671236), (1937, 0.18801199496671236), (2206, 0.18801199496671236), (2275, 0.18801199496671236), (2276, 0.18801199496671236), (2383, 0.18801199496671236), (2429, 0.18801199496671236), (2742, 0.18801199496671236), (2751, 0.18801199496671236), (2788, 0.18801199496671236), (2791, 0.18801199496671236), (2918, 0.18801199496671236), (2963, 0.18801199496671236), (3085, 0.18801199496671236), (3312, 0.18801199496671236), (3384, 0.18801199496671236), (3465, 0.18801199496671236), (3466, 0.18801199496671236), (3507, 0.18801199496671236), (3708, 0.18801199496671236), (3741, 0.18801199496671236), (3794, 0.18801199496671236), (3860, 0.18801199496671236), (3946, 0.18801199496671236), (3993, 0.18801199496671236), (4088, 0.18801199496671236), (4148, 0.18801199496671236), (4436, 0.18801199496671236), (4450, 0.18801199496671236), (4481, 0.18801199496671236), (4543, 0.18801199496671236), (4553, 0.18801199496671236), (4684, 0.18801199496671236), (4709, 0.18801199496671236), (4747, 0.18801199496671236), (2399, 0.18706443648402102), (797, 0.18681342915535734), (1473, 0.18681342915535734), (2200, 0.18681342915535734), (4562, 0.18681342915535734), (2810, 0.1860556669750174), (3221, 0.1860556669750174), (3554, 0.1860556669750174), (4447, 0.1860556669750174), (384, 0.18589533517052562), (1399, 0.18589533517052562), (1194, 0.18575344471023097), (1231, 0.18575344471023097), (1738, 0.18575344471023097), (663, 0.1857374674196088), (812, 0.1857374674196088), (1055, 0.1857374674196088), (1101, 0.1857374674196088), (1584, 0.1857374674196088), (2578, 0.1857374674196088), (3047, 0.1857374674196088), (3201, 0.1857374674196088), (3294, 0.1857374674196088), (3305, 0.1857374674196088), (3625, 0.1857374674196088), (4406, 0.1857374674196088), (4547, 0.1857374674196088), (4714, 0.1857374674196088), (228, 0.18541840616202804), (330, 0.18541840616202804), (348, 0.18541840616202804), (372, 0.18541840616202804), (400, 0.18541840616202804), (593, 0.18541840616202804), (596, 0.18541840616202804), (598, 0.18541840616202804), (626, 0.18541840616202804), (721, 0.18541840616202804), (722, 0.18541840616202804), (798, 0.18541840616202804), (850, 0.18541840616202804), (858, 0.18541840616202804), (1209, 0.18541840616202804), (1306, 0.18541840616202804), (1349, 0.18541840616202804), (1580, 0.18541840616202804), (1703, 0.18541840616202804), (1780, 0.18541840616202804), (1808, 0.18541840616202804), (1884, 0.18541840616202804), (1969, 0.18541840616202804), (2251, 0.18541840616202804), (2347, 0.18541840616202804), (2563, 0.18541840616202804), (2611, 0.18541840616202804), (2800, 0.18541840616202804), (2868, 0.18541840616202804), (2977, 0.18541840616202804), (3028, 0.18541840616202804), (3046, 0.18541840616202804), (3301, 0.18541840616202804), (3379, 0.18541840616202804), (3399, 0.18541840616202804), (3590, 0.18541840616202804), (3725, 0.18541840616202804), (3751, 0.18541840616202804), (3784, 0.18541840616202804), (3951, 0.18541840616202804), (4069, 0.18541840616202804), (4137, 0.18541840616202804), (4247, 0.18541840616202804), (4400, 0.18541840616202804), (4504, 0.18541840616202804), (4520, 0.18541840616202804), (4563, 0.18541840616202804), (4640, 0.18541840616202804), (2301, 0.18520043763274927), (2390, 0.18520043763274927), (3111, 0.18520043763274927), (4718, 0.18520043763274927), (495, 0.18509024450008768), (3174, 0.18509024450008768), (1232, 0.18360206281765407), (2925, 0.18360206281765407), (1236, 0.1832510650139689), (349, 0.18318653706158564), (551, 0.18318653706158564), (578, 0.18318653706158564), (616, 0.18318653706158564), (818, 0.18318653706158564), (962, 0.18318653706158564), (1710, 0.18318653706158564), (1717, 0.18318653706158564), (2438, 0.18318653706158564), (2469, 0.18318653706158564), (2526, 0.18318653706158564), (2534, 0.18318653706158564), (2538, 0.18318653706158564), (2845, 0.18318653706158564), (2965, 0.18318653706158564), (3264, 0.18318653706158564), (3639, 0.18318653706158564), (3677, 0.18318653706158564), (3778, 0.18318653706158564), (3902, 0.18318653706158564), (3920, 0.18318653706158564), (4002, 0.18318653706158564), (4151, 0.18318653706158564), (4205, 0.18318653706158564), (4286, 0.18318653706158564), (4298, 0.18318653706158564), (4368, 0.18318653706158564), (4511, 0.18318653706158564), (457, 0.18283329503758616), (641, 0.18283329503758616), (1206, 0.18283329503758616), (2473, 0.18283329503758616), (2887, 0.18283329503758616), (3360, 0.18283329503758616), (4160, 0.18283329503758616), (4501, 0.18283329503758616), (4071, 0.18278823681338371), (1065, 0.18216834915607483), (1513, 0.18212907547984997), (1727, 0.18212907547984997), (3097, 0.18212907547984997), (3267, 0.18212907547984997), (4293, 0.18212907547984997), (1482, 0.1814382125902643), (1523, 0.1814382125902643), (2331, 0.1814382125902643), (2582, 0.1814382125902643), (3078, 0.1814382125902643), (3189, 0.1814382125902643), (3753, 0.1814382125902643), (4483, 0.1814382125902643), (4599, 0.1814382125902643), (2033, 0.18133459574498262), (3310, 0.18133459574498262), (3377, 0.18095696907039935), (71, 0.18054255827284174), (355, 0.18054255827284174), (2102, 0.18054255827284174), (2848, 0.18054255827284174), (3184, 0.18054255827284174), (4011, 0.18054255827284174), (4566, 0.18054255827284174), (4114, 0.1805029414342529), (120, 0.1804074176607162), (1408, 0.18011165763719447), (2755, 0.18011165763719447), (208, 0.1799141799143406), (519, 0.1799141799143406), (716, 0.1799141799143406), (911, 0.1799141799143406), (1001, 0.1799141799143406), (1179, 0.1799141799143406), (1225, 0.1799141799143406), (1675, 0.1799141799143406), (1931, 0.1799141799143406), (1934, 0.1799141799143406), (2045, 0.1799141799143406), (2427, 0.1799141799143406), (2428, 0.1799141799143406), (2555, 0.1799141799143406), (2647, 0.1799141799143406), (3065, 0.1799141799143406), (3635, 0.1799141799143406), (117, 0.1796351612139294), (2517, 0.1796351612139294), (3948, 0.1796351612139294), (539, 0.1795462471334448), (1945, 0.1795462471334448), (3597, 0.1795462471334448), (4289, 0.1795462471334448), (319, 0.17954333027699856), (521, 0.17954333027699856), (972, 0.17954333027699856), (1156, 0.17954333027699856), (1447, 0.17954333027699856), (1491, 0.17954333027699856), (1596, 0.17954333027699856), (2145, 0.17954333027699856), (2157, 0.17954333027699856), (2222, 0.17954333027699856), (2225, 0.17954333027699856), (2395, 0.17954333027699856), (2514, 0.17954333027699856), (2586, 0.17954333027699856), (2665, 0.17954333027699856), (3265, 0.17954333027699856), (3319, 0.17954333027699856), (3649, 0.17954333027699856), (4026, 0.17954333027699856), (4433, 0.17954333027699856), (1889, 0.17921070980453913), (1961, 0.17921070980453913), (2050, 0.17921070980453913), (2364, 0.17921070980453913), (2615, 0.17921070980453913), (2763, 0.17921070980453913), (1302, 0.1785843769739387), (1881, 0.1785843769739387), (2992, 0.1785843769739387), (3168, 0.1785843769739387), (247, 0.17834748406464046), (3587, 0.17834748406464046), (133, 0.17827649483640134), (462, 0.17827649483640134), (486, 0.17827649483640134), (573, 0.17827649483640134), (575, 0.17827649483640134), (704, 0.17827649483640134), (718, 0.17827649483640134), (1086, 0.17827649483640134), (1147, 0.17827649483640134), (1972, 0.17827649483640134), (2175, 0.17827649483640134), (2220, 0.17827649483640134), (2244, 0.17827649483640134), (2247, 0.17827649483640134), (2341, 0.17827649483640134), (2342, 0.17827649483640134), (2343, 0.17827649483640134), (2345, 0.17827649483640134), (2471, 0.17827649483640134), (2627, 0.17827649483640134), (2658, 0.17827649483640134), (2762, 0.17827649483640134), (2869, 0.17827649483640134), (2905, 0.17827649483640134), (3006, 0.17827649483640134), (3029, 0.17827649483640134), (3107, 0.17827649483640134), (3176, 0.17827649483640134), (3222, 0.17827649483640134), (3251, 0.17827649483640134), (3261, 0.17827649483640134), (3333, 0.17827649483640134), (3345, 0.17827649483640134), (3356, 0.17827649483640134), (3420, 0.17827649483640134), (3573, 0.17827649483640134), (3663, 0.17827649483640134), (3717, 0.17827649483640134), (3750, 0.17827649483640134), (3760, 0.17827649483640134), (3825, 0.17827649483640134), (3830, 0.17827649483640134), (3838, 0.17827649483640134), (3887, 0.17827649483640134), (3891, 0.17827649483640134), (3918, 0.17827649483640134), (3929, 0.17827649483640134), (3981, 0.17827649483640134), (4057, 0.17827649483640134), (4065, 0.17827649483640134), (4067, 0.17827649483640134), (4072, 0.17827649483640134), (4201, 0.17827649483640134), (4212, 0.17827649483640134), (4215, 0.17827649483640134), (4415, 0.17827649483640134), (4417, 0.17827649483640134), (4424, 0.17827649483640134), (4425, 0.17827649483640134), (4508, 0.17827649483640134), (4541, 0.17827649483640134), (4561, 0.17827649483640134), (4578, 0.17827649483640134), (4644, 0.17827649483640134), (4671, 0.17827649483640134), (4681, 0.17827649483640134), (4728, 0.17827649483640134), (4759, 0.17827649483640134), (1317, 0.17779115090104997), (1821, 0.17779115090104997), (4442, 0.17779115090104997), (48, 0.17760120000590948), (68, 0.17760120000590948), (210, 0.17760120000590948), (458, 0.17760120000590948), (533, 0.17760120000590948), (534, 0.17760120000590948), (653, 0.17760120000590948), (669, 0.17760120000590948), (673, 0.17760120000590948), (866, 0.17760120000590948), (878, 0.17760120000590948), (947, 0.17760120000590948), (1000, 0.17760120000590948), (1015, 0.17760120000590948), (1035, 0.17760120000590948), (1141, 0.17760120000590948), (1183, 0.17760120000590948), (1335, 0.17760120000590948), (1369, 0.17760120000590948), (1377, 0.17760120000590948), (1417, 0.17760120000590948), (1478, 0.17760120000590948), (1483, 0.17760120000590948), (1678, 0.17760120000590948), (1680, 0.17760120000590948), (1687, 0.17760120000590948), (1740, 0.17760120000590948), (1853, 0.17760120000590948), (2024, 0.17760120000590948), (2040, 0.17760120000590948), (2224, 0.17760120000590948), (2645, 0.17760120000590948), (2668, 0.17760120000590948), (2697, 0.17760120000590948), (2768, 0.17760120000590948), (2795, 0.17760120000590948), (2903, 0.17760120000590948), (2908, 0.17760120000590948), (3210, 0.17760120000590948), (3275, 0.17760120000590948), (3450, 0.17760120000590948), (3642, 0.17760120000590948), (3660, 0.17760120000590948), (3807, 0.17760120000590948), (3862, 0.17760120000590948), (3978, 0.17760120000590948), (4068, 0.17760120000590948), (4095, 0.17760120000590948), (4116, 0.17760120000590948), (4244, 0.17760120000590948), (4673, 0.17760120000590948), (538, 0.17705187085568813), (736, 0.17705187085568813), (1190, 0.17705187085568813), (1405, 0.17705187085568813), (1569, 0.17705187085568813), (2170, 0.17705187085568813), (2807, 0.17705187085568813), (3592, 0.17705187085568813), (3142, 0.17692441278647647), (125, 0.17686427715310316), (332, 0.17686427715310316), (779, 0.17686427715310316), (1332, 0.17686427715310316), (2819, 0.17686427715310316), (3723, 0.17686427715310316), (3512, 0.17658987810052795), (3517, 0.17658987810052795), (793, 0.17645912197637742), (1099, 0.17645912197637742), (1309, 0.17645912197637742), (1587, 0.17645912197637742), (1788, 0.17645912197637742), (1939, 0.17645912197637742), (2208, 0.17645912197637742), (206, 0.17609365346219558), (483, 0.17609365346219558), (3340, 0.17582633419192445), (11, 0.1758138084272764), (12, 0.1758138084272764), (183, 0.1758138084272764), (734, 0.1758138084272764), (1186, 0.1758138084272764), (1730, 0.1758138084272764), (1995, 0.1758138084272764), (2027, 0.1758138084272764), (2134, 0.1758138084272764), (2226, 0.1758138084272764), (2382, 0.1758138084272764), (2505, 0.1758138084272764), (2623, 0.1758138084272764), (3036, 0.1758138084272764), (3285, 0.1758138084272764), (3491, 0.1758138084272764), (3527, 0.1758138084272764), (3569, 0.1758138084272764), (4336, 0.1758138084272764), (4445, 0.1758138084272764), (4528, 0.1758138084272764), (608, 0.1757290144487594), (2512, 0.1756937592668133), (7, 0.17568023955554196), (74, 0.17568023955554196), (378, 0.17568023955554196), (2221, 0.17568023955554196), (2571, 0.17568023955554196), (3542, 0.17568023955554196), (3634, 0.17568023955554196), (3714, 0.17568023955554196), (3873, 0.17568023955554196), (4014, 0.17568023955554196), (4334, 0.17568023955554196), (4391, 0.17568023955554196), (4472, 0.17568023955554196), (4638, 0.17568023955554196), (336, 0.17498023127105605), (586, 0.17498023127105605), (1965, 0.17498023127105605), (63, 0.1744362051356121), (966, 0.1744362051356121), (1324, 0.1744362051356121), (1350, 0.1744362051356121), (1798, 0.1744362051356121), (2237, 0.1744362051356121), (2559, 0.1744362051356121), (3276, 0.1744362051356121), (532, 0.17427525906522467), (904, 0.17427525906522467), (905, 0.17427525906522467), (1024, 0.17427525906522467), (1292, 0.17427525906522467), (1432, 0.17427525906522467), (1781, 0.17427525906522467), (3070, 0.17427525906522467), (3684, 0.17427525906522467), (4121, 0.17427525906522467), (4325, 0.17427525906522467), (1328, 0.1736173899039154), (1522, 0.1736173899039154), (2549, 0.1736173899039154), (2710, 0.1736173899039154), (51, 0.1735718176835706), (1237, 0.1735718176835706), (1248, 0.1735718176835706), (1629, 0.1735718176835706), (1942, 0.1735718176835706), (2607, 0.1735718176835706), (3318, 0.1735718176835706), (238, 0.17317836995467015), (1638, 0.17258547288990617), (2043, 0.17258547288990617), (22, 0.17245912237162841), (427, 0.17245912237162841), (702, 0.17245912237162841), (778, 0.17245912237162841), (2090, 0.17245912237162841), (3063, 0.17245912237162841), (4622, 0.17245912237162841), (2212, 0.17232570200466565), (215, 0.17220362392936364), (707, 0.17220362392936364), (969, 0.17220362392936364), (2478, 0.17220362392936364), (3393, 0.17220362392936364), (4113, 0.17220362392936364), (4636, 0.17220362392936364), (1394, 0.172028974421919), (1690, 0.172028974421919), (1744, 0.172028974421919), (1878, 0.172028974421919), (2367, 0.172028974421919), (2461, 0.172028974421919), (2531, 0.172028974421919), (618, 0.1719139240205309), (3112, 0.1718568826558695), (1989, 0.1716186211765856), (4288, 0.1716186211765856), (946, 0.17128181620178512), (2353, 0.17128181620178512), (3387, 0.1709534148078522), (522, 0.17048983099444134), (3613, 0.17048983099444134), (1061, 0.17046326120544675), (2978, 0.17046326120544675), (1440, 0.17041381168324898), (25, 0.17041131765435466), (1340, 0.17041131765435466), (2087, 0.17041131765435466), (2143, 0.17041131765435466), (2601, 0.17041131765435466), (2912, 0.17041131765435466), (3146, 0.17041131765435466), (3402, 0.17041131765435466), (4394, 0.17041131765435466), (4446, 0.17041131765435466), (4473, 0.17041131765435466), (4603, 0.17041131765435466), (4717, 0.17041131765435466), (2589, 0.17013055490652462), (2967, 0.17013055490652462), (3103, 0.17013055490652462), (1079, 0.1701268348361824), (1598, 0.1701268348361824), (2806, 0.16984747354734622), (9, 0.16976246406511655), (17, 0.16976246406511655), (54, 0.16976246406511655), (55, 0.16976246406511655), (56, 0.16976246406511655), (130, 0.16976246406511655), (231, 0.16976246406511655), (232, 0.16976246406511655), (382, 0.16976246406511655), (568, 0.16976246406511655), (569, 0.16976246406511655), (570, 0.16976246406511655), (592, 0.16976246406511655), (610, 0.16976246406511655), (615, 0.16976246406511655), (954, 0.16976246406511655), (1045, 0.16976246406511655), (1240, 0.16976246406511655), (1258, 0.16976246406511655), (1283, 0.16976246406511655), (1374, 0.16976246406511655), (1386, 0.16976246406511655), (1603, 0.16976246406511655), (2641, 0.16976246406511655), (3454, 0.16976246406511655), (3697, 0.16976246406511655), (3786, 0.16976246406511655), (3979, 0.16976246406511655), (4055, 0.16976246406511655), (4294, 0.16976246406511655), (4509, 0.16976246406511655), (4742, 0.16976246406511655), (487, 0.16932698488111664), (2248, 0.16932698488111664), (3928, 0.16932698488111664), (4301, 0.16932698488111664), (795, 0.16928245462502353), (948, 0.16928245462502353), (13, 0.16905545392949584), (131, 0.16905545392949584), (155, 0.16905545392949584), (168, 0.16905545392949584), (186, 0.16905545392949584), (658, 0.16905545392949584), (789, 0.16905545392949584), (881, 0.16905545392949584), (906, 0.16905545392949584), (1988, 0.16905545392949584), (2022, 0.16905545392949584), (2054, 0.16905545392949584), (2291, 0.16905545392949584), (3053, 0.16905545392949584), (3223, 0.16905545392949584), (4313, 0.16905545392949584), (4499, 0.16905545392949584), (4736, 0.16905545392949584), (389, 0.16860008271632593), (460, 0.16860008271632593), (625, 0.16860008271632593), (877, 0.16860008271632593), (1120, 0.16860008271632593), (1701, 0.16860008271632593), (2326, 0.16860008271632593), (2790, 0.16860008271632593), (3897, 0.16860008271632593), (4339, 0.16860008271632593), (4383, 0.16860008271632593), (4468, 0.16860008271632593), (371, 0.16836133139618215), (590, 0.16836133139618215), (1123, 0.16836133139618215), (3624, 0.16836133139618215), (3960, 0.16836133139618215), (4624, 0.16836133139618215), (60, 0.16827662942372484), (456, 0.16827662942372484), (940, 0.16827662942372484), (1261, 0.16827662942372484), (1533, 0.16827662942372484), (1616, 0.16827662942372484), (2211, 0.16827662942372484), (3577, 0.16827662942372484), (1674, 0.16805970809965937), (180, 0.16781523795155362), (181, 0.16781523795155362), (3525, 0.16757298131363385), (4241, 0.16757298131363385), (188, 0.16754116899167631), (404, 0.16754116899167631), (752, 0.16754116899167631), (781, 0.16754116899167631), (807, 0.16754116899167631), (836, 0.16754116899167631), (1142, 0.16754116899167631), (1155, 0.16754116899167631), (1196, 0.16754116899167631), (1525, 0.16754116899167631), (1684, 0.16754116899167631), (1726, 0.16754116899167631), (1771, 0.16754116899167631), (1913, 0.16754116899167631), (2322, 0.16754116899167631), (2371, 0.16754116899167631), (2456, 0.16754116899167631), (1567, 0.16746902451745543), (1987, 0.16746902451745543), (2444, 0.16746902451745543), (259, 0.16745731587711146), (394, 0.16745731587711146), (440, 0.16745731587711146), (554, 0.16745731587711146), (555, 0.16745731587711146), (561, 0.16745731587711146), (656, 0.16745731587711146), (763, 0.16745731587711146), (1066, 0.16745731587711146), (1651, 0.16745731587711146), (1657, 0.16745731587711146), (3059, 0.16745731587711146), (3368, 0.16745731587711146), (3453, 0.16745731587711146), (3955, 0.16745731587711146), (4100, 0.16745731587711146), (4276, 0.16745731587711146), (4373, 0.16745731587711146), (749, 0.16722337976599042), (2361, 0.16722337976599042), (2378, 0.16722337976599042), (2674, 0.16722337976599042), (2767, 0.16722337976599042), (2969, 0.16722337976599042), (3024, 0.16722337976599042), (3064, 0.16722337976599042), (3365, 0.16722337976599042), (4429, 0.16722337976599042), (4723, 0.16722337976599042), (2, 0.16688456684102382), (423, 0.16688456684102382), (1307, 0.16688456684102382), (1704, 0.16688456684102382), (1720, 0.16688456684102382), (1758, 0.16688456684102382), (1800, 0.16688456684102382), (1820, 0.16688456684102382), (1979, 0.16688456684102382), (2030, 0.16688456684102382), (2135, 0.16688456684102382), (2171, 0.16688456684102382), (2263, 0.16688456684102382), (2267, 0.16688456684102382), (2372, 0.16688456684102382), (2408, 0.16688456684102382), (2462, 0.16688456684102382), (2583, 0.16688456684102382), (2704, 0.16688456684102382), (2719, 0.16688456684102382), (3138, 0.16688456684102382), (3208, 0.16688456684102382), (3457, 0.16688456684102382), (3476, 0.16688456684102382), (3505, 0.16688456684102382), (3631, 0.16688456684102382), (3816, 0.16688456684102382), (3843, 0.16688456684102382), (4146, 0.16688456684102382), (4559, 0.16688456684102382), (4662, 0.16688456684102382), (4036, 0.16649499420601205), (1193, 0.16643723405076966), (2140, 0.16643723405076966), (2179, 0.16643723405076966), (2597, 0.16643723405076966), (3585, 0.16643723405076966), (3764, 0.16643723405076966), (4217, 0.16643723405076966), (1337, 0.16588733972633007), (144, 0.1656283156631621), (2117, 0.16531966069976922), (2530, 0.16531966069976922), (2998, 0.16531966069976922), (3096, 0.16531966069976922), (1732, 0.16528634790942343), (493, 0.16468587191472095), (357, 0.16442800057259013), (416, 0.16442800057259013), (1656, 0.16442800057259013), (1658, 0.16442800057259013), (4448, 0.16442800057259013), (4054, 0.1643187218383764), (3594, 0.16406696535435084), (201, 0.16392864092012), (501, 0.16392864092012), (692, 0.16392864092012), (875, 0.16392864092012), (1063, 0.16392864092012), (1185, 0.16392864092012), (1412, 0.16392864092012), (1436, 0.16392864092012), (1789, 0.16392864092012), (2066, 0.16392864092012), (3849, 0.16392864092012), (403, 0.1638469338912229), (410, 0.1638469338912229), (488, 0.1638469338912229), (564, 0.1638469338912229), (607, 0.1638469338912229), (693, 0.1638469338912229), (857, 0.1638469338912229), (1060, 0.1638469338912229), (1707, 0.1638469338912229), (1946, 0.1638469338912229), (2000, 0.1638469338912229), (2169, 0.1638469338912229), (2614, 0.1638469338912229), (2974, 0.1638469338912229), (4713, 0.1638469338912229), (4177, 0.16345232002143373), (2642, 0.16329942361186256), (4519, 0.163132362785009), (3459, 0.1629440421923251), (3472, 0.1629440421923251), (3846, 0.1629440421923251), (2754, 0.1628754950372654), (153, 0.1626270547630554), (1552, 0.1626270547630554), (1898, 0.1626270547630554), (2381, 0.1626270547630554), (2646, 0.1626270547630554), (879, 0.16258959889448027), (1506, 0.16258959889448027), (75, 0.16241443084404508), (150, 0.16241443084404508), (2177, 0.16241443084404508), (4467, 0.16241443084404508), (4588, 0.16241443084404508), (23, 0.16230082255130962), (221, 0.16230082255130962), (373, 0.16230082255130962), (924, 0.16230082255130962), (1080, 0.16230082255130962), (1605, 0.16230082255130962), (1628, 0.16230082255130962), (2159, 0.16230082255130962), (2313, 0.16230082255130962), (2502, 0.16230082255130962), (2821, 0.16230082255130962), (2878, 0.16230082255130962), (3004, 0.16230082255130962), (3326, 0.16230082255130962), (3667, 0.16230082255130962), (3867, 0.16230082255130962), (3895, 0.16230082255130962), (4594, 0.16230082255130962), (428, 0.1622009727153434), (2474, 0.1622009727153434), (2920, 0.1622009727153434), (715, 0.16198115622103215), (3657, 0.16198115622103215), (4419, 0.16198115622103215), (3564, 0.16136663501755366), (3689, 0.16136663501755366), (4471, 0.16136663501755366), (4704, 0.16136663501755366), (1537, 0.16117746684859438), (1009, 0.16107320053289942), (1215, 0.16107320053289942), (2104, 0.16107320053289942), (31, 0.1609704709142165), (769, 0.1609704709142165), (1433, 0.1609704709142165), (1608, 0.1609704709142165), (2355, 0.1609704709142165), (2724, 0.1609704709142165), (3233, 0.1609704709142165), (3331, 0.1609704709142165), (3452, 0.1609704709142165), (3797, 0.1609704709142165), (3957, 0.1609704709142165), (4344, 0.1609704709142165), (4546, 0.1609704709142165), (4660, 0.1609704709142165), (4670, 0.1609704709142165), (4677, 0.1609704709142165), (792, 0.16049998700314494), (1922, 0.16049998700314494), (3612, 0.16049998700314494), (3924, 0.16049998700314494), (353, 0.1600758704407557), (1357, 0.1600758704407557), (4345, 0.1600758704407557), (1370, 0.16004813903954504), (1683, 0.16004813903954504), (1943, 0.16004813903954504), (2758, 0.16004813903954504), (3728, 0.16004813903954504), (2075, 0.16001186197600625), (1572, 0.15998524422187632), (614, 0.15997503607854072), (3225, 0.15997503607854072), (4015, 0.15997503607854072), (398, 0.15975080290829002), (784, 0.15975080290829002), (786, 0.15975080290829002), (1424, 0.15975080290829002), (1888, 0.15975080290829002), (2107, 0.15975080290829002), (2308, 0.15975080290829002), (4027, 0.15975080290829002), (4198, 0.15975080290829002), (4580, 0.15975080290829002), (1731, 0.15951636834247743), (2006, 0.15951636834247743), (794, 0.15947545827506804), (1114, 0.15947545827506804), (1711, 0.15947545827506804), (990, 0.15944594051168343), (4609, 0.15944594051168343), (1277, 0.159084963446124), (5, 0.1590458722025207), (566, 0.1590458722025207), (2279, 0.1590458722025207), (2934, 0.1590458722025207), (218, 0.15890669165341342), (1175, 0.15890669165341342), (2609, 0.15890669165341342), (2830, 0.15890669165341342), (3492, 0.15890669165341342), (714, 0.15887967697481462), (1868, 0.15885972074779992), (3842, 0.15885972074779992), (4234, 0.15885972074779992), (4700, 0.15885972074779992), (2412, 0.15837813528580952), (179, 0.158286933308987), (277, 0.158286933308987), (297, 0.158286933308987), (298, 0.158286933308987), (299, 0.158286933308987), (300, 0.158286933308987), (340, 0.158286933308987), (713, 0.158286933308987), (724, 0.158286933308987), (1067, 0.158286933308987), (1581, 0.158286933308987), (1932, 0.158286933308987), (2100, 0.158286933308987), (2198, 0.158286933308987), (2259, 0.158286933308987), (3058, 0.158286933308987), (3695, 0.158286933308987), (3785, 0.158286933308987), (4338, 0.158286933308987), (4478, 0.158286933308987), (4482, 0.158286933308987), (4569, 0.158286933308987), (1320, 0.15782931259241584), (3464, 0.15782931259241584), (4555, 0.15765968564678318), (1486, 0.15753144883899753), (1592, 0.15753144883899753), (2021, 0.15753144883899753), (2058, 0.15753144883899753), (2217, 0.15753144883899753), (3270, 0.15753144883899753), (3323, 0.15753144883899753), (3595, 0.15753144883899753), (3998, 0.15753144883899753), (4453, 0.15753144883899753), (4725, 0.15753144883899753), (3044, 0.15733664776568307), (178, 0.157106659342765), (343, 0.157106659342765), (407, 0.157106659342765), (783, 0.157106659342765), (796, 0.157106659342765), (1950, 0.157106659342765), (2550, 0.157106659342765), (2779, 0.157106659342765), (2802, 0.157106659342765), (3314, 0.157106659342765), (3835, 0.157106659342765), (14, 0.15705434830692433), (245, 0.15705434830692433), (391, 0.15705434830692433), (392, 0.15705434830692433), (1008, 0.15705434830692433), (1025, 0.15705434830692433), (1166, 0.15705434830692433), (1291, 0.15705434830692433), (1336, 0.15705434830692433), (1496, 0.15705434830692433), (1524, 0.15705434830692433), (1602, 0.15705434830692433), (1769, 0.15705434830692433), (1837, 0.15705434830692433), (2041, 0.15705434830692433), (2516, 0.15705434830692433), (2781, 0.15705434830692433), (3256, 0.15705434830692433), (3481, 0.15705434830692433), (3485, 0.15705434830692433), (3562, 0.15705434830692433), (3633, 0.15705434830692433), (3671, 0.15705434830692433), (3943, 0.15705434830692433), (4010, 0.15705434830692433), (4173, 0.15705434830692433), (4207, 0.15705434830692433), (15, 0.15701132929716982), (2995, 0.15701132929716982), (3298, 0.15701132929716982), (4139, 0.15701132929716982), (1385, 0.1568900812783303), (2522, 0.1568900812783303), (345, 0.15642294254545064), (4118, 0.15642294254545064), (4730, 0.15641340118817826), (635, 0.15638137845368744), (639, 0.15638137845368744), (640, 0.15638137845368744), (2847, 0.15638137845368744), (1397, 0.1561916039581426), (4144, 0.15597533766970276), (2554, 0.15574791687216946), (286, 0.15565383072173278), (1514, 0.15565383072173278), (79, 0.15556111940819456), (283, 0.15556111940819456), (364, 0.15556111940819456), (4152, 0.15556111940819456), (4401, 0.15556111940819456), (4535, 0.15556111940819456), (385, 0.1549811727109237), (2085, 0.1549246217010863), (2239, 0.1549246217010863), (2243, 0.1549246217010863), (3703, 0.1549246217010863), (657, 0.15488082688264518), (2593, 0.15488082688264518), (3081, 0.15488082688264518), (3416, 0.1548553048474496), (1984, 0.15469911664906746), (3776, 0.15466489063003183), (4586, 0.15466489063003183), (417, 0.15458314284969976), (418, 0.15458314284969976), (842, 0.15458314284969976), (1115, 0.15458314284969976), (1173, 0.15458314284969976), (2093, 0.15458314284969976), (3232, 0.15458314284969976), (3582, 0.15458314284969976), (76, 0.1545739341962048), (102, 0.1545739341962048), (128, 0.1545739341962048), (135, 0.1545739341962048), (220, 0.1545739341962048), (762, 0.1545739341962048), (891, 0.1545739341962048), (992, 0.1545739341962048), (997, 0.1545739341962048), (1154, 0.1545739341962048), (1164, 0.1545739341962048), (1281, 0.1545739341962048), (1502, 0.1545739341962048), (1546, 0.1545739341962048), (1696, 0.1545739341962048), (1799, 0.1545739341962048), (1976, 0.1545739341962048), (2078, 0.1545739341962048), (2232, 0.1545739341962048), (2622, 0.1545739341962048), (2689, 0.1545739341962048), (2711, 0.1545739341962048), (3022, 0.1545739341962048), (3247, 0.1545739341962048), (3468, 0.1545739341962048), (3605, 0.1545739341962048), (3850, 0.1545739341962048), (3908, 0.1545739341962048), (4312, 0.1545739341962048), (1199, 0.15451462286389786), (266, 0.15438988739314974), (4591, 0.15438988739314974), (4733, 0.15438988739314974), (545, 0.15331147666645295), (1022, 0.15331147666645295), (2605, 0.15331147666645295), (2804, 0.15331147666645295), (3231, 0.15331147666645295), (4136, 0.15327296537132015), (113, 0.15321590925339446), (197, 0.15321590925339446), (2240, 0.15321590925339446), (2986, 0.15321590925339446), (3304, 0.15321590925339446), (3575, 0.15321590925339446), (3845, 0.15321590925339446), (4263, 0.15321590925339446), (4287, 0.15321590925339446), (2940, 0.15294688844155988), (2081, 0.1529021086539633), (2499, 0.1529021086539633), (1346, 0.15274380487462272), (3545, 0.15266015097062127), (3650, 0.15266015097062127), (1159, 0.15222821093710617), (3091, 0.1519230177426743), (4516, 0.1519230177426743), (3180, 0.15189547842597392), (549, 0.15187913099767555), (2358, 0.15187913099767555), (3144, 0.15187913099767555), (367, 0.1518727085783134), (369, 0.1518727085783134), (644, 0.15154087605129363), (851, 0.1515182652776275), (328, 0.15114312619742118), (859, 0.15111978239258064), (1610, 0.15111978239258064), (1804, 0.15111978239258064), (2335, 0.15111978239258064), (4269, 0.15109847779958785), (1797, 0.15106683376621993), (237, 0.15090544378417653), (650, 0.15090544378417653), (3503, 0.15083220222288185), (4066, 0.15083220222288185), (4135, 0.15083220222288185), (27, 0.15058129145324556), (4076, 0.15058129145324556), (4466, 0.15058129145324556), (4237, 0.15001965620532592), (4324, 0.15001965620532592), (53, 0.14982545591371832), (401, 0.14982545591371832), (720, 0.14982545591371832), (1373, 0.14982545591371832), (1615, 0.14982545591371832), (1697, 0.14982545591371832), (2590, 0.14982545591371832), (4218, 0.14982545591371832), (1, 0.14976548002408427), (151, 0.14976548002408427), (171, 0.14976548002408427), (258, 0.14976548002408427), (379, 0.14976548002408427), (390, 0.14976548002408427), (565, 0.14976548002408427), (567, 0.14976548002408427), (572, 0.14976548002408427), (591, 0.14976548002408427), (599, 0.14976548002408427), (600, 0.14976548002408427), (601, 0.14976548002408427), (602, 0.14976548002408427), (603, 0.14976548002408427), (681, 0.14976548002408427), (1091, 0.14976548002408427), (1151, 0.14976548002408427), (1269, 0.14976548002408427), (1354, 0.14976548002408427), (1579, 0.14976548002408427), (1948, 0.14976548002408427), (2233, 0.14976548002408427), (2713, 0.14976548002408427), (2749, 0.14976548002408427), (2850, 0.14976548002408427), (2860, 0.14976548002408427), (2898, 0.14976548002408427), (2950, 0.14976548002408427), (3132, 0.14976548002408427), (3193, 0.14976548002408427), (3427, 0.14976548002408427), (3467, 0.14976548002408427), (3469, 0.14976548002408427), (3532, 0.14976548002408427), (3690, 0.14976548002408427), (3693, 0.14976548002408427), (3743, 0.14976548002408427), (3840, 0.14976548002408427), (3869, 0.14976548002408427), (3937, 0.14976548002408427), (3968, 0.14976548002408427), (3972, 0.14976548002408427), (3977, 0.14976548002408427), (3982, 0.14976548002408427), (4041, 0.14976548002408427), (4077, 0.14976548002408427), (4128, 0.14976548002408427), (4153, 0.14976548002408427), (4181, 0.14976548002408427), (4238, 0.14976548002408427), (4493, 0.14976548002408427), (32, 0.14959806202159917), (826, 0.14959806202159917), (856, 0.14959806202159917), (1352, 0.14959806202159917), (1016, 0.14935533933460898), (1607, 0.14935533933460898), (1755, 0.14935533933460898), (2095, 0.14935533933460898), (2332, 0.14935533933460898), (2352, 0.14935533933460898), (2365, 0.14935533933460898), (2414, 0.14935533933460898), (2885, 0.14935533933460898), (3482, 0.14935533933460898), (3817, 0.14935533933460898), (3871, 0.14935533933460898), (3991, 0.14935533933460898), (4009, 0.14935533933460898), (4196, 0.14935533933460898), (4526, 0.14935533933460898), (52, 0.149051763614307), (3317, 0.149051763614307), (854, 0.14894273300551994), (2103, 0.14894273300551994), (2862, 0.14894273300551994), (4202, 0.14894273300551994), (1677, 0.1487423205623714), (3889, 0.1487423205623714), (3919, 0.1487423205623714), (800, 0.14871189718466), (804, 0.14871189718466), (1044, 0.14871189718466), (2540, 0.14871189718466), (4255, 0.14871189718466), (981, 0.1486310389473645), (1413, 0.1486310389473645), (1653, 0.1486310389473645), (2061, 0.1486310389473645), (2091, 0.1486310389473645), (3623, 0.1486310389473645), (3692, 0.1486310389473645), (4046, 0.1486310389473645), (4490, 0.1486310389473645), (4261, 0.14842339282813286), (413, 0.14823367665331894), (1361, 0.14823367665331894), (1783, 0.14823367665331894), (2756, 0.14823367665331894), (2770, 0.14823367665331894), (3080, 0.14823367665331894), (849, 0.14820641885581723), (2771, 0.14788496621777913), (480, 0.14782346970256502), (2286, 0.14774405123163417), (3051, 0.14774405123163417), (903, 0.1475076324763089), (2811, 0.14696462511482544), (2055, 0.14692883681000893), (2260, 0.14692723831723592), (2812, 0.14692723831723592), (57, 0.14687990951975002), (882, 0.14687990951975002), (4613, 0.14687990951975002), (4726, 0.14687990951975002), (1541, 0.14674717447380242), (1791, 0.14666516088902187), (4285, 0.14666516088902187), (2745, 0.14654203583470346), (3363, 0.14654203583470346), (725, 0.14651075783632592), (1466, 0.14651075783632592), (1604, 0.14651075783632592), (733, 0.14624514226258556), (3888, 0.14622481976576096), (871, 0.1460426513959932), (28, 0.14581270498229398), (751, 0.14581270498229398), (1249, 0.14581270498229398), (1750, 0.14581270498229398), (1836, 0.14581270498229398), (2018, 0.14581270498229398), (3559, 0.14581270498229398), (1894, 0.14577081772464195), (703, 0.14555244423711977), (1539, 0.14555244423711977), (1714, 0.14553168317408988), (4037, 0.14553168317408988), (64, 0.14537925122428724), (2038, 0.14537925122428724), (3515, 0.14537925122428724), (4250, 0.14537925122428724), (242, 0.1453609032346764), (3346, 0.1453609032346764), (4643, 0.1453609032346764), (926, 0.1452569940517691), (217, 0.14520499412183907), (1014, 0.14502127168430604), (684, 0.14479736120107645), (1438, 0.14479736120107645), (452, 0.14441525453569742), (2888, 0.14441525453569742), (3328, 0.14441525453569742), (1308, 0.14439489094266084), (700, 0.14422396722778524), (2162, 0.14413282544485273), (1706, 0.14397392244717566), (1716, 0.14385030762439394), (3303, 0.14316347344857927), (2289, 0.1430089786164117), (3262, 0.1430089786164117), (3347, 0.1430089786164117), (3827, 0.1430089786164117), (3927, 0.1430089786164117), (1477, 0.1429683878358748), (3389, 0.1429683878358748), (492, 0.14275193914051745), (1046, 0.14275193914051745), (1467, 0.14275193914051745), (2114, 0.14275193914051745), (2643, 0.1426573164329805), (263, 0.14253865076312133), (264, 0.14253865076312133), (177, 0.1423966296526767), (2654, 0.1423966296526767), (2938, 0.1423966296526767), (3847, 0.1423966296526767), (4322, 0.1423567185077027), (1323, 0.1423508747261064), (3202, 0.1422303699748954), (852, 0.1422237394861482), (1219, 0.1422237394861482), (1475, 0.1422237394861482), (2048, 0.1422237394861482), (185, 0.1421849275806854), (219, 0.1421849275806854), (409, 0.1421849275806854), (421, 0.1421849275806854), (461, 0.1421849275806854), (920, 0.1421849275806854), (1085, 0.1421849275806854), (1165, 0.1421849275806854), (1327, 0.1421849275806854), (1333, 0.1421849275806854), (1521, 0.1421849275806854), (1640, 0.1421849275806854), (1700, 0.1421849275806854), (1844, 0.1421849275806854), (1999, 0.1421849275806854), (2183, 0.1421849275806854), (2329, 0.1421849275806854), (2504, 0.1421849275806854), (3287, 0.1421849275806854), (3395, 0.1421849275806854), (3397, 0.1421849275806854), (3444, 0.1421849275806854), (3574, 0.1421849275806854), (3735, 0.1421849275806854), (3803, 0.1421849275806854), (3865, 0.1421849275806854), (4086, 0.1421849275806854), (4195, 0.1421849275806854), (4303, 0.1421849275806854), (4341, 0.1421849275806854), (4347, 0.1421849275806854), (4457, 0.1421849275806854), (4492, 0.1421849275806854), (4570, 0.1421849275806854), (472, 0.14215300460373698), (2280, 0.14206585999883783), (1822, 0.1418288022652649), (3311, 0.1418288022652649), (127, 0.14173075103980085), (1136, 0.14173075103980085), (2350, 0.14173075103980085), (686, 0.1417088121711957), (2337, 0.1417088121711957), (4364, 0.1417088121711957), (576, 0.1416333315380597), (1463, 0.1416333315380597), (1875, 0.1416333315380597), (2430, 0.1416333315380597), (2709, 0.14125527899504245), (3568, 0.14059884964593805), (3700, 0.14059884964593805), (1161, 0.14047046779922573), (467, 0.14040462673414886), (468, 0.14040462673414886), (469, 0.14040462673414886), (2567, 0.14040462673414886), (39, 0.14033657019701068), (46, 0.14033657019701068), (67, 0.14033657019701068), (69, 0.14033657019701068), (78, 0.14033657019701068), (80, 0.14033657019701068), (90, 0.14033657019701068), (93, 0.14033657019701068), (94, 0.14033657019701068), (95, 0.14033657019701068), (152, 0.14033657019701068), (189, 0.14033657019701068), (234, 0.14033657019701068), (260, 0.14033657019701068), (261, 0.14033657019701068), (314, 0.14033657019701068), (397, 0.14033657019701068), (537, 0.14033657019701068), (666, 0.14033657019701068), (756, 0.14033657019701068), (1134, 0.14033657019701068), (1262, 0.14033657019701068), (1280, 0.14033657019701068), (1396, 0.14033657019701068), (1554, 0.14033657019701068), (1566, 0.14033657019701068), (1772, 0.14033657019701068), (2413, 0.14033657019701068), (2442, 0.14033657019701068), (2501, 0.14033657019701068), (3100, 0.14033657019701068), (3133, 0.14033657019701068), (3134, 0.14033657019701068), (3361, 0.14033657019701068), (3367, 0.14033657019701068), (3405, 0.14033657019701068), (3744, 0.14033657019701068), (3787, 0.14033657019701068), (3907, 0.14033657019701068), (4091, 0.14033657019701068), (271, 0.1402632600277145), (515, 0.14024533038001183), (4283, 0.14019879585400402), (4323, 0.14004422317085613), (773, 0.1399291570371175), (498, 0.13972414060845212), (528, 0.13972414060845212), (1310, 0.13972414060845212), (1368, 0.13972414060845212), (2389, 0.13972414060845212), (2616, 0.13972414060845212), (2672, 0.13972414060845212), (1069, 0.13958922225085313), (1908, 0.13958922225085313), (3709, 0.13958922225085313), (574, 0.13941968972967886), (2118, 0.13941968972967886), (4635, 0.13941968972967886), (1460, 0.13934261012835128), (333, 0.13923053576992997), (1137, 0.13923053576992997), (1230, 0.13923053576992997), (3045, 0.13923053576992997), (3679, 0.1391112588388937), (3752, 0.13909706626207857), (986, 0.13909599023332966), (1471, 0.13909599023332966), (1039, 0.13846339198426702), (2256, 0.13846339198426702), (2300, 0.13846339198426702), (2750, 0.13846339198426702), (3025, 0.13846339198426702), (3145, 0.13846339198426702), (3976, 0.13846339198426702), (4170, 0.13846339198426702), (4179, 0.13846339198426702), (4485, 0.13846339198426702), (4651, 0.13846339198426702), (368, 0.13830580779936136), (97, 0.13823229399477138), (184, 0.13823229399477138), (267, 0.13823229399477138), (374, 0.13823229399477138), (387, 0.13823229399477138), (441, 0.13823229399477138), (815, 0.13823229399477138), (934, 0.13823229399477138), (1131, 0.13823229399477138), (1748, 0.13823229399477138), (1896, 0.13823229399477138), (2482, 0.13823229399477138), (2520, 0.13823229399477138), (2743, 0.13823229399477138), (3316, 0.13823229399477138), (3749, 0.13823229399477138), (3799, 0.13823229399477138), (4024, 0.13823229399477138), (4228, 0.13823229399477138), (4521, 0.13823229399477138), (872, 0.13783855348089744), (726, 0.1377364501148517), (1955, 0.1377364501148517), (1802, 0.13768984786180757), (3834, 0.13768984786180757), (1273, 0.1375597154666679), (1398, 0.1375597154666679), (3795, 0.1375597154666679), (1224, 0.13747475555415095), (4487, 0.13723641680378024), (802, 0.13670846256116165), (4523, 0.13669320528825185), (2394, 0.13667698139698714), (2796, 0.13667698139698714), (2926, 0.13667698139698714), (405, 0.13649667672797616), (1212, 0.1364525428791036), (662, 0.13614212586853494), (1246, 0.13614212586853494), (1578, 0.13614212586853494), (3790, 0.13614212586853494), (3812, 0.13614212586853494), (4191, 0.13614212586853494), (1245, 0.13611410171835914), (2527, 0.13611410171835914), (1285, 0.13609712271860144), (2803, 0.13590594673502226), (45, 0.1355406451902449), (73, 0.1355406451902449), (91, 0.1355406451902449), (1013, 0.1355406451902449), (1911, 0.1355406451902449), (2049, 0.13547459361911923), (2603, 0.13547459361911923), (3513, 0.13526906596244784), (3980, 0.13514790216328632), (1971, 0.13507289835593306), (4171, 0.1350120915325182), (3637, 0.1349006602909913), (2398, 0.13487432640019942), (1256, 0.13459941050724059), (1903, 0.13459941050724059), (2086, 0.13459941050724059), (2500, 0.13459941050724059), (945, 0.13456843526814244), (1113, 0.13456843526814244), (2426, 0.13456843526814244), (375, 0.1345169326251133), (1129, 0.1345169326251133), (2544, 0.1345169326251133), (386, 0.1341179055740142), (1728, 0.1341179055740142), (2294, 0.1341179055740142), (2670, 0.1341179055740142), (2935, 0.1341179055740142), (2421, 0.13364304726359785), (2242, 0.13361905452519046), (632, 0.13359232650530078), (2150, 0.13346576864909326), (2153, 0.13346576864909326), (2433, 0.13346576864909326), (2584, 0.13346576864909326), (3628, 0.13346576864909326), (4112, 0.13346576864909326), (4199, 0.13346576864909326), (4210, 0.13346576864909326), (1074, 0.1333672751948549), (1358, 0.13307174674084804), (335, 0.13291891625630692), (3473, 0.13291891625630692), (3607, 0.13291891625630692), (951, 0.1327218300116233), (3676, 0.1326959765835439), (134, 0.13269256597170645), (1020, 0.13238466217703332), (2388, 0.13238466217703332), (2705, 0.13238466217703332), (3417, 0.13238466217703332), (3558, 0.13238466217703332), (3669, 0.13238466217703332), (302, 0.13235706212362583), (712, 0.13202915779914404), (4351, 0.13173015621417444), (2822, 0.13169048498623676), (3870, 0.13169048498623676), (3152, 0.13151191342091617), (1418, 0.1313676819160325), (491, 0.13131193375646272), (613, 0.13131193375646272), (1111, 0.13131193375646272), (2691, 0.13131193375646272), (2955, 0.13131193375646272), (3463, 0.13131193375646272), (3783, 0.13131193375646272), (3798, 0.13131193375646272), (4070, 0.13131193375646272), (3008, 0.13103924283542062), (58, 0.13103522513258462), (909, 0.13103522513258462), (1529, 0.13103522513258462), (1600, 0.13103522513258462), (2532, 0.13103522513258462), (3272, 0.13103522513258462), (4034, 0.13103522513258462), (4270, 0.13103522513258462), (4455, 0.13103522513258462), (3034, 0.13098984165895608), (696, 0.1307151864709177), (4282, 0.1307151864709177), (3408, 0.13062066160012595), (3205, 0.13046586686439243), (913, 0.13029074618667968), (1296, 0.13029074618667968), (1613, 0.13027579164862457), (3089, 0.13027579164862457), (1530, 0.13025622478457916), (3747, 0.13025622478457916), (92, 0.1301804692343017), (269, 0.1301804692343017), (651, 0.1301804692343017), (1241, 0.1301804692343017), (2083, 0.1301804692343017), (2634, 0.1301804692343017), (4143, 0.1301804692343017), (4752, 0.1301804692343017), (3641, 0.1297821186389635), (2831, 0.1290831610780798), (2386, 0.12856837305762941), (3014, 0.12856837305762941), (918, 0.12855552968379236), (2867, 0.12845044415004858), (1171, 0.1283254193025752), (2466, 0.12826456705126796), (2916, 0.12826456705126796), (2652, 0.12814790932883488), (497, 0.12792490292816946), (2125, 0.12792490292816946), (3923, 0.12792490292816946), (2856, 0.1277891108473621), (419, 0.12776849781917932), (3198, 0.1273141399356483), (3579, 0.1273141399356483), (1160, 0.12693211589899858), (1366, 0.12683288910050003), (2265, 0.12665823349264752), (2484, 0.12637383181175846), (1341, 0.12635914193361314), (1468, 0.12635914193361314), (1982, 0.12635914193361314), (2843, 0.12635914193361314), (3965, 0.12635914193361314), (361, 0.12611252002595896), (362, 0.12611252002595896), (363, 0.12611252002595896), (365, 0.12611252002595896), (1495, 0.12611252002595896), (1601, 0.12611252002595896), (2019, 0.12611252002595896), (2688, 0.12611252002595896), (3286, 0.12611252002595896), (3461, 0.12611252002595896), (3805, 0.12611252002595896), (4099, 0.12611252002595896), (257, 0.12577994376836965), (977, 0.12577994376836965), (2065, 0.1252612015568821), (1505, 0.12515880941413993), (2666, 0.12515880941413993), (3533, 0.12495440345178964), (3682, 0.12495440345178964), (745, 0.1248385523918572), (6, 0.12481742110436714), (1150, 0.12481742110436714), (2136, 0.12481742110436714), (2330, 0.12481742110436714), (4439, 0.12449843956113539), (2714, 0.12433994742968364), (1606, 0.12426017431824007), (3553, 0.12420582492259369), (1841, 0.12411653887040322), (4754, 0.12411653887040322), (821, 0.12408623640301451), (1828, 0.12397768761894473), (3706, 0.12397768761894473), (2844, 0.12391246633033848), (4590, 0.12384446256378702), (4629, 0.12384446256378702), (2777, 0.12374680611960645), (3645, 0.12374680611960645), (2269, 0.12321967198989604), (2521, 0.12320707526775732), (819, 0.12282367707254108), (1764, 0.12201410142293297), (2318, 0.12183253909223764), (936, 0.12176234382361749), (2479, 0.12167379825342972), (4581, 0.12151111830896091), (546, 0.12140695376296115), (2729, 0.12140695376296115), (3141, 0.12140695376296115), (165, 0.12132979287120559), (496, 0.12132979287120559), (631, 0.12132979287120559), (1547, 0.12132979287120559), (1570, 0.12132979287120559), (1886, 0.12132979287120559), (2010, 0.12132979287120559), (3742, 0.12132979287120559), (282, 0.1211621645882735), (1810, 0.12115641133859953), (2451, 0.12115641133859953), (2556, 0.12049226645148367), (3199, 0.12049226645148367), (1474, 0.12043994974272046), (3062, 0.12027401621074989), (2283, 0.12003756972694657), (2766, 0.1196822617251615), (3404, 0.11936069268134131), (2706, 0.11917572879495449), (3181, 0.119088387599775), (3963, 0.11904012409600553), (3255, 0.11846534039534382), (4110, 0.11846534039534382), (3374, 0.11826656436592196), (1316, 0.11773568378346409), (2708, 0.11735213184041379), (2450, 0.1172335523365724), (2539, 0.1172335523365724), (3685, 0.1172335523365724), (2415, 0.11686287426690382), (3241, 0.11629796483091613), (2067, 0.11626121151338596), (2715, 0.11602493145004428), (961, 0.11574185029895268), (2813, 0.11574185029895268), (3539, 0.11574185029895268), (1011, 0.11562500576500294), (2880, 0.1153489209002377), (2717, 0.11493680472986405), (674, 0.11446496813843818), (4676, 0.11446496813843818), (912, 0.1137766998417192), (4346, 0.1137766998417192), (1775, 0.11306912793041793), (1108, 0.112853339725682), (1198, 0.1126775424691598), (3366, 0.1126775424691598), (2011, 0.11097968995789506), (1195, 0.11074495790022719), (1664, 0.11074495790022719), (2927, 0.11074495790022719), (2946, 0.1041863781735996), (4145, 0.08524684606573288), (4166, 0.08487095110092295), (4357, 0.08384631554841294), (3828, 0.08293976084945227), (2772, 0.08219769801098353), (2207, 0.07883997591585687), (1830, 0.07746047717626525)]\n"
          ]
        }
      ]
    },
    {
      "cell_type": "markdown",
      "source": [
        " **Movie Recommendation**"
      ],
      "metadata": {
        "id": "xg7QFpuRMh4k"
      }
    },
    {
      "cell_type": "code",
      "source": [
        " print('Top 30 movies recommended for you : \\n')\n",
        "\n",
        "i=1\n",
        "\n",
        "for movie in sorted_similar_movies:\n",
        "  index=movie[0]\n",
        "  title_from_index=df[df.index==index]['Movie_Title'].values[0]\n",
        "  if(i<31):\n",
        "    print(i,',',title_from_index)\n",
        "    i+=1"
      ],
      "metadata": {
        "id": "uo0O6XNgR3n-",
        "colab": {
          "base_uri": "https://localhost:8080/"
        },
        "outputId": "40785509-10f4-4d5d-a147-02858a5314bd"
      },
      "execution_count": null,
      "outputs": [
        {
          "output_type": "stream",
          "name": "stdout",
          "text": [
            "Top 30 movies recommended for you : \n",
            "\n",
            "1 , Silent Hill\n",
            "2 , The Blair Witch Project\n",
            "3 , Scream 2\n",
            "4 , Scream 3\n",
            "5 , [REC]\n",
            "6 , Final Destination 3\n",
            "7 , Final Destination 2\n",
            "8 , Session 9\n",
            "9 , My Bloody Valentine\n",
            "10 , The Final Destination\n",
            "11 , Saw VI\n",
            "12 , Paranormal Activity\n",
            "13 , April Fool's Day\n",
            "14 , The House of the Devil\n",
            "15 , Scream 4\n",
            "16 , Final Destination 5\n",
            "17 , Silent House\n",
            "18 , The Wailing\n",
            "19 , The Witch\n",
            "20 , Rosemary's Baby\n",
            "21 , The Mothman Prophecies\n",
            "22 , Let Me In\n",
            "23 , Evolution\n",
            "24 , The Ninth Gate\n",
            "25 , From Hell\n",
            "26 , The Grudge\n",
            "27 , I Know What You Did Last Summer\n",
            "28 , I Still Know What You Did Last Summer\n",
            "29 , One Missed Call\n",
            "30 , All the Boys Love Mandy Lane\n"
          ]
        }
      ]
    }
  ]
}